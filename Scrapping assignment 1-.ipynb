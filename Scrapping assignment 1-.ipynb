{
 "cells": [
  {
   "cell_type": "markdown",
   "id": "7100c794",
   "metadata": {},
   "source": [
    "# Question 2 and 3 IMDB'S"
   ]
  },
  {
   "cell_type": "code",
   "execution_count": null,
   "id": "002111b3",
   "metadata": {},
   "outputs": [],
   "source": [
    "!pip install bs4\n",
    "!pip install requests"
   ]
  },
  {
   "cell_type": "code",
   "execution_count": 2,
   "id": "5251933d",
   "metadata": {},
   "outputs": [],
   "source": [
    "from bs4 import BeautifulSoup\n",
    "import requests"
   ]
  },
  {
   "cell_type": "code",
   "execution_count": 3,
   "id": "753ec518",
   "metadata": {},
   "outputs": [],
   "source": [
    "page = requests.get('https://www.imdb.com/india/top-rated-indian-movies')"
   ]
  },
  {
   "cell_type": "code",
   "execution_count": null,
   "id": "d798460b",
   "metadata": {},
   "outputs": [],
   "source": [
    "page"
   ]
  },
  {
   "cell_type": "code",
   "execution_count": null,
   "id": "b313979f",
   "metadata": {},
   "outputs": [],
   "source": [
    "soup = BeautifulSoup(page.content)\n",
    "soup"
   ]
  },
  {
   "cell_type": "code",
   "execution_count": null,
   "id": "9225a4fb",
   "metadata": {},
   "outputs": [],
   "source": [
    "titles=[]\n",
    "\n",
    "for i in soup.find_all('td',class_=\"titleColumn\"):\n",
    "    titles.append(i.text)\n",
    "    \n",
    "    \n",
    "titles"
   ]
  },
  {
   "cell_type": "code",
   "execution_count": null,
   "id": "5e7ce0be",
   "metadata": {},
   "outputs": [],
   "source": [
    "rating=[]\n",
    "\n",
    "for i in soup.find_all('td',class_=\"ratingColumn imdbRating\"):\n",
    "    rating.append(i.text)\n",
    "    \n",
    "rating"
   ]
  },
  {
   "cell_type": "code",
   "execution_count": null,
   "id": "351e7a66",
   "metadata": {},
   "outputs": [],
   "source": [
    "year=[]\n",
    "for i  in soup.find_all('span',class_=\"secondaryInfo\"):\n",
    "        year.append(i.text)\n",
    "year             "
   ]
  },
  {
   "cell_type": "code",
   "execution_count": 9,
   "id": "ff6e1e32",
   "metadata": {},
   "outputs": [
    {
     "name": "stdout",
     "output_type": "stream",
     "text": [
      "250 250 250\n"
     ]
    }
   ],
   "source": [
    "print(len(titles),len(rating),len(year))"
   ]
  },
  {
   "cell_type": "code",
   "execution_count": 10,
   "id": "c6b4b831",
   "metadata": {},
   "outputs": [
    {
     "data": {
      "text/html": [
       "<div>\n",
       "<style scoped>\n",
       "    .dataframe tbody tr th:only-of-type {\n",
       "        vertical-align: middle;\n",
       "    }\n",
       "\n",
       "    .dataframe tbody tr th {\n",
       "        vertical-align: top;\n",
       "    }\n",
       "\n",
       "    .dataframe thead th {\n",
       "        text-align: right;\n",
       "    }\n",
       "</style>\n",
       "<table border=\"1\" class=\"dataframe\">\n",
       "  <thead>\n",
       "    <tr style=\"text-align: right;\">\n",
       "      <th></th>\n",
       "      <th>Titles</th>\n",
       "      <th>Rating</th>\n",
       "      <th>Year</th>\n",
       "    </tr>\n",
       "  </thead>\n",
       "  <tbody>\n",
       "    <tr>\n",
       "      <th>0</th>\n",
       "      <td>\\n      1.\\n      Jai Bhim\\n(2021)\\n</td>\n",
       "      <td>\\n8.4\\n</td>\n",
       "      <td>(2021)</td>\n",
       "    </tr>\n",
       "    <tr>\n",
       "      <th>1</th>\n",
       "      <td>\\n      2.\\n      Anbe Sivam\\n(2003)\\n</td>\n",
       "      <td>\\n8.4\\n</td>\n",
       "      <td>(2003)</td>\n",
       "    </tr>\n",
       "    <tr>\n",
       "      <th>2</th>\n",
       "      <td>\\n      3.\\n      Golmaal\\n(1979)\\n</td>\n",
       "      <td>\\n8.4\\n</td>\n",
       "      <td>(1979)</td>\n",
       "    </tr>\n",
       "    <tr>\n",
       "      <th>3</th>\n",
       "      <td>\\n      4.\\n      Nayakan\\n(1987)\\n</td>\n",
       "      <td>\\n8.4\\n</td>\n",
       "      <td>(1987)</td>\n",
       "    </tr>\n",
       "    <tr>\n",
       "      <th>4</th>\n",
       "      <td>\\n      5.\\n      Pariyerum Perumal\\n(2018)\\n</td>\n",
       "      <td>\\n8.4\\n</td>\n",
       "      <td>(2018)</td>\n",
       "    </tr>\n",
       "    <tr>\n",
       "      <th>...</th>\n",
       "      <td>...</td>\n",
       "      <td>...</td>\n",
       "      <td>...</td>\n",
       "    </tr>\n",
       "    <tr>\n",
       "      <th>245</th>\n",
       "      <td>\\n      246.\\n      Arya\\n(2004)\\n</td>\n",
       "      <td>\\n7.6\\n</td>\n",
       "      <td>(2004)</td>\n",
       "    </tr>\n",
       "    <tr>\n",
       "      <th>246</th>\n",
       "      <td>\\n      247.\\n      Samsara\\n(2001)\\n</td>\n",
       "      <td>\\n7.6\\n</td>\n",
       "      <td>(2001)</td>\n",
       "    </tr>\n",
       "    <tr>\n",
       "      <th>247</th>\n",
       "      <td>\\n      248.\\n      Eega\\n(2012)\\n</td>\n",
       "      <td>\\n7.6\\n</td>\n",
       "      <td>(2012)</td>\n",
       "    </tr>\n",
       "    <tr>\n",
       "      <th>248</th>\n",
       "      <td>\\n      249.\\n      Newton\\n(2017)\\n</td>\n",
       "      <td>\\n7.6\\n</td>\n",
       "      <td>(2017)</td>\n",
       "    </tr>\n",
       "    <tr>\n",
       "      <th>249</th>\n",
       "      <td>\\n      250.\\n      Mumbai Meri Jaan\\n(2008)\\n</td>\n",
       "      <td>\\n7.6\\n</td>\n",
       "      <td>(2008)</td>\n",
       "    </tr>\n",
       "  </tbody>\n",
       "</table>\n",
       "<p>250 rows × 3 columns</p>\n",
       "</div>"
      ],
      "text/plain": [
       "                                             Titles   Rating    Year\n",
       "0              \\n      1.\\n      Jai Bhim\\n(2021)\\n  \\n8.4\\n  (2021)\n",
       "1            \\n      2.\\n      Anbe Sivam\\n(2003)\\n  \\n8.4\\n  (2003)\n",
       "2               \\n      3.\\n      Golmaal\\n(1979)\\n  \\n8.4\\n  (1979)\n",
       "3               \\n      4.\\n      Nayakan\\n(1987)\\n  \\n8.4\\n  (1987)\n",
       "4     \\n      5.\\n      Pariyerum Perumal\\n(2018)\\n  \\n8.4\\n  (2018)\n",
       "..                                              ...      ...     ...\n",
       "245              \\n      246.\\n      Arya\\n(2004)\\n  \\n7.6\\n  (2004)\n",
       "246           \\n      247.\\n      Samsara\\n(2001)\\n  \\n7.6\\n  (2001)\n",
       "247              \\n      248.\\n      Eega\\n(2012)\\n  \\n7.6\\n  (2012)\n",
       "248            \\n      249.\\n      Newton\\n(2017)\\n  \\n7.6\\n  (2017)\n",
       "249  \\n      250.\\n      Mumbai Meri Jaan\\n(2008)\\n  \\n7.6\\n  (2008)\n",
       "\n",
       "[250 rows x 3 columns]"
      ]
     },
     "execution_count": 10,
     "metadata": {},
     "output_type": "execute_result"
    }
   ],
   "source": [
    "#data frame\n",
    "\n",
    "import pandas as pd\n",
    "df= pd.DataFrame({'Titles':titles,'Rating':rating,'Year':year})\n",
    "df"
   ]
  },
  {
   "cell_type": "code",
   "execution_count": 11,
   "id": "951fea0e",
   "metadata": {},
   "outputs": [
    {
     "name": "stdout",
     "output_type": "stream",
     "text": [
      "                                               Titles   Rating    Year\n",
      "0                \\n      1.\\n      Jai Bhim\\n(2021)\\n  \\n8.4\\n  (2021)\n",
      "1              \\n      2.\\n      Anbe Sivam\\n(2003)\\n  \\n8.4\\n  (2003)\n",
      "2                 \\n      3.\\n      Golmaal\\n(1979)\\n  \\n8.4\\n  (1979)\n",
      "3                 \\n      4.\\n      Nayakan\\n(1987)\\n  \\n8.4\\n  (1987)\n",
      "4       \\n      5.\\n      Pariyerum Perumal\\n(2018)\\n  \\n8.4\\n  (2018)\n",
      "..                                                ...      ...     ...\n",
      "95                \\n      96.\\n      Masaan\\n(2015)\\n  \\n8.0\\n  (2015)\n",
      "96        \\n      97.\\n      Dil Chahta Hai\\n(2001)\\n  \\n8.0\\n  (2001)\n",
      "97               \\n      98.\\n      Kahaani\\n(2012)\\n  \\n8.0\\n  (2012)\n",
      "98  \\n      99.\\n      Maheshinte Prathikaaram\\n(2...  \\n8.0\\n  (2016)\n",
      "99  \\n      100.\\n      RRR (Rise Roar Revolt)\\n(2...  \\n8.0\\n  (2022)\n",
      "\n",
      "[100 rows x 3 columns]\n"
     ]
    }
   ],
   "source": [
    "print(df.iloc[0:100])"
   ]
  },
  {
   "cell_type": "markdown",
   "id": "ae605ca9",
   "metadata": {},
   "source": [
    "# Question 4"
   ]
  },
  {
   "cell_type": "code",
   "execution_count": null,
   "id": "ac613a4b",
   "metadata": {},
   "outputs": [],
   "source": [
    "page = requests.get('https://meesho.com/bags-ladies/pl/p7vbp')\n",
    "page"
   ]
  },
  {
   "cell_type": "code",
   "execution_count": null,
   "id": "94875253",
   "metadata": {},
   "outputs": [],
   "source": [
    "soup = BeautifulSoup(page.content)\n",
    "soup               "
   ]
  },
  {
   "cell_type": "code",
   "execution_count": null,
   "id": "a734a3ea",
   "metadata": {},
   "outputs": [],
   "source": [
    "name=[]\n",
    "\n",
    "for i in soup.find_all('p',class_=\"Text__StyledText-sc-oo0kvp-0 bWSOET NewProductCard__ProductTitle_Desktop-sc-j0e7tu-4 cQhePS NewProductCard__ProductTitle_Desktop-sc-j0e7tu-4 cQhePS\"):\n",
    "    name.append(i.text)\n",
    "name"
   ]
  },
  {
   "cell_type": "code",
   "execution_count": null,
   "id": "eff3968b",
   "metadata": {},
   "outputs": [],
   "source": [
    "price=[]\n",
    "\n",
    "for i in soup.find_all('h5',class_='Text__StyledText-sc-oo0kvp-0 hiHdyy'):\n",
    "    price.append(i.text)\n",
    "\n",
    "price "
   ]
  },
  {
   "cell_type": "code",
   "execution_count": 16,
   "id": "1d7698e8",
   "metadata": {},
   "outputs": [
    {
     "data": {
      "text/plain": [
       "['9% off',\n",
       " '5% off',\n",
       " '5% off',\n",
       " '3% off',\n",
       " '5% off',\n",
       " '2% off',\n",
       " '14% off',\n",
       " '5% off',\n",
       " '2% off',\n",
       " '9% off',\n",
       " '6% off',\n",
       " '4% off',\n",
       " '5% off',\n",
       " '7% off',\n",
       " '7% off']"
      ]
     },
     "execution_count": 16,
     "metadata": {},
     "output_type": "execute_result"
    }
   ],
   "source": [
    "discount=[]\n",
    "for i in soup.find_all('span',class_=\"Text__StyledText-sc-oo0kvp-0 lnonyH\"):\n",
    "    discount.append(i.text)\n",
    "\n",
    "discount    \n",
    "\n",
    "    "
   ]
  },
  {
   "cell_type": "code",
   "execution_count": 17,
   "id": "842bee07",
   "metadata": {},
   "outputs": [
    {
     "name": "stdout",
     "output_type": "stream",
     "text": [
      "15 15 15\n"
     ]
    }
   ],
   "source": [
    "print(len(name),len(price),len(discount))\n"
   ]
  },
  {
   "cell_type": "code",
   "execution_count": 18,
   "id": "91b22951",
   "metadata": {},
   "outputs": [
    {
     "data": {
      "text/html": [
       "<div>\n",
       "<style scoped>\n",
       "    .dataframe tbody tr th:only-of-type {\n",
       "        vertical-align: middle;\n",
       "    }\n",
       "\n",
       "    .dataframe tbody tr th {\n",
       "        vertical-align: top;\n",
       "    }\n",
       "\n",
       "    .dataframe thead th {\n",
       "        text-align: right;\n",
       "    }\n",
       "</style>\n",
       "<table border=\"1\" class=\"dataframe\">\n",
       "  <thead>\n",
       "    <tr style=\"text-align: right;\">\n",
       "      <th></th>\n",
       "      <th>Name</th>\n",
       "      <th>Price</th>\n",
       "      <th>Discount</th>\n",
       "    </tr>\n",
       "  </thead>\n",
       "  <tbody>\n",
       "    <tr>\n",
       "      <th>0</th>\n",
       "      <td>Graceful Fancy Women Handbags</td>\n",
       "      <td>₹528</td>\n",
       "      <td>9% off</td>\n",
       "    </tr>\n",
       "    <tr>\n",
       "      <th>1</th>\n",
       "      <td>Ravishing Classy Women Handbags</td>\n",
       "      <td>₹950</td>\n",
       "      <td>5% off</td>\n",
       "    </tr>\n",
       "    <tr>\n",
       "      <th>2</th>\n",
       "      <td>Classic Versatile Women Handbags</td>\n",
       "      <td>₹950</td>\n",
       "      <td>5% off</td>\n",
       "    </tr>\n",
       "    <tr>\n",
       "      <th>3</th>\n",
       "      <td>Voguish Fancy Women Handbags</td>\n",
       "      <td>₹1549</td>\n",
       "      <td>3% off</td>\n",
       "    </tr>\n",
       "    <tr>\n",
       "      <th>4</th>\n",
       "      <td>Graceful Versatile Women Handbags</td>\n",
       "      <td>₹950</td>\n",
       "      <td>5% off</td>\n",
       "    </tr>\n",
       "    <tr>\n",
       "      <th>5</th>\n",
       "      <td>Classic Stylish Women Handbags</td>\n",
       "      <td>₹3202</td>\n",
       "      <td>2% off</td>\n",
       "    </tr>\n",
       "    <tr>\n",
       "      <th>6</th>\n",
       "      <td>Ravishing Fashionable Women Handbags</td>\n",
       "      <td>₹316</td>\n",
       "      <td>14% off</td>\n",
       "    </tr>\n",
       "    <tr>\n",
       "      <th>7</th>\n",
       "      <td>Elegant Classy Women Handbags</td>\n",
       "      <td>₹950</td>\n",
       "      <td>5% off</td>\n",
       "    </tr>\n",
       "    <tr>\n",
       "      <th>8</th>\n",
       "      <td>Elegant Alluring Women Handbags</td>\n",
       "      <td>₹2337</td>\n",
       "      <td>2% off</td>\n",
       "    </tr>\n",
       "    <tr>\n",
       "      <th>9</th>\n",
       "      <td>Classic Alluring Women Handbags</td>\n",
       "      <td>₹518</td>\n",
       "      <td>9% off</td>\n",
       "    </tr>\n",
       "    <tr>\n",
       "      <th>10</th>\n",
       "      <td>Elegant Fashionable Women Handbags</td>\n",
       "      <td>₹725</td>\n",
       "      <td>6% off</td>\n",
       "    </tr>\n",
       "    <tr>\n",
       "      <th>11</th>\n",
       "      <td>Trendy Alluring Women Handbags</td>\n",
       "      <td>₹1320</td>\n",
       "      <td>4% off</td>\n",
       "    </tr>\n",
       "    <tr>\n",
       "      <th>12</th>\n",
       "      <td>Trendy Alluring Women Handbags</td>\n",
       "      <td>₹950</td>\n",
       "      <td>5% off</td>\n",
       "    </tr>\n",
       "    <tr>\n",
       "      <th>13</th>\n",
       "      <td>Classic Fancy Women Handbags</td>\n",
       "      <td>₹646</td>\n",
       "      <td>7% off</td>\n",
       "    </tr>\n",
       "    <tr>\n",
       "      <th>14</th>\n",
       "      <td>Classic Fashionable Women Handbags</td>\n",
       "      <td>₹620</td>\n",
       "      <td>7% off</td>\n",
       "    </tr>\n",
       "  </tbody>\n",
       "</table>\n",
       "</div>"
      ],
      "text/plain": [
       "                                    Name  Price Discount\n",
       "0          Graceful Fancy Women Handbags   ₹528   9% off\n",
       "1        Ravishing Classy Women Handbags   ₹950   5% off\n",
       "2       Classic Versatile Women Handbags   ₹950   5% off\n",
       "3           Voguish Fancy Women Handbags  ₹1549   3% off\n",
       "4      Graceful Versatile Women Handbags   ₹950   5% off\n",
       "5         Classic Stylish Women Handbags  ₹3202   2% off\n",
       "6   Ravishing Fashionable Women Handbags   ₹316  14% off\n",
       "7          Elegant Classy Women Handbags   ₹950   5% off\n",
       "8        Elegant Alluring Women Handbags  ₹2337   2% off\n",
       "9        Classic Alluring Women Handbags   ₹518   9% off\n",
       "10    Elegant Fashionable Women Handbags   ₹725   6% off\n",
       "11        Trendy Alluring Women Handbags  ₹1320   4% off\n",
       "12        Trendy Alluring Women Handbags   ₹950   5% off\n",
       "13          Classic Fancy Women Handbags   ₹646   7% off\n",
       "14    Classic Fashionable Women Handbags   ₹620   7% off"
      ]
     },
     "execution_count": 18,
     "metadata": {},
     "output_type": "execute_result"
    }
   ],
   "source": [
    "import pandas as pd\n",
    "df=pd.DataFrame({'Name':name,'Price':price,'Discount':discount})\n",
    "df"
   ]
  },
  {
   "cell_type": "markdown",
   "id": "6e463397",
   "metadata": {},
   "source": [
    "# Question 5 https://www.icc-cricket.com/rankings/mens/team-rankings/"
   ]
  },
  {
   "cell_type": "code",
   "execution_count": null,
   "id": "aedce4e1",
   "metadata": {},
   "outputs": [],
   "source": [
    "page=requests.get('https://www.icc-cricket.com/rankings/mens/team-rankings/odi')\n",
    "page"
   ]
  },
  {
   "cell_type": "code",
   "execution_count": null,
   "id": "53c2cdb1",
   "metadata": {},
   "outputs": [],
   "source": [
    "soup = BeautifulSoup(page.content)\n",
    "soup"
   ]
  },
  {
   "cell_type": "code",
   "execution_count": null,
   "id": "4b766fde",
   "metadata": {},
   "outputs": [],
   "source": [
    "name=[]\n",
    "for i in soup.find_all('span',class_=\"u-hide-phablet\"):\n",
    "    name.append(i.text)\n",
    "name    "
   ]
  },
  {
   "cell_type": "code",
   "execution_count": null,
   "id": "e4067803",
   "metadata": {},
   "outputs": [],
   "source": [
    "matches=[]\n",
    "for i in soup.find_all('tr',class_=\"table-body\"):\n",
    "    matches.append(i.text.split()[3:4])\n",
    "matches    "
   ]
  },
  {
   "cell_type": "code",
   "execution_count": 23,
   "id": "73c9abb4",
   "metadata": {},
   "outputs": [
    {
     "name": "stdout",
     "output_type": "stream",
     "text": [
      "25 19\n"
     ]
    }
   ],
   "source": [
    "print(len(name),len(matches))"
   ]
  },
  {
   "cell_type": "code",
   "execution_count": null,
   "id": "bbbb4985",
   "metadata": {},
   "outputs": [],
   "source": []
  },
  {
   "cell_type": "code",
   "execution_count": 24,
   "id": "7abad8de",
   "metadata": {},
   "outputs": [
    {
     "data": {
      "text/plain": [
       "'32'"
      ]
     },
     "execution_count": 24,
     "metadata": {},
     "output_type": "execute_result"
    }
   ],
   "source": [
    "match=soup.find('td',class_=\"table-body__cell u-center-text\")\n",
    "match.text"
   ]
  },
  {
   "cell_type": "code",
   "execution_count": null,
   "id": "40becd12",
   "metadata": {},
   "outputs": [],
   "source": []
  },
  {
   "cell_type": "code",
   "execution_count": 25,
   "id": "720c0ed5",
   "metadata": {},
   "outputs": [
    {
     "data": {
      "text/plain": [
       "<Response [200]>"
      ]
     },
     "execution_count": 25,
     "metadata": {},
     "output_type": "execute_result"
    }
   ],
   "source": [
    "page=requests.get('https://www.icc-cricket.com/rankings/mens/player-rankings/odi/batting')\n",
    "page"
   ]
  },
  {
   "cell_type": "code",
   "execution_count": null,
   "id": "4e74ffe1",
   "metadata": {},
   "outputs": [],
   "source": [
    "soup=BeautifulSoup(page.content)\n",
    "soup"
   ]
  },
  {
   "cell_type": "code",
   "execution_count": null,
   "id": "4708f96c",
   "metadata": {},
   "outputs": [],
   "source": []
  },
  {
   "cell_type": "code",
   "execution_count": null,
   "id": "eb18607f",
   "metadata": {},
   "outputs": [],
   "source": []
  },
  {
   "cell_type": "code",
   "execution_count": null,
   "id": "2e05cf91",
   "metadata": {},
   "outputs": [],
   "source": []
  },
  {
   "cell_type": "code",
   "execution_count": null,
   "id": "e69fa1ee",
   "metadata": {},
   "outputs": [],
   "source": []
  },
  {
   "cell_type": "markdown",
   "id": "3752a5b2",
   "metadata": {},
   "source": [
    "# Question 7 (https://coreyms.com/)"
   ]
  },
  {
   "cell_type": "code",
   "execution_count": null,
   "id": "12a3c473",
   "metadata": {},
   "outputs": [],
   "source": [
    "page=requests.get('https://coreyms.com/')\n",
    "page"
   ]
  },
  {
   "cell_type": "code",
   "execution_count": null,
   "id": "356a7c63",
   "metadata": {},
   "outputs": [],
   "source": [
    "soup=BeautifulSoup(page.content)\n",
    "soup"
   ]
  },
  {
   "cell_type": "code",
   "execution_count": null,
   "id": "a212f557",
   "metadata": {},
   "outputs": [],
   "source": [
    "heading = []\n",
    "for i in soup.find_all('h2',class_=\"entry-title\"):\n",
    "    heading.append(i.text)\n",
    "heading    "
   ]
  },
  {
   "cell_type": "code",
   "execution_count": null,
   "id": "3e822b95",
   "metadata": {},
   "outputs": [],
   "source": [
    "date=[]\n",
    "for i in soup.find_all('time',class_=\"entry-time\"):\n",
    "    date.append(i.text)\n",
    "date"
   ]
  },
  {
   "cell_type": "code",
   "execution_count": null,
   "id": "6f7c9523",
   "metadata": {
    "scrolled": true
   },
   "outputs": [],
   "source": [
    "content=[]\n",
    "for i in soup.find_all('div',class_=\"entry-content\"):\n",
    "    content.append(i.text)\n",
    "content    "
   ]
  },
  {
   "cell_type": "code",
   "execution_count": 32,
   "id": "2911c326",
   "metadata": {},
   "outputs": [
    {
     "data": {
      "text/plain": [
       "[]"
      ]
     },
     "execution_count": 32,
     "metadata": {},
     "output_type": "execute_result"
    }
   ],
   "source": [
    "url=[]\n",
    "for i in soup.find_all('div',class_=\"ytp-cued-thumbnail-overlay-image\"):\n",
    "    url.append(i.text)\n",
    "url    "
   ]
  },
  {
   "cell_type": "code",
   "execution_count": 33,
   "id": "839ab523",
   "metadata": {},
   "outputs": [
    {
     "name": "stdout",
     "output_type": "stream",
     "text": [
      "10 10 10\n"
     ]
    }
   ],
   "source": [
    "print(len(heading),len(date),len(content))"
   ]
  },
  {
   "cell_type": "code",
   "execution_count": 34,
   "id": "f42ca285",
   "metadata": {},
   "outputs": [
    {
     "data": {
      "text/html": [
       "<div>\n",
       "<style scoped>\n",
       "    .dataframe tbody tr th:only-of-type {\n",
       "        vertical-align: middle;\n",
       "    }\n",
       "\n",
       "    .dataframe tbody tr th {\n",
       "        vertical-align: top;\n",
       "    }\n",
       "\n",
       "    .dataframe thead th {\n",
       "        text-align: right;\n",
       "    }\n",
       "</style>\n",
       "<table border=\"1\" class=\"dataframe\">\n",
       "  <thead>\n",
       "    <tr style=\"text-align: right;\">\n",
       "      <th></th>\n",
       "      <th>Heading</th>\n",
       "      <th>Date</th>\n",
       "      <th>Content</th>\n",
       "    </tr>\n",
       "  </thead>\n",
       "  <tbody>\n",
       "    <tr>\n",
       "      <th>0</th>\n",
       "      <td>Python Tutorial: Zip Files – Creating and Extr...</td>\n",
       "      <td>November 19, 2019</td>\n",
       "      <td>\\nIn this video, we will be learning how to cr...</td>\n",
       "    </tr>\n",
       "    <tr>\n",
       "      <th>1</th>\n",
       "      <td>Python Data Science Tutorial: Analyzing the 20...</td>\n",
       "      <td>October 17, 2019</td>\n",
       "      <td>\\nIn this Python Programming video, we will be...</td>\n",
       "    </tr>\n",
       "    <tr>\n",
       "      <th>2</th>\n",
       "      <td>Python Multiprocessing Tutorial: Run Code in P...</td>\n",
       "      <td>September 21, 2019</td>\n",
       "      <td>\\nIn this Python Programming video, we will be...</td>\n",
       "    </tr>\n",
       "    <tr>\n",
       "      <th>3</th>\n",
       "      <td>Python Threading Tutorial: Run Code Concurrent...</td>\n",
       "      <td>September 12, 2019</td>\n",
       "      <td>\\nIn this Python Programming video, we will be...</td>\n",
       "    </tr>\n",
       "    <tr>\n",
       "      <th>4</th>\n",
       "      <td>Update (2019-09-03)</td>\n",
       "      <td>September 3, 2019</td>\n",
       "      <td>\\nHey everyone. I wanted to give you an update...</td>\n",
       "    </tr>\n",
       "    <tr>\n",
       "      <th>5</th>\n",
       "      <td>Python Quick Tip: The Difference Between “==” ...</td>\n",
       "      <td>August 6, 2019</td>\n",
       "      <td>\\nIn this Python Programming Tutorial, we will...</td>\n",
       "    </tr>\n",
       "    <tr>\n",
       "      <th>6</th>\n",
       "      <td>Python Tutorial: Calling External Commands Usi...</td>\n",
       "      <td>July 24, 2019</td>\n",
       "      <td>\\nIn this Python Programming Tutorial, we will...</td>\n",
       "    </tr>\n",
       "    <tr>\n",
       "      <th>7</th>\n",
       "      <td>Visual Studio Code (Windows) – Setting up a Py...</td>\n",
       "      <td>May 1, 2019</td>\n",
       "      <td>\\nIn this Python Programming Tutorial, we will...</td>\n",
       "    </tr>\n",
       "    <tr>\n",
       "      <th>8</th>\n",
       "      <td>Visual Studio Code (Mac) – Setting up a Python...</td>\n",
       "      <td>May 1, 2019</td>\n",
       "      <td>\\nIn this Python Programming Tutorial, we will...</td>\n",
       "    </tr>\n",
       "    <tr>\n",
       "      <th>9</th>\n",
       "      <td>Clarifying the Issues with Mutable Default Arg...</td>\n",
       "      <td>April 24, 2019</td>\n",
       "      <td>\\nIn this Python Programming Tutorial, we will...</td>\n",
       "    </tr>\n",
       "  </tbody>\n",
       "</table>\n",
       "</div>"
      ],
      "text/plain": [
       "                                             Heading                Date  \\\n",
       "0  Python Tutorial: Zip Files – Creating and Extr...   November 19, 2019   \n",
       "1  Python Data Science Tutorial: Analyzing the 20...    October 17, 2019   \n",
       "2  Python Multiprocessing Tutorial: Run Code in P...  September 21, 2019   \n",
       "3  Python Threading Tutorial: Run Code Concurrent...  September 12, 2019   \n",
       "4                                Update (2019-09-03)   September 3, 2019   \n",
       "5  Python Quick Tip: The Difference Between “==” ...      August 6, 2019   \n",
       "6  Python Tutorial: Calling External Commands Usi...       July 24, 2019   \n",
       "7  Visual Studio Code (Windows) – Setting up a Py...         May 1, 2019   \n",
       "8  Visual Studio Code (Mac) – Setting up a Python...         May 1, 2019   \n",
       "9  Clarifying the Issues with Mutable Default Arg...      April 24, 2019   \n",
       "\n",
       "                                             Content  \n",
       "0  \\nIn this video, we will be learning how to cr...  \n",
       "1  \\nIn this Python Programming video, we will be...  \n",
       "2  \\nIn this Python Programming video, we will be...  \n",
       "3  \\nIn this Python Programming video, we will be...  \n",
       "4  \\nHey everyone. I wanted to give you an update...  \n",
       "5  \\nIn this Python Programming Tutorial, we will...  \n",
       "6  \\nIn this Python Programming Tutorial, we will...  \n",
       "7  \\nIn this Python Programming Tutorial, we will...  \n",
       "8  \\nIn this Python Programming Tutorial, we will...  \n",
       "9  \\nIn this Python Programming Tutorial, we will...  "
      ]
     },
     "execution_count": 34,
     "metadata": {},
     "output_type": "execute_result"
    }
   ],
   "source": [
    "import pandas as pd\n",
    "df=pd.DataFrame({'Heading':heading,'Date':date,'Content':content})\n",
    "df"
   ]
  },
  {
   "cell_type": "markdown",
   "id": "2adc2ffb",
   "metadata": {},
   "source": [
    "# question 8 https://www.nobroker.in/property/sale/hyderabad/Indira%20Nagar?searchParam=W3sibGF0IjoxNy40NDc0NDc1LCJsb24iOjc4LjM1NjkyNzUsInBsYWNlSWQiOiJDaElKZzVwcF9KU1R5enNSaHBYNzU2M2VkX2ciLCJwbGFjZU5hbWUiOiJJbmRpcmEgTmFnYXIifV0=&radius=2.0&city=hyderabad&locality=Indira%20Nagar"
   ]
  },
  {
   "cell_type": "code",
   "execution_count": 35,
   "id": "2b0fd5b2",
   "metadata": {},
   "outputs": [
    {
     "data": {
      "text/plain": [
       "<Response [200]>"
      ]
     },
     "execution_count": 35,
     "metadata": {},
     "output_type": "execute_result"
    }
   ],
   "source": [
    "page =requests.get('https://www.nobroker.in/property/sale/bangalore/multiple?searchParam=W3sibGF0IjoxMi45NzgzNjkyLCJsb24iOjc3LjY0MDgzNTYsInBsYWNlSWQiOiJDaElKa1FOM0dLUVdyanNSTmhCUUpyaEdEN1UiLCJwbGFjZU5hbWUiOiJJbmRpcmFuYWdhciJ9LHsibGF0IjoxMi45MzA3NzM1LCJsb24iOjc3LjU4MzgzMDIsInBsYWNlSWQiOiJDaElKMmRkbFo1Z1ZyanNSaDFCT0FhZi1vcnMiLCJwbGFjZU5hbWUiOiJKYXlhbmFnYXIifSx7ImxhdCI6MTIuOTk4MTczMiwibG9uIjo3Ny41NTMwNDQ1OTk5OTk5OSwicGxhY2VJZCI6IkNoSUp4Zlc0RFBNOXJqc1JLc05URy01cF9RUSIsInBsYWNlTmFtZSI6IlJhamFqaW5hZ2FyIn1d&radius=2.0&city=bangalore&locality=Indiranagar,&locality=Jayanagar,&locality=Rajajinagar')\n",
    "page"
   ]
  },
  {
   "cell_type": "code",
   "execution_count": null,
   "id": "b47618a1",
   "metadata": {},
   "outputs": [],
   "source": [
    "soup=BeautifulSoup(page.content)\n",
    "soup"
   ]
  },
  {
   "cell_type": "code",
   "execution_count": null,
   "id": "73ab7a49",
   "metadata": {},
   "outputs": [],
   "source": [
    "title=[]\n",
    "for i in soup.find_all('span',class_=\"overflow-hidden overflow-ellipsis whitespace-nowrap max-w-80pe po:max-w-full\"):\n",
    "    title.append(i.text)\n",
    "title    "
   ]
  },
  {
   "cell_type": "code",
   "execution_count": 38,
   "id": "b31c5030",
   "metadata": {},
   "outputs": [
    {
     "data": {
      "text/plain": [
       "['Blueberry Apartment\\xa0 13th E Main Rd, Channakesahava Nagar, HAL 2nd Stage, Doopanahalli, Indiranagar, Bengaluru, Karnataka 560008, India',\n",
       " 'Independent House, near cmh road metro station',\n",
       " 'Independent House,  6th Cross road,9th main road  Prakash Nagar, Near Metro Station,  BBMP YOGA CENTRE',\n",
       " 'Laa Royal Manor\\xa0 11th Cross Rd, 8th cross, HAL 2nd Stage, Indiranagar',\n",
       " 'Dr Rajkumar Rd, opposite Sheraton Hotel, Rajajinagar',\n",
       " '2nd Main Road, Lakshminarayanapuram, near  Sri Sumathi Kalyana Mantapa and  Ramesh Bankers Sagar Jeweller',\n",
       " 'Jayanagar Residency, K V Layout, LIC Colony, Jayanagar 3rd Block East, Jayanagar, Bengaluru, Karnataka 560011, India',\n",
       " 'Near pillar number 69 and 70, 9th Cross Rd 2nd Block, Jayanagar Bengaluru, Karnataka 560011 India',\n",
       " 'Independent House, Jayanagar SBI Branch 9th blk, 4th T Blk CafÃ© CoffeeDay,Bunny Bakers, Tazaa Thindi',\n",
       " 'Independent House, 5th Block, near National Public School RNR',\n",
       " 'Municipal No.152, 18th main road, beside Sai Baba Temple, Jayanagara 9th Block, Jayanagar, Bengaluru, Karnataka 560056, India',\n",
       " 'Adarsh Court Apartment\\xa0 Adarsh Court Apartment, 7th Cross Rd, 7th Block, Jayanagar, Bengaluru, Karnataka 560070, India',\n",
       " 'manjunath road near The illusion Cafe',\n",
       " 'Independent House, 2nd stage ,9th cross',\n",
       " '17, Pallava Terrace, North Main Road, 6th Block, Yediyur, Jayanagar, Bengaluru, Karnataka 560082, India',\n",
       " 'Independent House, 6th C cross 3rd main rd near Ayyappa Temple',\n",
       " 'Independent House, 242, 27th cross, 2nd Block, Rajajinagar, Bangalore-560010',\n",
       " 'Admiralty Manor, Indiranagar\\xa0 Admiralty Manor, 6th Main Rd, Eshwara Layout, Indiranagar, Bengaluru, Karnataka 560008, India',\n",
       " 'Jains Prakriti\\xa0  Kanakapura Rd, 7th Block West, 7th Block, Jayanagar, Bengaluru, Karnataka 560070, India',\n",
       " '16th D main, HAL 2nd stage, Indiranagar ,  Bengaluru, Karnataka 560038, India',\n",
       " 'Independent House, CMH Rd , Near B P Bakery',\n",
       " 'Tarang Parkway Apartment\\xa0 2nd Main Rd, Shivanagar, Basaveshwar Nagar, Bengaluru, Karnataka 560010, India',\n",
       " 'Kanakapura Road, Jayanagar, Bangalore, Karnataka, INDIA.',\n",
       " 'Independent House, 6th Cross Rd, 2nd Block  near  SMC Enclave ',\n",
       " 'Parasmani Regency\\xa0 Parasmani Regency, 8th Cross Street, 2nd Block, Jaya Nagar East, Jayanagar, Bengaluru, Karnataka 560004, India']"
      ]
     },
     "execution_count": 38,
     "metadata": {},
     "output_type": "execute_result"
    }
   ],
   "source": [
    "location=[]\n",
    "for i in soup.find_all('div',class_=\"mt-0.5p overflow-hidden overflow-ellipsis whitespace-nowrap max-w-70 text-gray-light leading-4 po:mb-0 po:max-w-95\"):\n",
    "    location.append(i.text)\n",
    "location    "
   ]
  },
  {
   "cell_type": "code",
   "execution_count": null,
   "id": "c8f9bfac",
   "metadata": {},
   "outputs": [],
   "source": [
    "price=[]\n",
    "for i in soup.find_all('div',class_=\"flex flex-col w-33pe items-center bo tp:w-half po:w-full border-r-0\"):\n",
    "    price.append(i.text)\n",
    "price"
   ]
  },
  {
   "cell_type": "code",
   "execution_count": 40,
   "id": "02b968d7",
   "metadata": {},
   "outputs": [
    {
     "name": "stdout",
     "output_type": "stream",
     "text": [
      "25 25 25\n"
     ]
    }
   ],
   "source": [
    "print(len(title),len(location),len(price))"
   ]
  },
  {
   "cell_type": "code",
   "execution_count": 41,
   "id": "d31a56be",
   "metadata": {},
   "outputs": [
    {
     "data": {
      "text/html": [
       "<div>\n",
       "<style scoped>\n",
       "    .dataframe tbody tr th:only-of-type {\n",
       "        vertical-align: middle;\n",
       "    }\n",
       "\n",
       "    .dataframe tbody tr th {\n",
       "        vertical-align: top;\n",
       "    }\n",
       "\n",
       "    .dataframe thead th {\n",
       "        text-align: right;\n",
       "    }\n",
       "</style>\n",
       "<table border=\"1\" class=\"dataframe\">\n",
       "  <thead>\n",
       "    <tr style=\"text-align: right;\">\n",
       "      <th></th>\n",
       "      <th>Title</th>\n",
       "      <th>Location</th>\n",
       "      <th>Price</th>\n",
       "    </tr>\n",
       "  </thead>\n",
       "  <tbody>\n",
       "    <tr>\n",
       "      <th>0</th>\n",
       "      <td>2 BHK Apartment  For Sale  In Blueberry Apartm...</td>\n",
       "      <td>Blueberry Apartment  13th E Main Rd, Channakes...</td>\n",
       "      <td>₹1.4 Crores₹13,035 per sq.ft.</td>\n",
       "    </tr>\n",
       "    <tr>\n",
       "      <th>1</th>\n",
       "      <td>4+ BHK In Independent House  For Sale  In Indi...</td>\n",
       "      <td>Independent House, near cmh road metro station</td>\n",
       "      <td>₹7 Crores₹14,000 per sq.ft.</td>\n",
       "    </tr>\n",
       "    <tr>\n",
       "      <th>2</th>\n",
       "      <td>4+ BHK In Independent House  For Sale  In Raja...</td>\n",
       "      <td>Independent House,  6th Cross road,9th main ro...</td>\n",
       "      <td>₹1 Crore₹7,576 per sq.ft.</td>\n",
       "    </tr>\n",
       "    <tr>\n",
       "      <th>3</th>\n",
       "      <td>3 BHK Apartment  For Sale  In Laa Royal Manor ...</td>\n",
       "      <td>Laa Royal Manor  11th Cross Rd, 8th cross, HAL...</td>\n",
       "      <td>₹2.75 Crores₹13,033 per sq.ft.</td>\n",
       "    </tr>\n",
       "    <tr>\n",
       "      <th>4</th>\n",
       "      <td>4 BHK Flat  For Sale  In Phoenix  One Bangalor...</td>\n",
       "      <td>Dr Rajkumar Rd, opposite Sheraton Hotel, Rajaj...</td>\n",
       "      <td>₹5.1 Crores₹17,580 per sq.ft.</td>\n",
       "    </tr>\n",
       "    <tr>\n",
       "      <th>5</th>\n",
       "      <td>3 BHK Flat  For Sale  In Lakshmi Arcade In Raj...</td>\n",
       "      <td>2nd Main Road, Lakshminarayanapuram, near  Sri...</td>\n",
       "      <td>₹65 Lacs₹5,200 per sq.ft.</td>\n",
       "    </tr>\n",
       "    <tr>\n",
       "      <th>6</th>\n",
       "      <td>2 BHK Flat  For Sale  In Jayanagar Residency I...</td>\n",
       "      <td>Jayanagar Residency, K V Layout, LIC Colony, J...</td>\n",
       "      <td>₹1 Crore₹8,333 per sq.ft.</td>\n",
       "    </tr>\n",
       "    <tr>\n",
       "      <th>7</th>\n",
       "      <td>2 BHK Flat  For Sale  In Kumar Ashraya Apartme...</td>\n",
       "      <td>Near pillar number 69 and 70, 9th Cross Rd 2nd...</td>\n",
       "      <td>₹66 Lacs₹7,333 per sq.ft.</td>\n",
       "    </tr>\n",
       "    <tr>\n",
       "      <th>8</th>\n",
       "      <td>4 BHK In Independent House  For Sale  In Jayan...</td>\n",
       "      <td>Independent House, Jayanagar SBI Branch 9th bl...</td>\n",
       "      <td>₹2.7 Crores₹10,800 per sq.ft.</td>\n",
       "    </tr>\n",
       "    <tr>\n",
       "      <th>9</th>\n",
       "      <td>4+ BHK In Independent House  For Sale  In Raja...</td>\n",
       "      <td>Independent House, 5th Block, near National Pu...</td>\n",
       "      <td>₹3.25 Crores₹10,833 per sq.ft.</td>\n",
       "    </tr>\n",
       "    <tr>\n",
       "      <th>10</th>\n",
       "      <td>3 BHK Flat  For Sale  In Rrbc Piccassso In Jay...</td>\n",
       "      <td>Municipal No.152, 18th main road, beside Sai B...</td>\n",
       "      <td>₹2.93 Crores₹14,384 per sq.ft.</td>\n",
       "    </tr>\n",
       "    <tr>\n",
       "      <th>11</th>\n",
       "      <td>3 BHK Apartment  For Sale  In Adarsh Court Apa...</td>\n",
       "      <td>Adarsh Court Apartment  Adarsh Court Apartment...</td>\n",
       "      <td>₹3.25 Crores₹16,332 per sq.ft.</td>\n",
       "    </tr>\n",
       "    <tr>\n",
       "      <th>12</th>\n",
       "      <td>3 BHK Flat  For Sale  In Shree Rameshwara Nila...</td>\n",
       "      <td>manjunath road near The illusion Cafe</td>\n",
       "      <td>₹1.1 Crores₹9,167 per sq.ft.</td>\n",
       "    </tr>\n",
       "    <tr>\n",
       "      <th>13</th>\n",
       "      <td>4 BHK In Independent House  For Sale  In Indir...</td>\n",
       "      <td>Independent House, 2nd stage ,9th cross</td>\n",
       "      <td>₹2.95 Crores₹11,569 per sq.ft.</td>\n",
       "    </tr>\n",
       "    <tr>\n",
       "      <th>14</th>\n",
       "      <td>2 BHK Flat  For Sale  In Pallava Terrace In Ja...</td>\n",
       "      <td>17, Pallava Terrace, North Main Road, 6th Bloc...</td>\n",
       "      <td>₹75 Lacs₹7,042 per sq.ft.</td>\n",
       "    </tr>\n",
       "    <tr>\n",
       "      <th>15</th>\n",
       "      <td>4+ BHK In Independent House  For Sale  In Raja...</td>\n",
       "      <td>Independent House, 6th C cross 3rd main rd nea...</td>\n",
       "      <td>₹1.35 Crores₹6,136 per sq.ft.</td>\n",
       "    </tr>\n",
       "    <tr>\n",
       "      <th>16</th>\n",
       "      <td>3 BHK In Independent House  For Sale  In Rajaj...</td>\n",
       "      <td>Independent House, 242, 27th cross, 2nd Block,...</td>\n",
       "      <td>₹1.35 Crores₹10,588 per sq.ft.</td>\n",
       "    </tr>\n",
       "    <tr>\n",
       "      <th>17</th>\n",
       "      <td>3 BHK Apartment  For Sale  In Admiralty Manor,...</td>\n",
       "      <td>Admiralty Manor, Indiranagar  Admiralty Manor,...</td>\n",
       "      <td>₹1.5 Crores₹7,653 per sq.ft.</td>\n",
       "    </tr>\n",
       "    <tr>\n",
       "      <th>18</th>\n",
       "      <td>2 BHK Apartment  For Sale  In Jains Prakriti I...</td>\n",
       "      <td>Jains Prakriti   Kanakapura Rd, 7th Block West...</td>\n",
       "      <td>₹2 Crores₹15,408 per sq.ft.</td>\n",
       "    </tr>\n",
       "    <tr>\n",
       "      <th>19</th>\n",
       "      <td>3 BHK Flat  For Sale  In Benaka Apartments In ...</td>\n",
       "      <td>16th D main, HAL 2nd stage, Indiranagar ,  Ben...</td>\n",
       "      <td>₹85 Lacs₹6,386 per sq.ft.</td>\n",
       "    </tr>\n",
       "    <tr>\n",
       "      <th>20</th>\n",
       "      <td>4+ BHK In Independent House  For Sale  In Laks...</td>\n",
       "      <td>Independent House, CMH Rd , Near B P Bakery</td>\n",
       "      <td>₹1.1 Crores₹4,889 per sq.ft.</td>\n",
       "    </tr>\n",
       "    <tr>\n",
       "      <th>21</th>\n",
       "      <td>2 BHK Apartment  For Sale  In Tarang Parkway A...</td>\n",
       "      <td>Tarang Parkway Apartment  2nd Main Rd, Shivana...</td>\n",
       "      <td>₹1 Crore₹8,333 per sq.ft.</td>\n",
       "    </tr>\n",
       "    <tr>\n",
       "      <th>22</th>\n",
       "      <td>2 BHK Flat  For Sale  In Jains Prakruti, Jayan...</td>\n",
       "      <td>Kanakapura Road, Jayanagar, Bangalore, Karnata...</td>\n",
       "      <td>₹1.5 Crores₹11,530 per sq.ft.</td>\n",
       "    </tr>\n",
       "    <tr>\n",
       "      <th>23</th>\n",
       "      <td>4+ BHK In Independent House  For Sale  In Raja...</td>\n",
       "      <td>Independent House, 6th Cross Rd, 2nd Block  ne...</td>\n",
       "      <td>₹1.46 Crores₹6,518 per sq.ft.</td>\n",
       "    </tr>\n",
       "    <tr>\n",
       "      <th>24</th>\n",
       "      <td>3 BHK Apartment  For Sale  In Parasmani Regenc...</td>\n",
       "      <td>Parasmani Regency  Parasmani Regency, 8th Cros...</td>\n",
       "      <td>₹2.5 Crores₹12,887 per sq.ft.</td>\n",
       "    </tr>\n",
       "  </tbody>\n",
       "</table>\n",
       "</div>"
      ],
      "text/plain": [
       "                                                Title  \\\n",
       "0   2 BHK Apartment  For Sale  In Blueberry Apartm...   \n",
       "1   4+ BHK In Independent House  For Sale  In Indi...   \n",
       "2   4+ BHK In Independent House  For Sale  In Raja...   \n",
       "3   3 BHK Apartment  For Sale  In Laa Royal Manor ...   \n",
       "4   4 BHK Flat  For Sale  In Phoenix  One Bangalor...   \n",
       "5   3 BHK Flat  For Sale  In Lakshmi Arcade In Raj...   \n",
       "6   2 BHK Flat  For Sale  In Jayanagar Residency I...   \n",
       "7   2 BHK Flat  For Sale  In Kumar Ashraya Apartme...   \n",
       "8   4 BHK In Independent House  For Sale  In Jayan...   \n",
       "9   4+ BHK In Independent House  For Sale  In Raja...   \n",
       "10  3 BHK Flat  For Sale  In Rrbc Piccassso In Jay...   \n",
       "11  3 BHK Apartment  For Sale  In Adarsh Court Apa...   \n",
       "12  3 BHK Flat  For Sale  In Shree Rameshwara Nila...   \n",
       "13  4 BHK In Independent House  For Sale  In Indir...   \n",
       "14  2 BHK Flat  For Sale  In Pallava Terrace In Ja...   \n",
       "15  4+ BHK In Independent House  For Sale  In Raja...   \n",
       "16  3 BHK In Independent House  For Sale  In Rajaj...   \n",
       "17  3 BHK Apartment  For Sale  In Admiralty Manor,...   \n",
       "18  2 BHK Apartment  For Sale  In Jains Prakriti I...   \n",
       "19  3 BHK Flat  For Sale  In Benaka Apartments In ...   \n",
       "20  4+ BHK In Independent House  For Sale  In Laks...   \n",
       "21  2 BHK Apartment  For Sale  In Tarang Parkway A...   \n",
       "22  2 BHK Flat  For Sale  In Jains Prakruti, Jayan...   \n",
       "23  4+ BHK In Independent House  For Sale  In Raja...   \n",
       "24  3 BHK Apartment  For Sale  In Parasmani Regenc...   \n",
       "\n",
       "                                             Location  \\\n",
       "0   Blueberry Apartment  13th E Main Rd, Channakes...   \n",
       "1      Independent House, near cmh road metro station   \n",
       "2   Independent House,  6th Cross road,9th main ro...   \n",
       "3   Laa Royal Manor  11th Cross Rd, 8th cross, HAL...   \n",
       "4   Dr Rajkumar Rd, opposite Sheraton Hotel, Rajaj...   \n",
       "5   2nd Main Road, Lakshminarayanapuram, near  Sri...   \n",
       "6   Jayanagar Residency, K V Layout, LIC Colony, J...   \n",
       "7   Near pillar number 69 and 70, 9th Cross Rd 2nd...   \n",
       "8   Independent House, Jayanagar SBI Branch 9th bl...   \n",
       "9   Independent House, 5th Block, near National Pu...   \n",
       "10  Municipal No.152, 18th main road, beside Sai B...   \n",
       "11  Adarsh Court Apartment  Adarsh Court Apartment...   \n",
       "12              manjunath road near The illusion Cafe   \n",
       "13            Independent House, 2nd stage ,9th cross   \n",
       "14  17, Pallava Terrace, North Main Road, 6th Bloc...   \n",
       "15  Independent House, 6th C cross 3rd main rd nea...   \n",
       "16  Independent House, 242, 27th cross, 2nd Block,...   \n",
       "17  Admiralty Manor, Indiranagar  Admiralty Manor,...   \n",
       "18  Jains Prakriti   Kanakapura Rd, 7th Block West...   \n",
       "19  16th D main, HAL 2nd stage, Indiranagar ,  Ben...   \n",
       "20        Independent House, CMH Rd , Near B P Bakery   \n",
       "21  Tarang Parkway Apartment  2nd Main Rd, Shivana...   \n",
       "22  Kanakapura Road, Jayanagar, Bangalore, Karnata...   \n",
       "23  Independent House, 6th Cross Rd, 2nd Block  ne...   \n",
       "24  Parasmani Regency  Parasmani Regency, 8th Cros...   \n",
       "\n",
       "                             Price  \n",
       "0    ₹1.4 Crores₹13,035 per sq.ft.  \n",
       "1      ₹7 Crores₹14,000 per sq.ft.  \n",
       "2        ₹1 Crore₹7,576 per sq.ft.  \n",
       "3   ₹2.75 Crores₹13,033 per sq.ft.  \n",
       "4    ₹5.1 Crores₹17,580 per sq.ft.  \n",
       "5        ₹65 Lacs₹5,200 per sq.ft.  \n",
       "6        ₹1 Crore₹8,333 per sq.ft.  \n",
       "7        ₹66 Lacs₹7,333 per sq.ft.  \n",
       "8    ₹2.7 Crores₹10,800 per sq.ft.  \n",
       "9   ₹3.25 Crores₹10,833 per sq.ft.  \n",
       "10  ₹2.93 Crores₹14,384 per sq.ft.  \n",
       "11  ₹3.25 Crores₹16,332 per sq.ft.  \n",
       "12    ₹1.1 Crores₹9,167 per sq.ft.  \n",
       "13  ₹2.95 Crores₹11,569 per sq.ft.  \n",
       "14       ₹75 Lacs₹7,042 per sq.ft.  \n",
       "15   ₹1.35 Crores₹6,136 per sq.ft.  \n",
       "16  ₹1.35 Crores₹10,588 per sq.ft.  \n",
       "17    ₹1.5 Crores₹7,653 per sq.ft.  \n",
       "18     ₹2 Crores₹15,408 per sq.ft.  \n",
       "19       ₹85 Lacs₹6,386 per sq.ft.  \n",
       "20    ₹1.1 Crores₹4,889 per sq.ft.  \n",
       "21       ₹1 Crore₹8,333 per sq.ft.  \n",
       "22   ₹1.5 Crores₹11,530 per sq.ft.  \n",
       "23   ₹1.46 Crores₹6,518 per sq.ft.  \n",
       "24   ₹2.5 Crores₹12,887 per sq.ft.  "
      ]
     },
     "execution_count": 41,
     "metadata": {},
     "output_type": "execute_result"
    }
   ],
   "source": [
    "import pandas as pd\n",
    "df=pd.DataFrame({'Title':title,'Location':location,'Price':price})\n",
    "df"
   ]
  },
  {
   "cell_type": "markdown",
   "id": "34232f44",
   "metadata": {},
   "source": [
    "# Quetsion 9 https://www.dineout.co.in/delhi-restaurants/welcome-back"
   ]
  },
  {
   "cell_type": "code",
   "execution_count": null,
   "id": "a294e33c",
   "metadata": {},
   "outputs": [],
   "source": [
    "page=requests.get('https://www.dineout.co.in/delhi-restaurants/welcome-back')\n",
    "page"
   ]
  },
  {
   "cell_type": "code",
   "execution_count": null,
   "id": "ece6e543",
   "metadata": {},
   "outputs": [],
   "source": [
    "soup=BeautifulSoup(page.content)\n",
    "soup"
   ]
  },
  {
   "cell_type": "code",
   "execution_count": null,
   "id": "38f19274",
   "metadata": {},
   "outputs": [],
   "source": [
    "names=[]\n",
    "for i in soup.find_all('div',class_=\"restnt-info cursor\"):\n",
    "    names.append(i.text)\n",
    "names   "
   ]
  },
  {
   "cell_type": "code",
   "execution_count": null,
   "id": "3d01ccba",
   "metadata": {},
   "outputs": [],
   "source": [
    "location=[]\n",
    "for i in soup.find_all('div',class_=\"restnt-loc ellipsis\"):\n",
    "    location.append(i.text)\n",
    "location    "
   ]
  },
  {
   "cell_type": "code",
   "execution_count": null,
   "id": "d45f22f9",
   "metadata": {},
   "outputs": [],
   "source": [
    "rating=[]\n",
    "for i in soup.find_all('div',class_=\"restnt-rating rating-4\"):\n",
    "    rating.append(i.text)\n",
    "rating    "
   ]
  },
  {
   "cell_type": "code",
   "execution_count": null,
   "id": "e89f5bbb",
   "metadata": {},
   "outputs": [],
   "source": [
    "image=[]\n",
    "for i in soup.find_all('img',class_=\"no-img\"):\n",
    "    image.append(i['data-src'])\n",
    "image    "
   ]
  },
  {
   "cell_type": "code",
   "execution_count": null,
   "id": "87f086d2",
   "metadata": {},
   "outputs": [],
   "source": [
    "cuisine=[]\n",
    "for i in soup.find_all('span',class_=\"double-line-ellipsis\"):\n",
    "    cuisine.append(i.text)\n",
    "cuisine    "
   ]
  },
  {
   "cell_type": "code",
   "execution_count": 49,
   "id": "4ac80fb8",
   "metadata": {},
   "outputs": [
    {
     "name": "stdout",
     "output_type": "stream",
     "text": [
      "21 21 21 21 21\n"
     ]
    }
   ],
   "source": [
    "print(len(names),len(location),len(rating),len(image),len(cuisine))"
   ]
  },
  {
   "cell_type": "code",
   "execution_count": 50,
   "id": "f70e98d6",
   "metadata": {},
   "outputs": [
    {
     "data": {
      "text/html": [
       "<div>\n",
       "<style scoped>\n",
       "    .dataframe tbody tr th:only-of-type {\n",
       "        vertical-align: middle;\n",
       "    }\n",
       "\n",
       "    .dataframe tbody tr th {\n",
       "        vertical-align: top;\n",
       "    }\n",
       "\n",
       "    .dataframe thead th {\n",
       "        text-align: right;\n",
       "    }\n",
       "</style>\n",
       "<table border=\"1\" class=\"dataframe\">\n",
       "  <thead>\n",
       "    <tr style=\"text-align: right;\">\n",
       "      <th></th>\n",
       "      <th>Names</th>\n",
       "      <th>Location</th>\n",
       "      <th>Rating</th>\n",
       "      <th>Image</th>\n",
       "      <th>Cuisine</th>\n",
       "    </tr>\n",
       "  </thead>\n",
       "  <tbody>\n",
       "    <tr>\n",
       "      <th>0</th>\n",
       "      <td>TamashaConnaught Place, Central Delhi</td>\n",
       "      <td>Connaught Place, Central Delhi</td>\n",
       "      <td>4.2</td>\n",
       "      <td>https://im1.dineout.co.in/images/uploads/resta...</td>\n",
       "      <td>₹ 2,000 for 2 (approx) | Continental, Asian, I...</td>\n",
       "    </tr>\n",
       "    <tr>\n",
       "      <th>1</th>\n",
       "      <td>LocalScindia House,Connaught Place, Central Delhi</td>\n",
       "      <td>Scindia House,Connaught Place, Central Delhi</td>\n",
       "      <td>4</td>\n",
       "      <td>https://im1.dineout.co.in/images/uploads/resta...</td>\n",
       "      <td>₹ 2,000 for 2 (approx) | North Indian, Asian, ...</td>\n",
       "    </tr>\n",
       "    <tr>\n",
       "      <th>2</th>\n",
       "      <td>Unplugged CourtyardConnaught Place, Central Delhi</td>\n",
       "      <td>Connaught Place, Central Delhi</td>\n",
       "      <td>4</td>\n",
       "      <td>https://im1.dineout.co.in/images/uploads/resta...</td>\n",
       "      <td>₹ 3,300 for 2 (approx) | North Indian, Italian...</td>\n",
       "    </tr>\n",
       "    <tr>\n",
       "      <th>3</th>\n",
       "      <td>The G.T. ROADM-Block,Connaught Place, Central ...</td>\n",
       "      <td>M-Block,Connaught Place, Central Delhi</td>\n",
       "      <td>4.3</td>\n",
       "      <td>https://im1.dineout.co.in/images/uploads/resta...</td>\n",
       "      <td>₹ 1,400 for 2 (approx) | North Indian</td>\n",
       "    </tr>\n",
       "    <tr>\n",
       "      <th>4</th>\n",
       "      <td>Ministry Of BeerM-Block,Connaught Place, Centr...</td>\n",
       "      <td>M-Block,Connaught Place, Central Delhi</td>\n",
       "      <td>4</td>\n",
       "      <td>https://im1.dineout.co.in/images/uploads/resta...</td>\n",
       "      <td>₹ 3,000 for 2 (approx) | North Indian, Contine...</td>\n",
       "    </tr>\n",
       "    <tr>\n",
       "      <th>5</th>\n",
       "      <td>Connaught Clubhouse MicrobreweryConnaught Plac...</td>\n",
       "      <td>Connaught Place, Central Delhi</td>\n",
       "      <td>4.2</td>\n",
       "      <td>https://im1.dineout.co.in/images/uploads/resta...</td>\n",
       "      <td>₹ 1,600 for 2 (approx) | North Indian, Italian...</td>\n",
       "    </tr>\n",
       "    <tr>\n",
       "      <th>6</th>\n",
       "      <td>High 5 - Everyday Wholesale BarConnaught Place...</td>\n",
       "      <td>Connaught Place, Central Delhi</td>\n",
       "      <td>3.9</td>\n",
       "      <td>https://im1.dineout.co.in/images/uploads/resta...</td>\n",
       "      <td>₹ 1,700 for 2 (approx) | North Indian, Contine...</td>\n",
       "    </tr>\n",
       "    <tr>\n",
       "      <th>7</th>\n",
       "      <td>The Junkyard CafeConnaught Place, Central Delhi</td>\n",
       "      <td>Connaught Place, Central Delhi</td>\n",
       "      <td>4.1</td>\n",
       "      <td>https://im1.dineout.co.in/images/uploads/resta...</td>\n",
       "      <td>₹ 2,100 for 2 (approx) | North Indian, Contine...</td>\n",
       "    </tr>\n",
       "    <tr>\n",
       "      <th>8</th>\n",
       "      <td>Warehouse CafeConnaught Place, Central Delhi</td>\n",
       "      <td>Connaught Place, Central Delhi</td>\n",
       "      <td>4.1</td>\n",
       "      <td>https://im1.dineout.co.in/images/uploads/resta...</td>\n",
       "      <td>₹ 2,500 for 2 (approx) | North Indian, Chinese...</td>\n",
       "    </tr>\n",
       "    <tr>\n",
       "      <th>9</th>\n",
       "      <td>Chili's American Grill and BarM-Block,Connaugh...</td>\n",
       "      <td>M-Block,Connaught Place, Central Delhi</td>\n",
       "      <td>4.3</td>\n",
       "      <td>https://im1.dineout.co.in/images/uploads/resta...</td>\n",
       "      <td>₹ 2,000 for 2 (approx) | Mexican, American, Te...</td>\n",
       "    </tr>\n",
       "    <tr>\n",
       "      <th>10</th>\n",
       "      <td>QBAConnaught Place, Central Delhi</td>\n",
       "      <td>Connaught Place, Central Delhi</td>\n",
       "      <td>4.3</td>\n",
       "      <td>https://im1.dineout.co.in/images/uploads/resta...</td>\n",
       "      <td>₹ 2,100 for 2 (approx) | North Indian, Contine...</td>\n",
       "    </tr>\n",
       "    <tr>\n",
       "      <th>11</th>\n",
       "      <td>Openhouse CafeConnaught Place, Central Delhi</td>\n",
       "      <td>Connaught Place, Central Delhi</td>\n",
       "      <td>4.1</td>\n",
       "      <td>https://im1.dineout.co.in/images/uploads/resta...</td>\n",
       "      <td>₹ 2,000 for 2 (approx) | North Indian, Asian, ...</td>\n",
       "    </tr>\n",
       "    <tr>\n",
       "      <th>12</th>\n",
       "      <td>Berco'sConnaught Place, Central Delhi</td>\n",
       "      <td>Connaught Place, Central Delhi</td>\n",
       "      <td>4.3</td>\n",
       "      <td>https://im1.dineout.co.in/images/uploads/resta...</td>\n",
       "      <td>₹ 1,300 for 2 (approx) | Chinese</td>\n",
       "    </tr>\n",
       "    <tr>\n",
       "      <th>13</th>\n",
       "      <td>SandozConnaught Place, Central Delhi</td>\n",
       "      <td>Connaught Place, Central Delhi</td>\n",
       "      <td>4</td>\n",
       "      <td>https://im1.dineout.co.in/images/uploads/resta...</td>\n",
       "      <td>₹ 1,400 for 2 (approx) | North Indian, Chinese...</td>\n",
       "    </tr>\n",
       "    <tr>\n",
       "      <th>14</th>\n",
       "      <td>ChidoConnaught Place, Central Delhi</td>\n",
       "      <td>Connaught Place, Central Delhi</td>\n",
       "      <td>4.2</td>\n",
       "      <td>https://im1.dineout.co.in/images/uploads/resta...</td>\n",
       "      <td>₹ 1,800 for 2 (approx) | North Indian, Italian...</td>\n",
       "    </tr>\n",
       "    <tr>\n",
       "      <th>15</th>\n",
       "      <td>Lord of the DrinksConnaught Place, Central Delhi</td>\n",
       "      <td>Connaught Place, Central Delhi</td>\n",
       "      <td>4.2</td>\n",
       "      <td>https://im1.dineout.co.in/images/uploads/resta...</td>\n",
       "      <td>₹ 2,500 for 2 (approx) | Chinese, North Indian...</td>\n",
       "    </tr>\n",
       "    <tr>\n",
       "      <th>16</th>\n",
       "      <td>38 BarracksM-Block,Connaught Place, Central Delhi</td>\n",
       "      <td>M-Block,Connaught Place, Central Delhi</td>\n",
       "      <td>4.3</td>\n",
       "      <td>https://im1.dineout.co.in/images/uploads/resta...</td>\n",
       "      <td>₹ 2,700 for 2 (approx) | North Indian, Chinese...</td>\n",
       "    </tr>\n",
       "    <tr>\n",
       "      <th>17</th>\n",
       "      <td>The Imperial SpiceM-Block,Connaught Place, Cen...</td>\n",
       "      <td>M-Block,Connaught Place, Central Delhi</td>\n",
       "      <td>4.4</td>\n",
       "      <td>https://im1.dineout.co.in/images/uploads/resta...</td>\n",
       "      <td>₹ 3,000 for 2 (approx) | North Indian, Contine...</td>\n",
       "    </tr>\n",
       "    <tr>\n",
       "      <th>18</th>\n",
       "      <td>Out Of The Box CourtyardConnaught Place, Centr...</td>\n",
       "      <td>Connaught Place, Central Delhi</td>\n",
       "      <td>4.1</td>\n",
       "      <td>https://im1.dineout.co.in/images/uploads/resta...</td>\n",
       "      <td>₹ 2,200 for 2 (approx) | North Indian, Mediter...</td>\n",
       "    </tr>\n",
       "    <tr>\n",
       "      <th>19</th>\n",
       "      <td>Ardor 2.1 Restaurant and LoungeConnaught Place...</td>\n",
       "      <td>Connaught Place, Central Delhi</td>\n",
       "      <td>3.8</td>\n",
       "      <td>https://im1.dineout.co.in/images/uploads/resta...</td>\n",
       "      <td>₹ 2,000 for 2 (approx) | North Indian, Chinese...</td>\n",
       "    </tr>\n",
       "    <tr>\n",
       "      <th>20</th>\n",
       "      <td>Barbeque NationConnaught Place, Central Delhi</td>\n",
       "      <td>Connaught Place, Central Delhi</td>\n",
       "      <td>4.4</td>\n",
       "      <td>https://im1.dineout.co.in/images/uploads/resta...</td>\n",
       "      <td>₹ 1,600 for 2 (approx) | North Indian, Chinese</td>\n",
       "    </tr>\n",
       "  </tbody>\n",
       "</table>\n",
       "</div>"
      ],
      "text/plain": [
       "                                                Names  \\\n",
       "0               TamashaConnaught Place, Central Delhi   \n",
       "1   LocalScindia House,Connaught Place, Central Delhi   \n",
       "2   Unplugged CourtyardConnaught Place, Central Delhi   \n",
       "3   The G.T. ROADM-Block,Connaught Place, Central ...   \n",
       "4   Ministry Of BeerM-Block,Connaught Place, Centr...   \n",
       "5   Connaught Clubhouse MicrobreweryConnaught Plac...   \n",
       "6   High 5 - Everyday Wholesale BarConnaught Place...   \n",
       "7     The Junkyard CafeConnaught Place, Central Delhi   \n",
       "8        Warehouse CafeConnaught Place, Central Delhi   \n",
       "9   Chili's American Grill and BarM-Block,Connaugh...   \n",
       "10                  QBAConnaught Place, Central Delhi   \n",
       "11       Openhouse CafeConnaught Place, Central Delhi   \n",
       "12              Berco'sConnaught Place, Central Delhi   \n",
       "13               SandozConnaught Place, Central Delhi   \n",
       "14                ChidoConnaught Place, Central Delhi   \n",
       "15   Lord of the DrinksConnaught Place, Central Delhi   \n",
       "16  38 BarracksM-Block,Connaught Place, Central Delhi   \n",
       "17  The Imperial SpiceM-Block,Connaught Place, Cen...   \n",
       "18  Out Of The Box CourtyardConnaught Place, Centr...   \n",
       "19  Ardor 2.1 Restaurant and LoungeConnaught Place...   \n",
       "20      Barbeque NationConnaught Place, Central Delhi   \n",
       "\n",
       "                                        Location Rating  \\\n",
       "0                 Connaught Place, Central Delhi    4.2   \n",
       "1   Scindia House,Connaught Place, Central Delhi      4   \n",
       "2                 Connaught Place, Central Delhi      4   \n",
       "3         M-Block,Connaught Place, Central Delhi    4.3   \n",
       "4         M-Block,Connaught Place, Central Delhi      4   \n",
       "5                 Connaught Place, Central Delhi    4.2   \n",
       "6                 Connaught Place, Central Delhi    3.9   \n",
       "7                 Connaught Place, Central Delhi    4.1   \n",
       "8                 Connaught Place, Central Delhi    4.1   \n",
       "9         M-Block,Connaught Place, Central Delhi    4.3   \n",
       "10                Connaught Place, Central Delhi    4.3   \n",
       "11                Connaught Place, Central Delhi    4.1   \n",
       "12                Connaught Place, Central Delhi    4.3   \n",
       "13                Connaught Place, Central Delhi      4   \n",
       "14                Connaught Place, Central Delhi    4.2   \n",
       "15                Connaught Place, Central Delhi    4.2   \n",
       "16        M-Block,Connaught Place, Central Delhi    4.3   \n",
       "17        M-Block,Connaught Place, Central Delhi    4.4   \n",
       "18                Connaught Place, Central Delhi    4.1   \n",
       "19                Connaught Place, Central Delhi    3.8   \n",
       "20                Connaught Place, Central Delhi    4.4   \n",
       "\n",
       "                                                Image  \\\n",
       "0   https://im1.dineout.co.in/images/uploads/resta...   \n",
       "1   https://im1.dineout.co.in/images/uploads/resta...   \n",
       "2   https://im1.dineout.co.in/images/uploads/resta...   \n",
       "3   https://im1.dineout.co.in/images/uploads/resta...   \n",
       "4   https://im1.dineout.co.in/images/uploads/resta...   \n",
       "5   https://im1.dineout.co.in/images/uploads/resta...   \n",
       "6   https://im1.dineout.co.in/images/uploads/resta...   \n",
       "7   https://im1.dineout.co.in/images/uploads/resta...   \n",
       "8   https://im1.dineout.co.in/images/uploads/resta...   \n",
       "9   https://im1.dineout.co.in/images/uploads/resta...   \n",
       "10  https://im1.dineout.co.in/images/uploads/resta...   \n",
       "11  https://im1.dineout.co.in/images/uploads/resta...   \n",
       "12  https://im1.dineout.co.in/images/uploads/resta...   \n",
       "13  https://im1.dineout.co.in/images/uploads/resta...   \n",
       "14  https://im1.dineout.co.in/images/uploads/resta...   \n",
       "15  https://im1.dineout.co.in/images/uploads/resta...   \n",
       "16  https://im1.dineout.co.in/images/uploads/resta...   \n",
       "17  https://im1.dineout.co.in/images/uploads/resta...   \n",
       "18  https://im1.dineout.co.in/images/uploads/resta...   \n",
       "19  https://im1.dineout.co.in/images/uploads/resta...   \n",
       "20  https://im1.dineout.co.in/images/uploads/resta...   \n",
       "\n",
       "                                              Cuisine  \n",
       "0   ₹ 2,000 for 2 (approx) | Continental, Asian, I...  \n",
       "1   ₹ 2,000 for 2 (approx) | North Indian, Asian, ...  \n",
       "2   ₹ 3,300 for 2 (approx) | North Indian, Italian...  \n",
       "3               ₹ 1,400 for 2 (approx) | North Indian  \n",
       "4   ₹ 3,000 for 2 (approx) | North Indian, Contine...  \n",
       "5   ₹ 1,600 for 2 (approx) | North Indian, Italian...  \n",
       "6   ₹ 1,700 for 2 (approx) | North Indian, Contine...  \n",
       "7   ₹ 2,100 for 2 (approx) | North Indian, Contine...  \n",
       "8   ₹ 2,500 for 2 (approx) | North Indian, Chinese...  \n",
       "9   ₹ 2,000 for 2 (approx) | Mexican, American, Te...  \n",
       "10  ₹ 2,100 for 2 (approx) | North Indian, Contine...  \n",
       "11  ₹ 2,000 for 2 (approx) | North Indian, Asian, ...  \n",
       "12                   ₹ 1,300 for 2 (approx) | Chinese  \n",
       "13  ₹ 1,400 for 2 (approx) | North Indian, Chinese...  \n",
       "14  ₹ 1,800 for 2 (approx) | North Indian, Italian...  \n",
       "15  ₹ 2,500 for 2 (approx) | Chinese, North Indian...  \n",
       "16  ₹ 2,700 for 2 (approx) | North Indian, Chinese...  \n",
       "17  ₹ 3,000 for 2 (approx) | North Indian, Contine...  \n",
       "18  ₹ 2,200 for 2 (approx) | North Indian, Mediter...  \n",
       "19  ₹ 2,000 for 2 (approx) | North Indian, Chinese...  \n",
       "20     ₹ 1,600 for 2 (approx) | North Indian, Chinese  "
      ]
     },
     "execution_count": 50,
     "metadata": {},
     "output_type": "execute_result"
    }
   ],
   "source": [
    "import pandas as pd\n",
    "df=pd.DataFrame({'Names':names,'Location':location,'Rating':rating,'Image':image,'Cuisine':cuisine})\n",
    "df"
   ]
  },
  {
   "cell_type": "markdown",
   "id": "df36feab",
   "metadata": {},
   "source": [
    "# question 10 https://www.bewakoof.com/women-printed-t-shirts"
   ]
  },
  {
   "cell_type": "code",
   "execution_count": 51,
   "id": "db385539",
   "metadata": {},
   "outputs": [
    {
     "data": {
      "text/plain": [
       "<Response [200]>"
      ]
     },
     "execution_count": 51,
     "metadata": {},
     "output_type": "execute_result"
    }
   ],
   "source": [
    "page=requests.get('https://www.bewakoof.com/women-plain-t-shirts')\n",
    "page"
   ]
  },
  {
   "cell_type": "code",
   "execution_count": null,
   "id": "c929f77d",
   "metadata": {},
   "outputs": [],
   "source": [
    "soup=BeautifulSoup(page.content)\n",
    "soup"
   ]
  },
  {
   "cell_type": "code",
   "execution_count": null,
   "id": "253b12c4",
   "metadata": {},
   "outputs": [],
   "source": [
    "name=[]\n",
    "for i in soup.find_all('div',class_=\"productCardBox\"):\n",
    "    name.append(i.text.split()[0:5])\n",
    "name"
   ]
  },
  {
   "cell_type": "code",
   "execution_count": null,
   "id": "b6f042e5",
   "metadata": {},
   "outputs": [],
   "source": [
    "price=[]\n",
    "for i in soup.find_all('span',class_=\"discountedPriceText\"):    \n",
    "    price.append(i.text)\n",
    "price    "
   ]
  },
  {
   "cell_type": "code",
   "execution_count": 55,
   "id": "9c8625ea",
   "metadata": {},
   "outputs": [
    {
     "data": {
      "text/plain": [
       "[]"
      ]
     },
     "execution_count": 55,
     "metadata": {},
     "output_type": "execute_result"
    }
   ],
   "source": [
    "image=[]\n",
    "for i in soup.find_all('div',style=\"width: 100%; padding-top: 125%; position: relative; background: rgb(248, 248, 249);\"):\n",
    "    image.append(i.text)\n",
    "image    "
   ]
  },
  {
   "cell_type": "code",
   "execution_count": 56,
   "id": "890964b3",
   "metadata": {},
   "outputs": [
    {
     "name": "stdout",
     "output_type": "stream",
     "text": [
      "30 30\n"
     ]
    }
   ],
   "source": [
    "print(len(name),len(price))\n",
    "      \n",
    "\n"
   ]
  },
  {
   "cell_type": "code",
   "execution_count": 57,
   "id": "0dcc6b1d",
   "metadata": {},
   "outputs": [
    {
     "data": {
      "text/html": [
       "<div>\n",
       "<style scoped>\n",
       "    .dataframe tbody tr th:only-of-type {\n",
       "        vertical-align: middle;\n",
       "    }\n",
       "\n",
       "    .dataframe tbody tr th {\n",
       "        vertical-align: top;\n",
       "    }\n",
       "\n",
       "    .dataframe thead th {\n",
       "        text-align: right;\n",
       "    }\n",
       "</style>\n",
       "<table border=\"1\" class=\"dataframe\">\n",
       "  <thead>\n",
       "    <tr style=\"text-align: right;\">\n",
       "      <th></th>\n",
       "      <th>Name</th>\n",
       "      <th>Price</th>\n",
       "    </tr>\n",
       "  </thead>\n",
       "  <tbody>\n",
       "    <tr>\n",
       "      <th>0</th>\n",
       "      <td>[Oversized, fitWomen's, Yellow, Solid, Oversized]</td>\n",
       "      <td>₹ 562</td>\n",
       "    </tr>\n",
       "    <tr>\n",
       "      <th>1</th>\n",
       "      <td>[Oversized, fitWomen's, Pink, Solid, Oversized]</td>\n",
       "      <td>₹ 562</td>\n",
       "    </tr>\n",
       "    <tr>\n",
       "      <th>2</th>\n",
       "      <td>[Oversized, fitWomen's, Green, Solid, Oversized]</td>\n",
       "      <td>₹ 562</td>\n",
       "    </tr>\n",
       "    <tr>\n",
       "      <th>3</th>\n",
       "      <td>[Oversized, fitWomen's, Red, Solid, Oversized]</td>\n",
       "      <td>₹ 562</td>\n",
       "    </tr>\n",
       "    <tr>\n",
       "      <th>4</th>\n",
       "      <td>[Oversized, fitWomen's, Pink, Solid, Oversized]</td>\n",
       "      <td>₹ 562</td>\n",
       "    </tr>\n",
       "    <tr>\n",
       "      <th>5</th>\n",
       "      <td>[Slim, fitHashtag, Blue, Henley, T-Shirt₹]</td>\n",
       "      <td>₹ 349</td>\n",
       "    </tr>\n",
       "    <tr>\n",
       "      <th>6</th>\n",
       "      <td>[Lavender, Keyhole, neck, top₹, 499899FEW]</td>\n",
       "      <td>₹ 499</td>\n",
       "    </tr>\n",
       "    <tr>\n",
       "      <th>7</th>\n",
       "      <td>[Slim, fitChilli, Pepper, Full, Sleeve]</td>\n",
       "      <td>₹ 399</td>\n",
       "    </tr>\n",
       "    <tr>\n",
       "      <th>8</th>\n",
       "      <td>[Slim, fitBubble, Gum, Half, Sleeve]</td>\n",
       "      <td>₹ 349</td>\n",
       "    </tr>\n",
       "    <tr>\n",
       "      <th>9</th>\n",
       "      <td>[Women's, Round, Neck, Short, Sleeves]</td>\n",
       "      <td>₹ 539</td>\n",
       "    </tr>\n",
       "    <tr>\n",
       "      <th>10</th>\n",
       "      <td>[Slim, fitWomen's, White, Typography, T-shirt₹]</td>\n",
       "      <td>₹ 636</td>\n",
       "    </tr>\n",
       "    <tr>\n",
       "      <th>11</th>\n",
       "      <td>[Loose, fitWomen's, Green, Typography, T-shirt₹]</td>\n",
       "      <td>₹ 636</td>\n",
       "    </tr>\n",
       "    <tr>\n",
       "      <th>12</th>\n",
       "      <td>[Oversized, fitWomen's, Yellow, Solid, Oversized]</td>\n",
       "      <td>₹ 562</td>\n",
       "    </tr>\n",
       "    <tr>\n",
       "      <th>13</th>\n",
       "      <td>[Oversized, fitWomen's, Pink, Solid, Oversized]</td>\n",
       "      <td>₹ 562</td>\n",
       "    </tr>\n",
       "    <tr>\n",
       "      <th>14</th>\n",
       "      <td>[Oversized, fitWomen's, Red, Graphic, Print]</td>\n",
       "      <td>₹ 629</td>\n",
       "    </tr>\n",
       "    <tr>\n",
       "      <th>15</th>\n",
       "      <td>[Oversized, fitWomen's, Red, Solid, Oversized]</td>\n",
       "      <td>₹ 562</td>\n",
       "    </tr>\n",
       "    <tr>\n",
       "      <th>16</th>\n",
       "      <td>[Oversized, fitWomen's, Green, Solid, Oversized]</td>\n",
       "      <td>₹ 562</td>\n",
       "    </tr>\n",
       "    <tr>\n",
       "      <th>17</th>\n",
       "      <td>[Oversized, fitWomen's, Green, Typography, Ove...</td>\n",
       "      <td>₹ 629</td>\n",
       "    </tr>\n",
       "    <tr>\n",
       "      <th>18</th>\n",
       "      <td>[Slim, fitWomen's, Purple, Solid, T-Shirt₹]</td>\n",
       "      <td>₹ 455</td>\n",
       "    </tr>\n",
       "    <tr>\n",
       "      <th>19</th>\n",
       "      <td>[Slim, fitWomen's, Blue, Solid, T-Shirt₹]</td>\n",
       "      <td>₹ 455</td>\n",
       "    </tr>\n",
       "    <tr>\n",
       "      <th>20</th>\n",
       "      <td>[Women's, Yellow, Regular, Fit, Coats₹]</td>\n",
       "      <td>₹ 1999</td>\n",
       "    </tr>\n",
       "    <tr>\n",
       "      <th>21</th>\n",
       "      <td>[Plus, SizeDusty, Pink, Plus, Size]</td>\n",
       "      <td>₹ 999</td>\n",
       "    </tr>\n",
       "    <tr>\n",
       "      <th>22</th>\n",
       "      <td>[LAST, SIZES, LEFT, -, SPECIAL]</td>\n",
       "      <td>₹ 1149</td>\n",
       "    </tr>\n",
       "    <tr>\n",
       "      <th>23</th>\n",
       "      <td>[Yellow, Fashion, Color, Block, Windcheater₹]</td>\n",
       "      <td>₹ 799</td>\n",
       "    </tr>\n",
       "    <tr>\n",
       "      <th>24</th>\n",
       "      <td>[Plus, SizeWhite-High, Risk, Red-Black, Plus]</td>\n",
       "      <td>₹ 999</td>\n",
       "    </tr>\n",
       "    <tr>\n",
       "      <th>25</th>\n",
       "      <td>[Dusty, Pink, Fashion, Color, Block]</td>\n",
       "      <td>₹ 999</td>\n",
       "    </tr>\n",
       "    <tr>\n",
       "      <th>26</th>\n",
       "      <td>[Winter, Moss, Fashion, Color, Block]</td>\n",
       "      <td>₹ 999</td>\n",
       "    </tr>\n",
       "    <tr>\n",
       "      <th>27</th>\n",
       "      <td>[Women's, Olive, Winter, Jacket₹, 9992699₹929For]</td>\n",
       "      <td>₹ 999</td>\n",
       "    </tr>\n",
       "    <tr>\n",
       "      <th>28</th>\n",
       "      <td>[Women's, Fashion, Color, Block, Winter]</td>\n",
       "      <td>₹ 1149</td>\n",
       "    </tr>\n",
       "    <tr>\n",
       "      <th>29</th>\n",
       "      <td>[Killer, Brown, Color, Block, Jacket₹]</td>\n",
       "      <td>₹ 699</td>\n",
       "    </tr>\n",
       "  </tbody>\n",
       "</table>\n",
       "</div>"
      ],
      "text/plain": [
       "                                                 Name   Price\n",
       "0   [Oversized, fitWomen's, Yellow, Solid, Oversized]   ₹ 562\n",
       "1     [Oversized, fitWomen's, Pink, Solid, Oversized]   ₹ 562\n",
       "2    [Oversized, fitWomen's, Green, Solid, Oversized]   ₹ 562\n",
       "3      [Oversized, fitWomen's, Red, Solid, Oversized]   ₹ 562\n",
       "4     [Oversized, fitWomen's, Pink, Solid, Oversized]   ₹ 562\n",
       "5          [Slim, fitHashtag, Blue, Henley, T-Shirt₹]   ₹ 349\n",
       "6          [Lavender, Keyhole, neck, top₹, 499899FEW]   ₹ 499\n",
       "7             [Slim, fitChilli, Pepper, Full, Sleeve]   ₹ 399\n",
       "8                [Slim, fitBubble, Gum, Half, Sleeve]   ₹ 349\n",
       "9              [Women's, Round, Neck, Short, Sleeves]   ₹ 539\n",
       "10    [Slim, fitWomen's, White, Typography, T-shirt₹]   ₹ 636\n",
       "11   [Loose, fitWomen's, Green, Typography, T-shirt₹]   ₹ 636\n",
       "12  [Oversized, fitWomen's, Yellow, Solid, Oversized]   ₹ 562\n",
       "13    [Oversized, fitWomen's, Pink, Solid, Oversized]   ₹ 562\n",
       "14       [Oversized, fitWomen's, Red, Graphic, Print]   ₹ 629\n",
       "15     [Oversized, fitWomen's, Red, Solid, Oversized]   ₹ 562\n",
       "16   [Oversized, fitWomen's, Green, Solid, Oversized]   ₹ 562\n",
       "17  [Oversized, fitWomen's, Green, Typography, Ove...   ₹ 629\n",
       "18        [Slim, fitWomen's, Purple, Solid, T-Shirt₹]   ₹ 455\n",
       "19          [Slim, fitWomen's, Blue, Solid, T-Shirt₹]   ₹ 455\n",
       "20            [Women's, Yellow, Regular, Fit, Coats₹]  ₹ 1999\n",
       "21                [Plus, SizeDusty, Pink, Plus, Size]   ₹ 999\n",
       "22                    [LAST, SIZES, LEFT, -, SPECIAL]  ₹ 1149\n",
       "23      [Yellow, Fashion, Color, Block, Windcheater₹]   ₹ 799\n",
       "24      [Plus, SizeWhite-High, Risk, Red-Black, Plus]   ₹ 999\n",
       "25               [Dusty, Pink, Fashion, Color, Block]   ₹ 999\n",
       "26              [Winter, Moss, Fashion, Color, Block]   ₹ 999\n",
       "27  [Women's, Olive, Winter, Jacket₹, 9992699₹929For]   ₹ 999\n",
       "28           [Women's, Fashion, Color, Block, Winter]  ₹ 1149\n",
       "29             [Killer, Brown, Color, Block, Jacket₹]   ₹ 699"
      ]
     },
     "execution_count": 57,
     "metadata": {},
     "output_type": "execute_result"
    }
   ],
   "source": [
    "import pandas as pd\n",
    "df=pd.DataFrame({'Name':name,'Price':price})\n",
    "df"
   ]
  },
  {
   "cell_type": "code",
   "execution_count": 58,
   "id": "79d81d80",
   "metadata": {},
   "outputs": [
    {
     "name": "stdout",
     "output_type": "stream",
     "text": [
      "                                                Name  Price\n",
      "0  [Oversized, fitWomen's, Yellow, Solid, Oversized]  ₹ 562\n",
      "1    [Oversized, fitWomen's, Pink, Solid, Oversized]  ₹ 562\n",
      "2   [Oversized, fitWomen's, Green, Solid, Oversized]  ₹ 562\n",
      "3     [Oversized, fitWomen's, Red, Solid, Oversized]  ₹ 562\n",
      "4    [Oversized, fitWomen's, Pink, Solid, Oversized]  ₹ 562\n",
      "5         [Slim, fitHashtag, Blue, Henley, T-Shirt₹]  ₹ 349\n",
      "6         [Lavender, Keyhole, neck, top₹, 499899FEW]  ₹ 499\n",
      "7            [Slim, fitChilli, Pepper, Full, Sleeve]  ₹ 399\n",
      "8               [Slim, fitBubble, Gum, Half, Sleeve]  ₹ 349\n",
      "9             [Women's, Round, Neck, Short, Sleeves]  ₹ 539\n"
     ]
    }
   ],
   "source": [
    "print(df.iloc[0:10])"
   ]
  },
  {
   "cell_type": "code",
   "execution_count": null,
   "id": "48331cc5",
   "metadata": {},
   "outputs": [],
   "source": []
  },
  {
   "cell_type": "code",
   "execution_count": null,
   "id": "5e8dd165",
   "metadata": {},
   "outputs": [],
   "source": []
  },
  {
   "cell_type": "code",
   "execution_count": null,
   "id": "c31cf343",
   "metadata": {},
   "outputs": [],
   "source": []
  },
  {
   "cell_type": "code",
   "execution_count": null,
   "id": "13ce0405",
   "metadata": {},
   "outputs": [],
   "source": []
  }
 ],
 "metadata": {
  "kernelspec": {
   "display_name": "Python 3 (ipykernel)",
   "language": "python",
   "name": "python3"
  },
  "language_info": {
   "codemirror_mode": {
    "name": "ipython",
    "version": 3
   },
   "file_extension": ".py",
   "mimetype": "text/x-python",
   "name": "python",
   "nbconvert_exporter": "python",
   "pygments_lexer": "ipython3",
   "version": "3.9.7"
  }
 },
 "nbformat": 4,
 "nbformat_minor": 5
}
