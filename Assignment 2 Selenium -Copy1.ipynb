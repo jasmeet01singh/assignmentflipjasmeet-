{
 "cells": [
  {
   "cell_type": "code",
   "execution_count": null,
   "id": "a7cf454c",
   "metadata": {},
   "outputs": [],
   "source": [
    "! pip  install selenium"
   ]
  },
  {
   "cell_type": "code",
   "execution_count": 2,
   "id": "06502de9",
   "metadata": {},
   "outputs": [],
   "source": [
    "import selenium\n",
    "import pandas as pd\n",
    "from selenium import webdriver\n",
    "import warnings\n",
    "warnings.filterwarnings(\"ignore\")\n",
    "import time"
   ]
  },
  {
   "cell_type": "markdown",
   "id": "03e9e039",
   "metadata": {},
   "source": [
    "# Question 2"
   ]
  },
  {
   "cell_type": "code",
   "execution_count": 3,
   "id": "edd1c8d7",
   "metadata": {},
   "outputs": [],
   "source": [
    "driver= webdriver.Chrome(r\"C:\\web driver\\chromedriver.exe\")"
   ]
  },
  {
   "cell_type": "code",
   "execution_count": 4,
   "id": "862bcfcb",
   "metadata": {},
   "outputs": [],
   "source": [
    "driver=webdriver.Chrome(\"chromedriver.exe\")\n",
    "time.sleep(2)"
   ]
  },
  {
   "cell_type": "code",
   "execution_count": 5,
   "id": "5c3e1e84",
   "metadata": {},
   "outputs": [],
   "source": [
    "driver.get('https://www.naukri.com')"
   ]
  },
  {
   "cell_type": "code",
   "execution_count": 6,
   "id": "356e2a1a",
   "metadata": {},
   "outputs": [],
   "source": [
    "search_feild_designation=driver.find_element_by_class_name(\"suggestor-input \")\n",
    "search_feild_designation.send_keys(\"Data Scientist\")\n",
    "\n"
   ]
  },
  {
   "cell_type": "code",
   "execution_count": 7,
   "id": "0f01b3df",
   "metadata": {},
   "outputs": [],
   "source": [
    "search_feild_loc=driver.find_element_by_xpath('//*[@id=\"root\"]/div[2]/div[3]/div/div/div[3]/div/div/div/input')\n",
    "search_feild_loc.send_keys(\"Bangalore\")"
   ]
  },
  {
   "cell_type": "code",
   "execution_count": 8,
   "id": "51c7a77c",
   "metadata": {},
   "outputs": [],
   "source": [
    "search_button=driver.find_element_by_xpath('/html/body/div/div[2]/div[3]/div/div/div[6]')\n",
    "search_button.click()"
   ]
  },
  {
   "cell_type": "code",
   "execution_count": 9,
   "id": "563aac68",
   "metadata": {},
   "outputs": [],
   "source": [
    "job_titles=[]\n",
    "company_names=[]\n",
    "locations_list=[]\n",
    "experince_list=[]"
   ]
  },
  {
   "cell_type": "code",
   "execution_count": null,
   "id": "59ac5c95",
   "metadata": {},
   "outputs": [],
   "source": [
    "titles_tags=driver.find_elements_by_xpath(\"//a[@class='title fw500 ellipsis']\")\n",
    "titles_tags[0:10]"
   ]
  },
  {
   "cell_type": "code",
   "execution_count": null,
   "id": "fd780641",
   "metadata": {},
   "outputs": [],
   "source": [
    "for i in  titles_tags:\n",
    "    title=i.text\n",
    "    job_titles.append(title)\n",
    "job_titles[0:10]    "
   ]
  },
  {
   "cell_type": "code",
   "execution_count": null,
   "id": "cc2a9a77",
   "metadata": {},
   "outputs": [],
   "source": [
    "companies_tags=driver.find_elements_by_xpath(\"//a [@class='subTitle ellipsis fleft']\")\n",
    "companies_tags[0:10]                                            "
   ]
  },
  {
   "cell_type": "code",
   "execution_count": null,
   "id": "4b48fa71",
   "metadata": {},
   "outputs": [],
   "source": [
    "for i in companies_tags:\n",
    "    company_name=i.text\n",
    "    company_names.append(company_name)\n",
    "company_names[0:10]    "
   ]
  },
  {
   "cell_type": "code",
   "execution_count": null,
   "id": "4f0ba90b",
   "metadata": {},
   "outputs": [],
   "source": [
    "experince_tags=driver.find_elements_by_xpath(\"//li[@ class='fleft grey-text br2 placeHolderLi experience']\")\n",
    "experince_tags[0:10]                                                  "
   ]
  },
  {
   "cell_type": "code",
   "execution_count": null,
   "id": "81df18a1",
   "metadata": {},
   "outputs": [],
   "source": [
    "for i in experince_tags:\n",
    "    experince=i.text\n",
    "    experince_list.append(experince)\n",
    "experince_list[0:10]    "
   ]
  },
  {
   "cell_type": "code",
   "execution_count": null,
   "id": "a7b541ef",
   "metadata": {},
   "outputs": [],
   "source": [
    "locations_tags=driver.find_elements_by_xpath(\"//li [@class='fleft grey-text br2 placeHolderLi location']\")\n",
    "locations_tags[0:10]"
   ]
  },
  {
   "cell_type": "code",
   "execution_count": null,
   "id": "6c4b4e4f",
   "metadata": {},
   "outputs": [],
   "source": [
    "for i in locations_tags:\n",
    "    location=i.text\n",
    "    locations_list.append(location)\n",
    "locations_list[0:10]    \n",
    "\n",
    "    "
   ]
  },
  {
   "cell_type": "code",
   "execution_count": 18,
   "id": "bc644896",
   "metadata": {},
   "outputs": [
    {
     "name": "stdout",
     "output_type": "stream",
     "text": [
      "20 20 20 20\n"
     ]
    }
   ],
   "source": [
    "print(len(job_titles),len(company_names),len(locations_list),len(experince_list))"
   ]
  },
  {
   "cell_type": "code",
   "execution_count": 19,
   "id": "6bb131ce",
   "metadata": {},
   "outputs": [],
   "source": [
    "import pandas as pd\n",
    "jobs=pd.DataFrame(())\n",
    "jobs['title']=job_titles\n",
    "jobs['company']=company_names\n",
    "jobs['experince_required']=experince_list\n",
    "jobs['location']=locations_list"
   ]
  },
  {
   "cell_type": "code",
   "execution_count": 20,
   "id": "080c041e",
   "metadata": {},
   "outputs": [
    {
     "data": {
      "text/html": [
       "<div>\n",
       "<style scoped>\n",
       "    .dataframe tbody tr th:only-of-type {\n",
       "        vertical-align: middle;\n",
       "    }\n",
       "\n",
       "    .dataframe tbody tr th {\n",
       "        vertical-align: top;\n",
       "    }\n",
       "\n",
       "    .dataframe thead th {\n",
       "        text-align: right;\n",
       "    }\n",
       "</style>\n",
       "<table border=\"1\" class=\"dataframe\">\n",
       "  <thead>\n",
       "    <tr style=\"text-align: right;\">\n",
       "      <th></th>\n",
       "      <th>title</th>\n",
       "      <th>company</th>\n",
       "      <th>experince_required</th>\n",
       "      <th>location</th>\n",
       "    </tr>\n",
       "  </thead>\n",
       "  <tbody>\n",
       "    <tr>\n",
       "      <th>0</th>\n",
       "      <td>Applied Data Scientist / ML Senior Engineer (P...</td>\n",
       "      <td>SAP India Pvt.Ltd</td>\n",
       "      <td>5-10 Yrs</td>\n",
       "      <td>Bangalore/Bengaluru</td>\n",
       "    </tr>\n",
       "    <tr>\n",
       "      <th>1</th>\n",
       "      <td>Senior Data Scientist Grade12</td>\n",
       "      <td>Flipkart</td>\n",
       "      <td>5-10 Yrs</td>\n",
       "      <td>Bangalore/Bengaluru</td>\n",
       "    </tr>\n",
       "    <tr>\n",
       "      <th>2</th>\n",
       "      <td>Senior Data Scientist Grade12</td>\n",
       "      <td>Flipkart</td>\n",
       "      <td>5-7 Yrs</td>\n",
       "      <td>Bangalore/Bengaluru</td>\n",
       "    </tr>\n",
       "    <tr>\n",
       "      <th>3</th>\n",
       "      <td>Senior Data Scientist</td>\n",
       "      <td>Fractal Analytics</td>\n",
       "      <td>5-10 Yrs</td>\n",
       "      <td>Bangalore/Bengaluru</td>\n",
       "    </tr>\n",
       "    <tr>\n",
       "      <th>4</th>\n",
       "      <td>Data Scientist: Advanced Analytics</td>\n",
       "      <td>IBM</td>\n",
       "      <td>2-5 Yrs</td>\n",
       "      <td>Bangalore/Bengaluru</td>\n",
       "    </tr>\n",
       "    <tr>\n",
       "      <th>5</th>\n",
       "      <td>Data Scientist</td>\n",
       "      <td>Genpact</td>\n",
       "      <td>5-8 Yrs</td>\n",
       "      <td>Hyderabad/Secunderabad, Bangalore/Bengaluru, D...</td>\n",
       "    </tr>\n",
       "    <tr>\n",
       "      <th>6</th>\n",
       "      <td>Data Scientist</td>\n",
       "      <td>VISA</td>\n",
       "      <td>3-7 Yrs</td>\n",
       "      <td>Bangalore/Bengaluru</td>\n",
       "    </tr>\n",
       "    <tr>\n",
       "      <th>7</th>\n",
       "      <td>Data Scientist: Artificial Intelligence</td>\n",
       "      <td>IBM</td>\n",
       "      <td>3-7 Yrs</td>\n",
       "      <td>Bangalore/Bengaluru</td>\n",
       "    </tr>\n",
       "    <tr>\n",
       "      <th>8</th>\n",
       "      <td>Data Scientist, Machine Learning (AIML)</td>\n",
       "      <td>Fractal Analytics</td>\n",
       "      <td>3-7 Yrs</td>\n",
       "      <td>Bangalore/Bengaluru</td>\n",
       "    </tr>\n",
       "    <tr>\n",
       "      <th>9</th>\n",
       "      <td>Lead Applied Data Scientist</td>\n",
       "      <td>Tesco Bengaluru</td>\n",
       "      <td>4-7 Yrs</td>\n",
       "      <td>Bangalore/Bengaluru</td>\n",
       "    </tr>\n",
       "  </tbody>\n",
       "</table>\n",
       "</div>"
      ],
      "text/plain": [
       "                                               title            company  \\\n",
       "0  Applied Data Scientist / ML Senior Engineer (P...  SAP India Pvt.Ltd   \n",
       "1                      Senior Data Scientist Grade12           Flipkart   \n",
       "2                      Senior Data Scientist Grade12           Flipkart   \n",
       "3                              Senior Data Scientist  Fractal Analytics   \n",
       "4                 Data Scientist: Advanced Analytics                IBM   \n",
       "5                                     Data Scientist            Genpact   \n",
       "6                                     Data Scientist               VISA   \n",
       "7            Data Scientist: Artificial Intelligence                IBM   \n",
       "8            Data Scientist, Machine Learning (AIML)  Fractal Analytics   \n",
       "9                        Lead Applied Data Scientist    Tesco Bengaluru   \n",
       "\n",
       "  experince_required                                           location  \n",
       "0           5-10 Yrs                                Bangalore/Bengaluru  \n",
       "1           5-10 Yrs                                Bangalore/Bengaluru  \n",
       "2            5-7 Yrs                                Bangalore/Bengaluru  \n",
       "3           5-10 Yrs                                Bangalore/Bengaluru  \n",
       "4            2-5 Yrs                                Bangalore/Bengaluru  \n",
       "5            5-8 Yrs  Hyderabad/Secunderabad, Bangalore/Bengaluru, D...  \n",
       "6            3-7 Yrs                                Bangalore/Bengaluru  \n",
       "7            3-7 Yrs                                Bangalore/Bengaluru  \n",
       "8            3-7 Yrs                                Bangalore/Bengaluru  \n",
       "9            4-7 Yrs                                Bangalore/Bengaluru  "
      ]
     },
     "execution_count": 20,
     "metadata": {},
     "output_type": "execute_result"
    }
   ],
   "source": [
    "jobs.head(10)"
   ]
  },
  {
   "cell_type": "markdown",
   "id": "5cda1f3b",
   "metadata": {},
   "source": [
    "# Question 1"
   ]
  },
  {
   "cell_type": "code",
   "execution_count": 21,
   "id": "cb365135",
   "metadata": {},
   "outputs": [],
   "source": [
    "driver= webdriver.Chrome(r\"C:\\web driver\\chromedriver.exe\")"
   ]
  },
  {
   "cell_type": "code",
   "execution_count": 22,
   "id": "b8719bde",
   "metadata": {},
   "outputs": [],
   "source": [
    "driver=webdriver.Chrome(\"chromedriver.exe\")\n",
    "time.sleep(2)"
   ]
  },
  {
   "cell_type": "code",
   "execution_count": 23,
   "id": "59124324",
   "metadata": {},
   "outputs": [],
   "source": [
    "driver.get('https://www.naukri.com')"
   ]
  },
  {
   "cell_type": "code",
   "execution_count": 24,
   "id": "22ff897e",
   "metadata": {},
   "outputs": [],
   "source": [
    "search_feild_designation=driver.find_element_by_class_name(\"suggestor-input \")\n",
    "search_feild_designation.send_keys(\"Data Analyst\")\n",
    "\n"
   ]
  },
  {
   "cell_type": "code",
   "execution_count": 25,
   "id": "496274f9",
   "metadata": {},
   "outputs": [],
   "source": [
    "search_feild_loc=driver.find_element_by_xpath('//*[@id=\"root\"]/div[2]/div[3]/div/div/div[3]/div/div/div/input')\n",
    "search_feild_loc.send_keys(\"Bangalore\")"
   ]
  },
  {
   "cell_type": "code",
   "execution_count": 26,
   "id": "5b84f3aa",
   "metadata": {},
   "outputs": [],
   "source": [
    "search_button=driver.find_element_by_xpath('//*[@id=\"root\"]/div[2]/div[3]/div/div/div[6]')\n",
    "search_button.click()"
   ]
  },
  {
   "cell_type": "code",
   "execution_count": 27,
   "id": "8030c536",
   "metadata": {},
   "outputs": [],
   "source": [
    "job_titles=[]\n",
    "company_names=[]\n",
    "locations_list=[]\n",
    "experince_list=[]"
   ]
  },
  {
   "cell_type": "code",
   "execution_count": null,
   "id": "37947ff8",
   "metadata": {},
   "outputs": [],
   "source": [
    "titles_tags=driver.find_elements_by_xpath(\"//a[@class='title fw500 ellipsis']\")\n",
    "titles_tags[0:10]"
   ]
  },
  {
   "cell_type": "code",
   "execution_count": null,
   "id": "1e280d5e",
   "metadata": {},
   "outputs": [],
   "source": [
    "for i in  titles_tags:\n",
    "    title=i.text\n",
    "    job_titles.append(title)\n",
    "job_titles[0:10]    "
   ]
  },
  {
   "cell_type": "code",
   "execution_count": null,
   "id": "d9f093d3",
   "metadata": {},
   "outputs": [],
   "source": [
    "companies_tags=driver.find_elements_by_xpath(\"//a [@class='subTitle ellipsis fleft']\")\n",
    "companies_tags[0:10]                                            \n",
    "\n",
    "experince_tags=driver.find_elements_by_xpath(\"//li[@ class='fleft grey-text br2 placeHolderLi experience']\")\n",
    "experince_tags[0:10]                                                  "
   ]
  },
  {
   "cell_type": "code",
   "execution_count": null,
   "id": "74f3f5c5",
   "metadata": {},
   "outputs": [],
   "source": [
    "for i in companies_tags:\n",
    "    company_name=i.text\n",
    "    company_names.append(company_name)\n",
    "company_names[0:10]    \n",
    "\n",
    "\n",
    "\n"
   ]
  },
  {
   "cell_type": "code",
   "execution_count": null,
   "id": "e85d914f",
   "metadata": {},
   "outputs": [],
   "source": [
    "for i in experince_tags:\n",
    "    experince=i.text\n",
    "    experince_list.append(experince)\n",
    "experince_list[0:10]    "
   ]
  },
  {
   "cell_type": "code",
   "execution_count": null,
   "id": "f555c7dd",
   "metadata": {},
   "outputs": [],
   "source": [
    "locations_tags=driver.find_elements_by_xpath(\"//li [@class='fleft grey-text br2 placeHolderLi location']\")\n",
    "locations_tags[0:10]"
   ]
  },
  {
   "cell_type": "code",
   "execution_count": null,
   "id": "3ec8fa75",
   "metadata": {},
   "outputs": [],
   "source": [
    "for i in locations_tags:\n",
    "    location=i.text\n",
    "    locations_list.append(location)\n",
    "locations_list[0:10]    \n",
    "\n",
    "    "
   ]
  },
  {
   "cell_type": "code",
   "execution_count": 35,
   "id": "482ccc15",
   "metadata": {},
   "outputs": [
    {
     "name": "stdout",
     "output_type": "stream",
     "text": [
      "20 20 20 20\n"
     ]
    }
   ],
   "source": [
    "print(len(job_titles),len(company_names),len(locations_list),len(experince_list))"
   ]
  },
  {
   "cell_type": "code",
   "execution_count": 36,
   "id": "69343947",
   "metadata": {},
   "outputs": [],
   "source": [
    "import pandas as pd\n",
    "jobs=pd.DataFrame(())\n",
    "jobs['title']=job_titles\n",
    "jobs['company']=company_names\n",
    "jobs['experince_required']=experince_list\n",
    "jobs['location']=locations_list"
   ]
  },
  {
   "cell_type": "code",
   "execution_count": 37,
   "id": "a30e0466",
   "metadata": {},
   "outputs": [
    {
     "data": {
      "text/html": [
       "<div>\n",
       "<style scoped>\n",
       "    .dataframe tbody tr th:only-of-type {\n",
       "        vertical-align: middle;\n",
       "    }\n",
       "\n",
       "    .dataframe tbody tr th {\n",
       "        vertical-align: top;\n",
       "    }\n",
       "\n",
       "    .dataframe thead th {\n",
       "        text-align: right;\n",
       "    }\n",
       "</style>\n",
       "<table border=\"1\" class=\"dataframe\">\n",
       "  <thead>\n",
       "    <tr style=\"text-align: right;\">\n",
       "      <th></th>\n",
       "      <th>title</th>\n",
       "      <th>company</th>\n",
       "      <th>experince_required</th>\n",
       "      <th>location</th>\n",
       "    </tr>\n",
       "  </thead>\n",
       "  <tbody>\n",
       "    <tr>\n",
       "      <th>0</th>\n",
       "      <td>Senior Data Analyst</td>\n",
       "      <td>Flipkart</td>\n",
       "      <td>3-7 Yrs</td>\n",
       "      <td>Bangalore/Bengaluru</td>\n",
       "    </tr>\n",
       "    <tr>\n",
       "      <th>1</th>\n",
       "      <td>Sr Data Analyst II</td>\n",
       "      <td>IHS Markit</td>\n",
       "      <td>3-6 Yrs</td>\n",
       "      <td>Gurgaon/Gurugram, Bangalore/Bengaluru</td>\n",
       "    </tr>\n",
       "    <tr>\n",
       "      <th>2</th>\n",
       "      <td>Business analyst + data Analysis</td>\n",
       "      <td>Anlage Infotech (I) Pvt. Ltd.</td>\n",
       "      <td>5-10 Yrs</td>\n",
       "      <td>Hyderabad/Secunderabad, Bangalore/Bengaluru</td>\n",
       "    </tr>\n",
       "    <tr>\n",
       "      <th>3</th>\n",
       "      <td>Data Analyst - Alteryx</td>\n",
       "      <td>Capco</td>\n",
       "      <td>4-7 Yrs</td>\n",
       "      <td>Bangalore/Bengaluru</td>\n",
       "    </tr>\n",
       "    <tr>\n",
       "      <th>4</th>\n",
       "      <td>Consultant - Data Analyst</td>\n",
       "      <td>Flipkart</td>\n",
       "      <td>1-3 Yrs</td>\n",
       "      <td>Bangalore/Bengaluru</td>\n",
       "    </tr>\n",
       "    <tr>\n",
       "      <th>5</th>\n",
       "      <td>Hiring For Data Analyst with SAP ABAP &amp; BW - C...</td>\n",
       "      <td>MILLION MINDS INFOTECH PRIVATE LIMITED</td>\n",
       "      <td>7-10 Yrs</td>\n",
       "      <td>Bangalore/Bengaluru\\n(WFH during Covid)</td>\n",
       "    </tr>\n",
       "    <tr>\n",
       "      <th>6</th>\n",
       "      <td>Senior Business Analyst - Data Sciences and Ad...</td>\n",
       "      <td>Vmware</td>\n",
       "      <td>3-7 Yrs</td>\n",
       "      <td>Bangalore/Bengaluru</td>\n",
       "    </tr>\n",
       "    <tr>\n",
       "      <th>7</th>\n",
       "      <td>Business and Data Analyst</td>\n",
       "      <td>CAREERDOST ENTERPRISE</td>\n",
       "      <td>0-5 Yrs</td>\n",
       "      <td>Bangalore/Bengaluru\\n(WFH during Covid)</td>\n",
       "    </tr>\n",
       "    <tr>\n",
       "      <th>8</th>\n",
       "      <td>Senior Data Analyst | Lululemon</td>\n",
       "      <td>TALENT500 TECH (INDIA) PRIVATE LIMITED</td>\n",
       "      <td>5-8 Yrs</td>\n",
       "      <td>Bangalore/Bengaluru</td>\n",
       "    </tr>\n",
       "    <tr>\n",
       "      <th>9</th>\n",
       "      <td>Urgent hiring For Senior Data Analyst</td>\n",
       "      <td>upGrad</td>\n",
       "      <td>2-7 Yrs</td>\n",
       "      <td>Bangalore/Bengaluru</td>\n",
       "    </tr>\n",
       "  </tbody>\n",
       "</table>\n",
       "</div>"
      ],
      "text/plain": [
       "                                               title  \\\n",
       "0                                Senior Data Analyst   \n",
       "1                                 Sr Data Analyst II   \n",
       "2                   Business analyst + data Analysis   \n",
       "3                             Data Analyst - Alteryx   \n",
       "4                          Consultant - Data Analyst   \n",
       "5  Hiring For Data Analyst with SAP ABAP & BW - C...   \n",
       "6  Senior Business Analyst - Data Sciences and Ad...   \n",
       "7                          Business and Data Analyst   \n",
       "8                    Senior Data Analyst | Lululemon   \n",
       "9              Urgent hiring For Senior Data Analyst   \n",
       "\n",
       "                                  company experince_required  \\\n",
       "0                                Flipkart            3-7 Yrs   \n",
       "1                              IHS Markit            3-6 Yrs   \n",
       "2           Anlage Infotech (I) Pvt. Ltd.           5-10 Yrs   \n",
       "3                                   Capco            4-7 Yrs   \n",
       "4                                Flipkart            1-3 Yrs   \n",
       "5  MILLION MINDS INFOTECH PRIVATE LIMITED           7-10 Yrs   \n",
       "6                                  Vmware            3-7 Yrs   \n",
       "7                   CAREERDOST ENTERPRISE            0-5 Yrs   \n",
       "8  TALENT500 TECH (INDIA) PRIVATE LIMITED            5-8 Yrs   \n",
       "9                                  upGrad            2-7 Yrs   \n",
       "\n",
       "                                      location  \n",
       "0                          Bangalore/Bengaluru  \n",
       "1        Gurgaon/Gurugram, Bangalore/Bengaluru  \n",
       "2  Hyderabad/Secunderabad, Bangalore/Bengaluru  \n",
       "3                          Bangalore/Bengaluru  \n",
       "4                          Bangalore/Bengaluru  \n",
       "5      Bangalore/Bengaluru\\n(WFH during Covid)  \n",
       "6                          Bangalore/Bengaluru  \n",
       "7      Bangalore/Bengaluru\\n(WFH during Covid)  \n",
       "8                          Bangalore/Bengaluru  \n",
       "9                          Bangalore/Bengaluru  "
      ]
     },
     "execution_count": 37,
     "metadata": {},
     "output_type": "execute_result"
    }
   ],
   "source": [
    "jobs.head(10)"
   ]
  },
  {
   "cell_type": "markdown",
   "id": "95414b70",
   "metadata": {},
   "source": [
    "# Question 3"
   ]
  },
  {
   "cell_type": "code",
   "execution_count": 38,
   "id": "344d5cad",
   "metadata": {},
   "outputs": [],
   "source": [
    "driver=webdriver.Chrome(\"chromedriver.exe\")\n",
    "time.sleep(2)"
   ]
  },
  {
   "cell_type": "code",
   "execution_count": 39,
   "id": "ef829d33",
   "metadata": {},
   "outputs": [],
   "source": [
    "driver.get('https://www.naukri.com')"
   ]
  },
  {
   "cell_type": "code",
   "execution_count": 40,
   "id": "2ba1ad19",
   "metadata": {},
   "outputs": [],
   "source": [
    "search_feild_designation=driver.find_element_by_class_name(\"suggestor-input \")\n",
    "search_feild_designation.send_keys(\"Data Scientist\")\n",
    "\n"
   ]
  },
  {
   "cell_type": "code",
   "execution_count": 43,
   "id": "a7460c7c",
   "metadata": {},
   "outputs": [],
   "source": [
    "search_button=driver.find_element_by_xpath('//*[@id=\"root\"]/div[3]/div[2]/section[1]/div[2]/div[4]/div[2]/div[3]/label/i')\n",
    "search_button.click()"
   ]
  },
  {
   "cell_type": "code",
   "execution_count": 44,
   "id": "f0e03f6c",
   "metadata": {},
   "outputs": [],
   "source": [
    "search_filter_location=driver.find_element_by_xpath('//*[@id=\"root\"]/div[3]/div[2]/section[1]/div[2]/div[4]/div[2]/div[3]/label/i')\n",
    "search_filter_location.click()"
   ]
  },
  {
   "cell_type": "code",
   "execution_count": 45,
   "id": "92c67bf1",
   "metadata": {},
   "outputs": [],
   "source": [
    "search_filter_salary=driver.find_element_by_xpath('//*[@id=\"root\"]/div[3]/div[2]/section[1]/div[2]/div[5]/div[2]/div[2]/label/i')\n",
    "search_filter_salary.click()"
   ]
  },
  {
   "cell_type": "code",
   "execution_count": 46,
   "id": "7135b207",
   "metadata": {},
   "outputs": [],
   "source": [
    "job_titles=[]\n",
    "company_names=[]\n",
    "locations_list=[]\n",
    "experince_list=[]\n"
   ]
  },
  {
   "cell_type": "code",
   "execution_count": null,
   "id": "abc3b0f5",
   "metadata": {},
   "outputs": [],
   "source": [
    "titles_tags=driver.find_elements_by_xpath(\"//a[@class='title fw500 ellipsis']\")\n",
    "titles_tags[0:10]"
   ]
  },
  {
   "cell_type": "code",
   "execution_count": null,
   "id": "6981282e",
   "metadata": {},
   "outputs": [],
   "source": [
    "for i in  titles_tags:\n",
    "    title=i.text\n",
    "    job_titles.append(title)\n",
    "job_titles[0:10]    "
   ]
  },
  {
   "cell_type": "code",
   "execution_count": null,
   "id": "8518d723",
   "metadata": {},
   "outputs": [],
   "source": [
    "companies_tags=driver.find_elements_by_xpath(\"//a [@class='subTitle ellipsis fleft']\")\n",
    "companies_tags[0:10]"
   ]
  },
  {
   "cell_type": "code",
   "execution_count": null,
   "id": "076a290a",
   "metadata": {},
   "outputs": [],
   "source": [
    "for i in companies_tags:\n",
    "    company_name=i.text\n",
    "    company_names.append(company_name)\n",
    "company_names[0:10]    \n",
    "\n",
    "\n",
    "\n"
   ]
  },
  {
   "cell_type": "code",
   "execution_count": null,
   "id": "d8db5a5f",
   "metadata": {},
   "outputs": [],
   "source": [
    "experince_tags=driver.find_elements_by_xpath(\"//li[@ class='fleft grey-text br2 placeHolderLi experience']\")\n",
    "experince_tags[0:10]                                                  "
   ]
  },
  {
   "cell_type": "code",
   "execution_count": null,
   "id": "8a125343",
   "metadata": {},
   "outputs": [],
   "source": [
    "for i in experince_tags:\n",
    "    experince=i.text\n",
    "    experince_list.append(experince)\n",
    "experince_list[0:10]"
   ]
  },
  {
   "cell_type": "code",
   "execution_count": null,
   "id": "6ead0b7c",
   "metadata": {},
   "outputs": [],
   "source": [
    "locations_tags=driver.find_elements_by_xpath(\"//li [@class='fleft grey-text br2 placeHolderLi location']\")\n",
    "locations_tags[0:10]"
   ]
  },
  {
   "cell_type": "code",
   "execution_count": null,
   "id": "312442c5",
   "metadata": {},
   "outputs": [],
   "source": [
    "for i in locations_tags:\n",
    "    location=i.text\n",
    "    locations_list.append(location)\n",
    "locations_list[0:10]    \n",
    "\n",
    "    "
   ]
  },
  {
   "cell_type": "code",
   "execution_count": 55,
   "id": "16868f76",
   "metadata": {},
   "outputs": [
    {
     "name": "stdout",
     "output_type": "stream",
     "text": [
      "20 20 20 20\n"
     ]
    }
   ],
   "source": [
    "print(len(job_titles),len(company_names),len(locations_list),len(experince_list))"
   ]
  },
  {
   "cell_type": "code",
   "execution_count": 56,
   "id": "02eda062",
   "metadata": {},
   "outputs": [
    {
     "data": {
      "text/html": [
       "<div>\n",
       "<style scoped>\n",
       "    .dataframe tbody tr th:only-of-type {\n",
       "        vertical-align: middle;\n",
       "    }\n",
       "\n",
       "    .dataframe tbody tr th {\n",
       "        vertical-align: top;\n",
       "    }\n",
       "\n",
       "    .dataframe thead th {\n",
       "        text-align: right;\n",
       "    }\n",
       "</style>\n",
       "<table border=\"1\" class=\"dataframe\">\n",
       "  <thead>\n",
       "    <tr style=\"text-align: right;\">\n",
       "      <th></th>\n",
       "      <th>title</th>\n",
       "      <th>company</th>\n",
       "      <th>experince_required</th>\n",
       "      <th>location</th>\n",
       "    </tr>\n",
       "  </thead>\n",
       "  <tbody>\n",
       "    <tr>\n",
       "      <th>0</th>\n",
       "      <td>Data Scientist</td>\n",
       "      <td>Ashkom Media India Private Limited</td>\n",
       "      <td>3-6 Yrs</td>\n",
       "      <td>Noida, Bangalore/Bengaluru</td>\n",
       "    </tr>\n",
       "    <tr>\n",
       "      <th>1</th>\n",
       "      <td>Senior Data Analyst</td>\n",
       "      <td>CarDekho</td>\n",
       "      <td>2-4 Yrs</td>\n",
       "      <td>Gurgaon/Gurugram</td>\n",
       "    </tr>\n",
       "    <tr>\n",
       "      <th>2</th>\n",
       "      <td>Data Analyst</td>\n",
       "      <td>Netomi</td>\n",
       "      <td>0-1 Yrs</td>\n",
       "      <td>Gurgaon</td>\n",
       "    </tr>\n",
       "    <tr>\n",
       "      <th>3</th>\n",
       "      <td>Data Analyst</td>\n",
       "      <td>Netomi</td>\n",
       "      <td>0-1 Yrs</td>\n",
       "      <td>Gurgaon</td>\n",
       "    </tr>\n",
       "    <tr>\n",
       "      <th>4</th>\n",
       "      <td>Sr Data Analyst</td>\n",
       "      <td>TECHNODYSIS PRIVATE LIMITED</td>\n",
       "      <td>6-10 Yrs</td>\n",
       "      <td>Hyderabad/Secunderabad, Pune, Chennai, Bangalo...</td>\n",
       "    </tr>\n",
       "    <tr>\n",
       "      <th>5</th>\n",
       "      <td>Data Preparation Analyst / Sr . Analyst</td>\n",
       "      <td>Xpheno</td>\n",
       "      <td>6-11 Yrs</td>\n",
       "      <td>Gurgaon/Gurugram, Bangalore/Bengaluru</td>\n",
       "    </tr>\n",
       "    <tr>\n",
       "      <th>6</th>\n",
       "      <td>Senior Data Analyst</td>\n",
       "      <td>Urban Company</td>\n",
       "      <td>2-4 Yrs</td>\n",
       "      <td>Gurgaon/Gurugram, Bangalore/Bengaluru</td>\n",
       "    </tr>\n",
       "    <tr>\n",
       "      <th>7</th>\n",
       "      <td>Analyst-Data Management</td>\n",
       "      <td>Accenture</td>\n",
       "      <td>3-5 Yrs</td>\n",
       "      <td>Noida</td>\n",
       "    </tr>\n",
       "    <tr>\n",
       "      <th>8</th>\n",
       "      <td>Analyst-Data Management</td>\n",
       "      <td>Accenture</td>\n",
       "      <td>3-5 Yrs</td>\n",
       "      <td>Gurgaon/Gurugram</td>\n",
       "    </tr>\n",
       "    <tr>\n",
       "      <th>9</th>\n",
       "      <td>Opening For Senior DATA Engineer - ETL, Spark,...</td>\n",
       "      <td>NeoSoft Technologies</td>\n",
       "      <td>5-8 Yrs</td>\n",
       "      <td>Kolkata, Hyderabad/Secunderabad, Pune, Ahmedab...</td>\n",
       "    </tr>\n",
       "  </tbody>\n",
       "</table>\n",
       "</div>"
      ],
      "text/plain": [
       "                                               title  \\\n",
       "0                                     Data Scientist   \n",
       "1                                Senior Data Analyst   \n",
       "2                                       Data Analyst   \n",
       "3                                       Data Analyst   \n",
       "4                                    Sr Data Analyst   \n",
       "5            Data Preparation Analyst / Sr . Analyst   \n",
       "6                                Senior Data Analyst   \n",
       "7                            Analyst-Data Management   \n",
       "8                            Analyst-Data Management   \n",
       "9  Opening For Senior DATA Engineer - ETL, Spark,...   \n",
       "\n",
       "                              company experince_required  \\\n",
       "0  Ashkom Media India Private Limited            3-6 Yrs   \n",
       "1                            CarDekho            2-4 Yrs   \n",
       "2                              Netomi            0-1 Yrs   \n",
       "3                              Netomi            0-1 Yrs   \n",
       "4         TECHNODYSIS PRIVATE LIMITED           6-10 Yrs   \n",
       "5                              Xpheno           6-11 Yrs   \n",
       "6                       Urban Company            2-4 Yrs   \n",
       "7                           Accenture            3-5 Yrs   \n",
       "8                           Accenture            3-5 Yrs   \n",
       "9                NeoSoft Technologies            5-8 Yrs   \n",
       "\n",
       "                                            location  \n",
       "0                         Noida, Bangalore/Bengaluru  \n",
       "1                                   Gurgaon/Gurugram  \n",
       "2                                            Gurgaon  \n",
       "3                                            Gurgaon  \n",
       "4  Hyderabad/Secunderabad, Pune, Chennai, Bangalo...  \n",
       "5              Gurgaon/Gurugram, Bangalore/Bengaluru  \n",
       "6              Gurgaon/Gurugram, Bangalore/Bengaluru  \n",
       "7                                              Noida  \n",
       "8                                   Gurgaon/Gurugram  \n",
       "9  Kolkata, Hyderabad/Secunderabad, Pune, Ahmedab...  "
      ]
     },
     "execution_count": 56,
     "metadata": {},
     "output_type": "execute_result"
    }
   ],
   "source": [
    "import pandas as pd\n",
    "jobs=pd.DataFrame(())\n",
    "jobs['title']=job_titles\n",
    "jobs['company']=company_names\n",
    "jobs['experince_required']=experince_list\n",
    "jobs['location']=locations_list\n",
    "jobs.head(10)"
   ]
  },
  {
   "cell_type": "markdown",
   "id": "3bcbf0fd",
   "metadata": {},
   "source": [
    "# Question 4"
   ]
  },
  {
   "cell_type": "code",
   "execution_count": 3,
   "id": "3f5ddd0e",
   "metadata": {},
   "outputs": [],
   "source": [
    "driver=webdriver.Chrome(\"chromedriver.exe\")\n",
    "time.sleep(2)"
   ]
  },
  {
   "cell_type": "code",
   "execution_count": 4,
   "id": "61362e6c",
   "metadata": {},
   "outputs": [],
   "source": [
    "driver.get('https://www.flipkart.com/')"
   ]
  },
  {
   "cell_type": "code",
   "execution_count": 5,
   "id": "c978062b",
   "metadata": {},
   "outputs": [],
   "source": [
    "search_feild=driver.find_element_by_xpath('//*[@id=\"container\"]/div/div[1]/div[1]/div[2]/div[2]/form/div/div/input')\n",
    "search_feild.send_keys(\"sun glasses\")\n",
    "\n"
   ]
  },
  {
   "cell_type": "code",
   "execution_count": 6,
   "id": "5e56fb92",
   "metadata": {},
   "outputs": [],
   "source": [
    "search_button=driver.find_element_by_xpath('//*[@id=\"container\"]/div/div[1]/div[1]/div[2]/div[2]/form/div/button')\n",
    "search_button.click()"
   ]
  },
  {
   "cell_type": "code",
   "execution_count": 7,
   "id": "d9e61556",
   "metadata": {},
   "outputs": [],
   "source": [
    "Brand_titles=[]\n",
    "Description_list=[]\n",
    "Price_list=[]\n",
    "Discount_list=[]\n"
   ]
  },
  {
   "cell_type": "code",
   "execution_count": 9,
   "id": "42b1797b",
   "metadata": {},
   "outputs": [],
   "source": [
    "Brand_list=[]\n",
    "for i in range(0,3):\n",
    "    Brand_tags=driver.find_elements_by_xpath('//div[@class=\"_2WkVRV\"]')\n",
    "    for i in Brand_tags:\n",
    "        Brand=i.text\n",
    "        Brand_list.append(Brand)\n",
    "    next_button=driver.find_element_by_xpath('//a[@class=\"_1LKTO3\"]')\n",
    "    next_button.click()\n",
    "    time.sleep(5)"
   ]
  },
  {
   "cell_type": "code",
   "execution_count": 10,
   "id": "2013f71b",
   "metadata": {},
   "outputs": [
    {
     "data": {
      "text/plain": [
       "120"
      ]
     },
     "execution_count": 10,
     "metadata": {},
     "output_type": "execute_result"
    }
   ],
   "source": [
    "len(Brand_list)\n"
   ]
  },
  {
   "cell_type": "code",
   "execution_count": 11,
   "id": "207e4937",
   "metadata": {},
   "outputs": [],
   "source": [
    "Description_list=[]\n",
    "for i in range(0,3):\n",
    "    Description_tags=driver.find_elements_by_xpath('//a[@class=\"IRpwTa\"]')\n",
    "    for i in Description_tags:\n",
    "        Description=i.text\n",
    "        Description_list.append(Description)\n",
    "    next_button=driver.find_element_by_xpath('//*[@id=\"container\"]/div/div[3]/div[1]/div[2]/div[12]/div/div/nav/a[12]/span')\n",
    "    next_button.click()\n",
    "    time.sleep(5)"
   ]
  },
  {
   "cell_type": "code",
   "execution_count": 12,
   "id": "19b1039c",
   "metadata": {},
   "outputs": [
    {
     "data": {
      "text/plain": [
       "120"
      ]
     },
     "execution_count": 12,
     "metadata": {},
     "output_type": "execute_result"
    }
   ],
   "source": [
    "len(Description_list)"
   ]
  },
  {
   "cell_type": "code",
   "execution_count": 13,
   "id": "4b5b3f81",
   "metadata": {},
   "outputs": [],
   "source": [
    "Price_list=[]\n",
    "for i in range(0,3):\n",
    "    Price_tags=driver.find_elements_by_xpath('//div[@class=\"_30jeq3\"]')\n",
    "    for i in Price_tags:\n",
    "        Price=i.text\n",
    "        Price_list.append(Price)\n",
    "    next_button=driver.find_element_by_xpath('//*[@id=\"container\"]/div/div[3]/div[1]/div[2]/div[12]/div/div/nav/a[12]/span')\n",
    "    next_button.click()\n",
    "    time.sleep(5)"
   ]
  },
  {
   "cell_type": "code",
   "execution_count": 14,
   "id": "538c2ee5",
   "metadata": {},
   "outputs": [
    {
     "data": {
      "text/plain": [
       "120"
      ]
     },
     "execution_count": 14,
     "metadata": {},
     "output_type": "execute_result"
    }
   ],
   "source": [
    "len(Price_list)"
   ]
  },
  {
   "cell_type": "code",
   "execution_count": 15,
   "id": "cea31ef1",
   "metadata": {},
   "outputs": [],
   "source": [
    "Discount_list=[]\n",
    "for i in range(0,3):\n",
    "    Discount_tags=driver.find_elements_by_xpath('//div[@class=\"_3Ay6Sb\"]')\n",
    "    for i in Discount_tags:\n",
    "        Discount=i.text\n",
    "        Discount_list.append(Discount)\n",
    "    next_button=driver.find_element_by_xpath('//*[@id=\"container\"]/div/div[3]/div[1]/div[2]/div[12]/div/div/nav/a[12]/span')\n",
    "    next_button.click()\n",
    "    time.sleep(5)"
   ]
  },
  {
   "cell_type": "code",
   "execution_count": 16,
   "id": "9245e79d",
   "metadata": {},
   "outputs": [
    {
     "data": {
      "text/plain": [
       "120"
      ]
     },
     "execution_count": 16,
     "metadata": {},
     "output_type": "execute_result"
    }
   ],
   "source": [
    "len(Discount_list)"
   ]
  },
  {
   "cell_type": "code",
   "execution_count": 23,
   "id": "496ce940",
   "metadata": {},
   "outputs": [
    {
     "name": "stdout",
     "output_type": "stream",
     "text": [
      "120 120 120 120\n"
     ]
    }
   ],
   "source": [
    "print(len(Brand_list),len(Description_list),len(Price_list),len(Discount_list))"
   ]
  },
  {
   "cell_type": "code",
   "execution_count": 24,
   "id": "9ebe5291",
   "metadata": {},
   "outputs": [],
   "source": [
    "import pandas as pd\n",
    "Flipkart=pd.DataFrame(())\n",
    "Flipkart['Brand']=Brand_list\n",
    "Flipkart['Description']=Description_list\n",
    "Flipkart['Price']=Price_list\n",
    "Flipkart['Discount']=Discount_list\n"
   ]
  },
  {
   "cell_type": "code",
   "execution_count": 25,
   "id": "f27362b4",
   "metadata": {},
   "outputs": [
    {
     "data": {
      "text/html": [
       "<div>\n",
       "<style scoped>\n",
       "    .dataframe tbody tr th:only-of-type {\n",
       "        vertical-align: middle;\n",
       "    }\n",
       "\n",
       "    .dataframe tbody tr th {\n",
       "        vertical-align: top;\n",
       "    }\n",
       "\n",
       "    .dataframe thead th {\n",
       "        text-align: right;\n",
       "    }\n",
       "</style>\n",
       "<table border=\"1\" class=\"dataframe\">\n",
       "  <thead>\n",
       "    <tr style=\"text-align: right;\">\n",
       "      <th></th>\n",
       "      <th>Brand</th>\n",
       "      <th>Description</th>\n",
       "      <th>Price</th>\n",
       "      <th>Discount</th>\n",
       "    </tr>\n",
       "  </thead>\n",
       "  <tbody>\n",
       "    <tr>\n",
       "      <th>0</th>\n",
       "      <td>PIRASO</td>\n",
       "      <td>UV Protection, Gradient Retro Square Sunglasse...</td>\n",
       "      <td>₹498</td>\n",
       "      <td>82% off</td>\n",
       "    </tr>\n",
       "    <tr>\n",
       "      <th>1</th>\n",
       "      <td>Elligator</td>\n",
       "      <td>UV Protection Rectangular Sunglasses (Free Size)</td>\n",
       "      <td>₹379</td>\n",
       "      <td>74% off</td>\n",
       "    </tr>\n",
       "    <tr>\n",
       "      <th>2</th>\n",
       "      <td>Elligator</td>\n",
       "      <td>UV Protection, Riding Glasses Rectangular, Way...</td>\n",
       "      <td>₹379</td>\n",
       "      <td>86% off</td>\n",
       "    </tr>\n",
       "    <tr>\n",
       "      <th>3</th>\n",
       "      <td>SHAAH COLLECTIONS</td>\n",
       "      <td>UV Protection, Gradient Rectangular Sunglasses...</td>\n",
       "      <td>₹498</td>\n",
       "      <td>81% off</td>\n",
       "    </tr>\n",
       "    <tr>\n",
       "      <th>4</th>\n",
       "      <td>SUNBEE</td>\n",
       "      <td>UV Protection Round Sunglasses (Free Size)</td>\n",
       "      <td>₹299</td>\n",
       "      <td>77% off</td>\n",
       "    </tr>\n",
       "    <tr>\n",
       "      <th>...</th>\n",
       "      <td>...</td>\n",
       "      <td>...</td>\n",
       "      <td>...</td>\n",
       "      <td>...</td>\n",
       "    </tr>\n",
       "    <tr>\n",
       "      <th>95</th>\n",
       "      <td>Resist</td>\n",
       "      <td>UV Protection Oval Sunglasses (56)</td>\n",
       "      <td>₹498</td>\n",
       "      <td>28% off</td>\n",
       "    </tr>\n",
       "    <tr>\n",
       "      <th>96</th>\n",
       "      <td>PIRASO</td>\n",
       "      <td>UV Protection Butterfly Sunglasses (60)</td>\n",
       "      <td>₹719</td>\n",
       "      <td>16% off</td>\n",
       "    </tr>\n",
       "    <tr>\n",
       "      <th>97</th>\n",
       "      <td>hipe</td>\n",
       "      <td>UV Protection, Gradient Oval Sunglasses (58)</td>\n",
       "      <td>₹299</td>\n",
       "      <td>32% off</td>\n",
       "    </tr>\n",
       "    <tr>\n",
       "      <th>98</th>\n",
       "      <td>PIRASO</td>\n",
       "      <td>UV Protection Rectangular Sunglasses (55)</td>\n",
       "      <td>₹498</td>\n",
       "      <td>83% off</td>\n",
       "    </tr>\n",
       "    <tr>\n",
       "      <th>99</th>\n",
       "      <td>john jacobs</td>\n",
       "      <td>UV Protection Wayfarer Sunglasses (Free Size)</td>\n",
       "      <td>₹260</td>\n",
       "      <td>73% off</td>\n",
       "    </tr>\n",
       "  </tbody>\n",
       "</table>\n",
       "<p>100 rows × 4 columns</p>\n",
       "</div>"
      ],
      "text/plain": [
       "                Brand                                        Description  \\\n",
       "0              PIRASO  UV Protection, Gradient Retro Square Sunglasse...   \n",
       "1           Elligator   UV Protection Rectangular Sunglasses (Free Size)   \n",
       "2           Elligator  UV Protection, Riding Glasses Rectangular, Way...   \n",
       "3   SHAAH COLLECTIONS  UV Protection, Gradient Rectangular Sunglasses...   \n",
       "4              SUNBEE         UV Protection Round Sunglasses (Free Size)   \n",
       "..                ...                                                ...   \n",
       "95             Resist                 UV Protection Oval Sunglasses (56)   \n",
       "96             PIRASO            UV Protection Butterfly Sunglasses (60)   \n",
       "97               hipe       UV Protection, Gradient Oval Sunglasses (58)   \n",
       "98             PIRASO          UV Protection Rectangular Sunglasses (55)   \n",
       "99        john jacobs      UV Protection Wayfarer Sunglasses (Free Size)   \n",
       "\n",
       "   Price Discount  \n",
       "0   ₹498  82% off  \n",
       "1   ₹379  74% off  \n",
       "2   ₹379  86% off  \n",
       "3   ₹498  81% off  \n",
       "4   ₹299  77% off  \n",
       "..   ...      ...  \n",
       "95  ₹498  28% off  \n",
       "96  ₹719  16% off  \n",
       "97  ₹299  32% off  \n",
       "98  ₹498  83% off  \n",
       "99  ₹260  73% off  \n",
       "\n",
       "[100 rows x 4 columns]"
      ]
     },
     "execution_count": 25,
     "metadata": {},
     "output_type": "execute_result"
    }
   ],
   "source": [
    "Flipkart.head(100)"
   ]
  },
  {
   "cell_type": "markdown",
   "id": "e490d843",
   "metadata": {},
   "source": [
    "# Question 5"
   ]
  },
  {
   "cell_type": "code",
   "execution_count": 201,
   "id": "df014791",
   "metadata": {},
   "outputs": [],
   "source": [
    "driver=webdriver.Chrome(\"chromedriver.exe\")\n",
    "time.sleep(2)"
   ]
  },
  {
   "cell_type": "code",
   "execution_count": 202,
   "id": "8e875e5d",
   "metadata": {},
   "outputs": [],
   "source": [
    "driver.get('https://www.flipkart.com/apple-iphone-11-black-64-gb-includes- earpods-power- adapter/p/itm0f37c2240b217?pid=MOBFKCTSVZAXUHGR&lid=LSTMOBFKC TSVZAXUHGREPBFGI&marketplace')"
   ]
  },
  {
   "cell_type": "code",
   "execution_count": 203,
   "id": "21cde47d",
   "metadata": {},
   "outputs": [],
   "source": [
    "all_review=driver.find_element_by_xpath(\"//*[@id='container']/div/div[3]/div[1]/div[2]/div[9]/div/div/div[5]/div/a/div\")\n",
    "all_review.click()"
   ]
  },
  {
   "cell_type": "code",
   "execution_count": 204,
   "id": "06646562",
   "metadata": {},
   "outputs": [],
   "source": [
    "Rating_list=[]\n",
    "Review_list=[]\n",
    "Full_list=[]\n"
   ]
  },
  {
   "cell_type": "code",
   "execution_count": 206,
   "id": "6607eedc",
   "metadata": {},
   "outputs": [],
   "source": [
    "Rating_list=[]\n",
    "for i in range(0,10):\n",
    "    rating_tags=driver.find_elements_by_xpath('//div[@class=\"_3LWZlK _1BLPMq\"]')\n",
    "    for i in rating_tags:\n",
    "        rating=i.text\n",
    "        Rating_list.append(rating)\n",
    "    next_button=driver.find_element_by_xpath('//a[@class=\"_1LKTO3\"]')\n",
    "    next_button.click()\n",
    "    time.sleep(5)"
   ]
  },
  {
   "cell_type": "code",
   "execution_count": 207,
   "id": "b2fcc8f5",
   "metadata": {},
   "outputs": [
    {
     "data": {
      "text/plain": [
       "100"
      ]
     },
     "execution_count": 207,
     "metadata": {},
     "output_type": "execute_result"
    }
   ],
   "source": [
    "len(Rating_list)"
   ]
  },
  {
   "cell_type": "code",
   "execution_count": 208,
   "id": "28a1fc84",
   "metadata": {},
   "outputs": [],
   "source": [
    "Review_list=[]\n",
    "for i in range(0,10):\n",
    "    review_tags=driver.find_elements_by_xpath('//p[@class=\"_2-N8zT\"]')\n",
    "    for i in review_tags:\n",
    "        review=i.text\n",
    "        Review_list.append(review)\n",
    "    next_button=driver.find_element_by_xpath('//a[@class=\"_1LKTO3\"]')\n",
    "    next_button.click()\n",
    "    time.sleep(5)"
   ]
  },
  {
   "cell_type": "code",
   "execution_count": 210,
   "id": "4b92e901",
   "metadata": {},
   "outputs": [
    {
     "data": {
      "text/plain": [
       "100"
      ]
     },
     "execution_count": 210,
     "metadata": {},
     "output_type": "execute_result"
    }
   ],
   "source": [
    "len(Review_list)"
   ]
  },
  {
   "cell_type": "code",
   "execution_count": 214,
   "id": "ab6233b6",
   "metadata": {},
   "outputs": [],
   "source": [
    "Full_list=[]\n",
    "for i in range(0,10):\n",
    "    fullreview_tags=driver.find_elements_by_xpath('//div[@class=\"t-ZTKy\"]')\n",
    "    for i in fullreview_tags:\n",
    "        fullreview=i.text\n",
    "        Full_list.append(fullreview)\n",
    "    next_button=driver.find_element_by_xpath('//a[@class=\"_1LKTO3\"]')\n",
    "    next_button.click()\n",
    "    time.sleep(5)"
   ]
  },
  {
   "cell_type": "code",
   "execution_count": 215,
   "id": "9358c347",
   "metadata": {},
   "outputs": [
    {
     "data": {
      "text/plain": [
       "100"
      ]
     },
     "execution_count": 215,
     "metadata": {},
     "output_type": "execute_result"
    }
   ],
   "source": [
    "len(Full_list)"
   ]
  },
  {
   "cell_type": "code",
   "execution_count": 216,
   "id": "31a2fbb1",
   "metadata": {},
   "outputs": [
    {
     "data": {
      "text/html": [
       "<div>\n",
       "<style scoped>\n",
       "    .dataframe tbody tr th:only-of-type {\n",
       "        vertical-align: middle;\n",
       "    }\n",
       "\n",
       "    .dataframe tbody tr th {\n",
       "        vertical-align: top;\n",
       "    }\n",
       "\n",
       "    .dataframe thead th {\n",
       "        text-align: right;\n",
       "    }\n",
       "</style>\n",
       "<table border=\"1\" class=\"dataframe\">\n",
       "  <thead>\n",
       "    <tr style=\"text-align: right;\">\n",
       "      <th></th>\n",
       "      <th>Rating</th>\n",
       "      <th>Review</th>\n",
       "      <th>Full</th>\n",
       "    </tr>\n",
       "  </thead>\n",
       "  <tbody>\n",
       "    <tr>\n",
       "      <th>0</th>\n",
       "      <td>5</td>\n",
       "      <td>Highly recommended</td>\n",
       "      <td>The Best Phone for the Money\\n\\nThe iPhone 11 ...</td>\n",
       "    </tr>\n",
       "    <tr>\n",
       "      <th>1</th>\n",
       "      <td>5</td>\n",
       "      <td>Perfect product!</td>\n",
       "      <td>Really satisfied with the Product I received.....</td>\n",
       "    </tr>\n",
       "    <tr>\n",
       "      <th>2</th>\n",
       "      <td>5</td>\n",
       "      <td>Perfect product!</td>\n",
       "      <td>Great iPhone very snappy experience as apple k...</td>\n",
       "    </tr>\n",
       "    <tr>\n",
       "      <th>3</th>\n",
       "      <td>5</td>\n",
       "      <td>Worth every penny</td>\n",
       "      <td>Amazing phone with great cameras and better ba...</td>\n",
       "    </tr>\n",
       "    <tr>\n",
       "      <th>4</th>\n",
       "      <td>5</td>\n",
       "      <td>Highly recommended</td>\n",
       "      <td>This is my first iOS phone. I am very happy wi...</td>\n",
       "    </tr>\n",
       "    <tr>\n",
       "      <th>...</th>\n",
       "      <td>...</td>\n",
       "      <td>...</td>\n",
       "      <td>...</td>\n",
       "    </tr>\n",
       "    <tr>\n",
       "      <th>95</th>\n",
       "      <td>5</td>\n",
       "      <td>Perfect product!</td>\n",
       "      <td>Previously I was using one plus 3t it was a gr...</td>\n",
       "    </tr>\n",
       "    <tr>\n",
       "      <th>96</th>\n",
       "      <td>5</td>\n",
       "      <td>Worth every penny</td>\n",
       "      <td>Amazing Powerful and Durable Gadget.\\n\\nI’m am...</td>\n",
       "    </tr>\n",
       "    <tr>\n",
       "      <th>97</th>\n",
       "      <td>4</td>\n",
       "      <td>Simply awesome</td>\n",
       "      <td>So far it’s been an AMAZING experience coming ...</td>\n",
       "    </tr>\n",
       "    <tr>\n",
       "      <th>98</th>\n",
       "      <td>5</td>\n",
       "      <td>Classy product</td>\n",
       "      <td>i11 is worthy to buy, too much happy with the ...</td>\n",
       "    </tr>\n",
       "    <tr>\n",
       "      <th>99</th>\n",
       "      <td>5</td>\n",
       "      <td>Terrific</td>\n",
       "      <td>What a camera .....just awesome ..you can feel...</td>\n",
       "    </tr>\n",
       "  </tbody>\n",
       "</table>\n",
       "<p>100 rows × 3 columns</p>\n",
       "</div>"
      ],
      "text/plain": [
       "   Rating              Review  \\\n",
       "0       5  Highly recommended   \n",
       "1       5    Perfect product!   \n",
       "2       5    Perfect product!   \n",
       "3       5   Worth every penny   \n",
       "4       5  Highly recommended   \n",
       "..    ...                 ...   \n",
       "95      5    Perfect product!   \n",
       "96      5   Worth every penny   \n",
       "97      4      Simply awesome   \n",
       "98      5      Classy product   \n",
       "99      5            Terrific   \n",
       "\n",
       "                                                 Full  \n",
       "0   The Best Phone for the Money\\n\\nThe iPhone 11 ...  \n",
       "1   Really satisfied with the Product I received.....  \n",
       "2   Great iPhone very snappy experience as apple k...  \n",
       "3   Amazing phone with great cameras and better ba...  \n",
       "4   This is my first iOS phone. I am very happy wi...  \n",
       "..                                                ...  \n",
       "95  Previously I was using one plus 3t it was a gr...  \n",
       "96  Amazing Powerful and Durable Gadget.\\n\\nI’m am...  \n",
       "97  So far it’s been an AMAZING experience coming ...  \n",
       "98  i11 is worthy to buy, too much happy with the ...  \n",
       "99  What a camera .....just awesome ..you can feel...  \n",
       "\n",
       "[100 rows x 3 columns]"
      ]
     },
     "execution_count": 216,
     "metadata": {},
     "output_type": "execute_result"
    }
   ],
   "source": [
    "import pandas as pd\n",
    "iphone=pd.DataFrame(())\n",
    "iphone['Rating']=Rating_list\n",
    "iphone['Review']=Review_list\n",
    "iphone['Full']=Full_list\n",
    "iphone"
   ]
  },
  {
   "cell_type": "markdown",
   "id": "c033907f",
   "metadata": {},
   "source": [
    "# Question 6"
   ]
  },
  {
   "cell_type": "code",
   "execution_count": 100,
   "id": "788a3e04",
   "metadata": {},
   "outputs": [],
   "source": [
    "driver=webdriver.Chrome(\"chromedriver.exe\")\n",
    "time.sleep(2)"
   ]
  },
  {
   "cell_type": "code",
   "execution_count": 101,
   "id": "eaee452f",
   "metadata": {},
   "outputs": [],
   "source": [
    "driver.get('https://www.flipkart.com/')"
   ]
  },
  {
   "cell_type": "code",
   "execution_count": 102,
   "id": "5148eab6",
   "metadata": {},
   "outputs": [],
   "source": [
    "search_feild=driver.find_element_by_xpath('//*[@id=\"container\"]/div/div[1]/div[1]/div[2]/div[2]/form/div/div/input')\n",
    "search_feild.send_keys(\"sneakers\")"
   ]
  },
  {
   "cell_type": "code",
   "execution_count": 104,
   "id": "bb44c2de",
   "metadata": {},
   "outputs": [],
   "source": [
    "search_button=driver.find_element_by_xpath('//*[@id=\"container\"]/div/div[1]/div[1]/div[2]/div[2]/form/div/button')\n",
    "search_button.click()"
   ]
  },
  {
   "cell_type": "code",
   "execution_count": 105,
   "id": "f532f95a",
   "metadata": {},
   "outputs": [],
   "source": [
    "Brand_list=[]\n",
    "Product_list=[]\n",
    "Price_list=[]\n",
    "Discount=[]\n"
   ]
  },
  {
   "cell_type": "code",
   "execution_count": 108,
   "id": "45c3aa53",
   "metadata": {},
   "outputs": [],
   "source": [
    "Brand_list=[]\n",
    "for i in range(0,3):\n",
    "    brand_tags=driver.find_elements_by_xpath('//div[@class=\"_2WkVRV\"]')\n",
    "    for i in brand_tags:\n",
    "        brand=i.text\n",
    "        Brand_list.append(brand)\n",
    "    next_button=driver.find_element_by_xpath(\"//a[@class='_1LKTO3']\")    \n",
    "    next_button.click()\n",
    "    time.sleep(2)                               "
   ]
  },
  {
   "cell_type": "code",
   "execution_count": 109,
   "id": "f8bbe38d",
   "metadata": {},
   "outputs": [
    {
     "data": {
      "text/plain": [
       "120"
      ]
     },
     "execution_count": 109,
     "metadata": {},
     "output_type": "execute_result"
    }
   ],
   "source": [
    "len(Brand_list)"
   ]
  },
  {
   "cell_type": "code",
   "execution_count": 136,
   "id": "6175f0df",
   "metadata": {},
   "outputs": [],
   "source": [
    "Price_list=[]\n",
    "for i in range(0,3):\n",
    "    price_tags=driver.find_elements_by_xpath('//div[@class=\"_30jeq3\"]')\n",
    "    for i in price_tags:\n",
    "        price=i.text\n",
    "        Price_list.append(price)\n",
    "    next_button=driver.find_element_by_xpath(\"//a[@class='_1LKTO3']\")    \n",
    "next_button.click()"
   ]
  },
  {
   "cell_type": "code",
   "execution_count": 137,
   "id": "ee6d1400",
   "metadata": {},
   "outputs": [
    {
     "data": {
      "text/plain": [
       "120"
      ]
     },
     "execution_count": 137,
     "metadata": {},
     "output_type": "execute_result"
    }
   ],
   "source": [
    "len(Price_list)"
   ]
  },
  {
   "cell_type": "code",
   "execution_count": 142,
   "id": "0183ccb3",
   "metadata": {},
   "outputs": [],
   "source": [
    "Discount_list=[]\n",
    "for i in range(0,3):\n",
    "    discount_tags=driver.find_elements_by_xpath('//div[@class=\"_3Ay6Sb\"]')\n",
    "    for i in discount_tags:\n",
    "        discount=i.text\n",
    "        Discount_list.append(Discount)\n",
    "    next_button=driver.find_element_by_xpath(\"//a[@class='_1LKTO3']\")    \n",
    "next_button.click()    "
   ]
  },
  {
   "cell_type": "code",
   "execution_count": 143,
   "id": "362748a7",
   "metadata": {},
   "outputs": [
    {
     "data": {
      "text/plain": [
       "120"
      ]
     },
     "execution_count": 143,
     "metadata": {},
     "output_type": "execute_result"
    }
   ],
   "source": [
    "len(Discount_list)"
   ]
  },
  {
   "cell_type": "code",
   "execution_count": 29,
   "id": "248b119b",
   "metadata": {},
   "outputs": [
    {
     "data": {
      "text/html": [
       "<div>\n",
       "<style scoped>\n",
       "    .dataframe tbody tr th:only-of-type {\n",
       "        vertical-align: middle;\n",
       "    }\n",
       "\n",
       "    .dataframe tbody tr th {\n",
       "        vertical-align: top;\n",
       "    }\n",
       "\n",
       "    .dataframe thead th {\n",
       "        text-align: right;\n",
       "    }\n",
       "</style>\n",
       "<table border=\"1\" class=\"dataframe\">\n",
       "  <thead>\n",
       "    <tr style=\"text-align: right;\">\n",
       "      <th></th>\n",
       "      <th>Brand</th>\n",
       "      <th>Price</th>\n",
       "      <th>Discount</th>\n",
       "    </tr>\n",
       "  </thead>\n",
       "  <tbody>\n",
       "    <tr>\n",
       "      <th>0</th>\n",
       "      <td>PIRASO</td>\n",
       "      <td>₹498</td>\n",
       "      <td>82% off</td>\n",
       "    </tr>\n",
       "    <tr>\n",
       "      <th>1</th>\n",
       "      <td>Elligator</td>\n",
       "      <td>₹379</td>\n",
       "      <td>74% off</td>\n",
       "    </tr>\n",
       "    <tr>\n",
       "      <th>2</th>\n",
       "      <td>Elligator</td>\n",
       "      <td>₹379</td>\n",
       "      <td>86% off</td>\n",
       "    </tr>\n",
       "    <tr>\n",
       "      <th>3</th>\n",
       "      <td>SHAAH COLLECTIONS</td>\n",
       "      <td>₹498</td>\n",
       "      <td>81% off</td>\n",
       "    </tr>\n",
       "    <tr>\n",
       "      <th>4</th>\n",
       "      <td>SUNBEE</td>\n",
       "      <td>₹299</td>\n",
       "      <td>77% off</td>\n",
       "    </tr>\n",
       "    <tr>\n",
       "      <th>...</th>\n",
       "      <td>...</td>\n",
       "      <td>...</td>\n",
       "      <td>...</td>\n",
       "    </tr>\n",
       "    <tr>\n",
       "      <th>95</th>\n",
       "      <td>Resist</td>\n",
       "      <td>₹498</td>\n",
       "      <td>28% off</td>\n",
       "    </tr>\n",
       "    <tr>\n",
       "      <th>96</th>\n",
       "      <td>PIRASO</td>\n",
       "      <td>₹719</td>\n",
       "      <td>16% off</td>\n",
       "    </tr>\n",
       "    <tr>\n",
       "      <th>97</th>\n",
       "      <td>hipe</td>\n",
       "      <td>₹299</td>\n",
       "      <td>32% off</td>\n",
       "    </tr>\n",
       "    <tr>\n",
       "      <th>98</th>\n",
       "      <td>PIRASO</td>\n",
       "      <td>₹498</td>\n",
       "      <td>83% off</td>\n",
       "    </tr>\n",
       "    <tr>\n",
       "      <th>99</th>\n",
       "      <td>john jacobs</td>\n",
       "      <td>₹260</td>\n",
       "      <td>73% off</td>\n",
       "    </tr>\n",
       "  </tbody>\n",
       "</table>\n",
       "<p>100 rows × 3 columns</p>\n",
       "</div>"
      ],
      "text/plain": [
       "                Brand Price Discount\n",
       "0              PIRASO  ₹498  82% off\n",
       "1           Elligator  ₹379  74% off\n",
       "2           Elligator  ₹379  86% off\n",
       "3   SHAAH COLLECTIONS  ₹498  81% off\n",
       "4              SUNBEE  ₹299  77% off\n",
       "..                ...   ...      ...\n",
       "95             Resist  ₹498  28% off\n",
       "96             PIRASO  ₹719  16% off\n",
       "97               hipe  ₹299  32% off\n",
       "98             PIRASO  ₹498  83% off\n",
       "99        john jacobs  ₹260  73% off\n",
       "\n",
       "[100 rows x 3 columns]"
      ]
     },
     "execution_count": 29,
     "metadata": {},
     "output_type": "execute_result"
    }
   ],
   "source": [
    "import pandas as pd\n",
    "Sneaker=pd.DataFrame(())\n",
    "Sneaker['Brand']=Brand_list\n",
    "Sneaker['Price']=Price_list\n",
    "Sneaker['Discount']=Discount_list\n",
    "Sneaker.head(100)"
   ]
  },
  {
   "cell_type": "markdown",
   "id": "a9682d1f",
   "metadata": {},
   "source": [
    "# Question 7"
   ]
  },
  {
   "cell_type": "code",
   "execution_count": 189,
   "id": "c6cf2994",
   "metadata": {},
   "outputs": [],
   "source": [
    "driver=webdriver.Chrome(\"chromedriver.exe\")\n",
    "time.sleep(2)"
   ]
  },
  {
   "cell_type": "code",
   "execution_count": 190,
   "id": "0f9de0e6",
   "metadata": {},
   "outputs": [],
   "source": [
    "driver.get('https://www.myntra.com/shoes')"
   ]
  },
  {
   "cell_type": "code",
   "execution_count": 194,
   "id": "3f9e9d97",
   "metadata": {},
   "outputs": [],
   "source": [
    "filter_price=driver.find_element_by_xpath('//*[@id=\"mountRoot\"]/div/div[1]/main/div[3]/div[1]/section/div/div[5]/ul/li[2]/label/div')\n",
    "filter_price.click()"
   ]
  },
  {
   "cell_type": "code",
   "execution_count": 192,
   "id": "bc63f1fa",
   "metadata": {},
   "outputs": [],
   "source": [
    "filter_color=driver.find_element_by_xpath('//*[@id=\"mountRoot\"]/div/div[1]/main/div[3]/div[1]/section/div/div[6]/ul/li[1]/label/div')\n",
    "filter_color.click()"
   ]
  },
  {
   "cell_type": "code",
   "execution_count": 193,
   "id": "9916b92e",
   "metadata": {},
   "outputs": [],
   "source": [
    "Brand_list=[]\n",
    "Description_list=[]\n",
    "Price_list=[]\n"
   ]
  },
  {
   "cell_type": "code",
   "execution_count": 202,
   "id": "b89d63b6",
   "metadata": {},
   "outputs": [],
   "source": [
    "Brand_list=[]\n",
    "for i in range(0,2):\n",
    "    brand_tags=driver.find_elements_by_xpath('//h3[@class=\"product-brand\"]')\n",
    "    for i in brand_tags:\n",
    "        brand=i.text\n",
    "        Brand_list.append(brand)\n",
    "    next_button=driver.find_element_by_xpath('//a[@rel=\"next\"]') \n",
    "    next_button.click()    \n",
    "    time.sleep(2)"
   ]
  },
  {
   "cell_type": "code",
   "execution_count": 203,
   "id": "6c2829c7",
   "metadata": {},
   "outputs": [
    {
     "data": {
      "text/plain": [
       "100"
      ]
     },
     "execution_count": 203,
     "metadata": {},
     "output_type": "execute_result"
    }
   ],
   "source": [
    "len(Brand_list)"
   ]
  },
  {
   "cell_type": "code",
   "execution_count": 205,
   "id": "3b7267d9",
   "metadata": {},
   "outputs": [],
   "source": [
    "Description_list=[]\n",
    "for i in range(0,2):\n",
    "    description_tags=driver.find_elements_by_xpath('//h4[@class=\"product-product\"]')\n",
    "    for i in description_tags:\n",
    "        description=i.text\n",
    "        Description_list.append(description)\n",
    "    next_button=driver.find_element_by_xpath('//a[@rel=\"next\"]') \n",
    "    next_button.click()    \n",
    "    time.sleep(2)    "
   ]
  },
  {
   "cell_type": "code",
   "execution_count": 206,
   "id": "93a00d3b",
   "metadata": {},
   "outputs": [
    {
     "data": {
      "text/plain": [
       "100"
      ]
     },
     "execution_count": 206,
     "metadata": {},
     "output_type": "execute_result"
    }
   ],
   "source": [
    "len(Description_list)"
   ]
  },
  {
   "cell_type": "code",
   "execution_count": 211,
   "id": "3f94ceb5",
   "metadata": {},
   "outputs": [],
   "source": [
    "Price_list=[]\n",
    "for i in range(0,2):\n",
    "    price=driver.find_elements_by_xpath('//div[@class=\"product-price\"]')\n",
    "    for i in price:\n",
    "        price=i.text\n",
    "        Price_list.append(price)\n",
    "    next_button=driver.find_element_by_xpath('//a[@rel=\"next\"]') \n",
    "    next_button.click()    \n",
    "    time.sleep(2)   "
   ]
  },
  {
   "cell_type": "code",
   "execution_count": 212,
   "id": "23ef17dc",
   "metadata": {},
   "outputs": [
    {
     "data": {
      "text/plain": [
       "100"
      ]
     },
     "execution_count": 212,
     "metadata": {},
     "output_type": "execute_result"
    }
   ],
   "source": [
    "len(Price_list)"
   ]
  },
  {
   "cell_type": "code",
   "execution_count": null,
   "id": "757cdb40",
   "metadata": {},
   "outputs": [],
   "source": [
    "Description_list=[]\n",
    "for i in range(0,2):\n",
    "    description_tags=driver.find_elements_by_xpath('//h4[@class=\"product-product\"]')\n",
    "    for i in description_tags:\n",
    "        description=i.text\n",
    "        Description_list.append(description)\n",
    "    next_button=driver.find_element_by_xpath('//a[@rel=\"next\"]') \n",
    "    next_button.click()    \n",
    "    time.sleep(2)    "
   ]
  },
  {
   "cell_type": "code",
   "execution_count": 213,
   "id": "aa1ddfa2",
   "metadata": {},
   "outputs": [],
   "source": [
    "import pandas as pd\n",
    "myntra=pd.DataFrame(())\n",
    "myntra['Brand']=Brand_list\n",
    "myntra['Description']=Description_list\n",
    "myntra['Price']=Price_list\n"
   ]
  },
  {
   "cell_type": "code",
   "execution_count": 214,
   "id": "af5f19e2",
   "metadata": {},
   "outputs": [
    {
     "data": {
      "text/html": [
       "<div>\n",
       "<style scoped>\n",
       "    .dataframe tbody tr th:only-of-type {\n",
       "        vertical-align: middle;\n",
       "    }\n",
       "\n",
       "    .dataframe tbody tr th {\n",
       "        vertical-align: top;\n",
       "    }\n",
       "\n",
       "    .dataframe thead th {\n",
       "        text-align: right;\n",
       "    }\n",
       "</style>\n",
       "<table border=\"1\" class=\"dataframe\">\n",
       "  <thead>\n",
       "    <tr style=\"text-align: right;\">\n",
       "      <th></th>\n",
       "      <th>Brand</th>\n",
       "      <th>Description</th>\n",
       "      <th>Price</th>\n",
       "    </tr>\n",
       "  </thead>\n",
       "  <tbody>\n",
       "    <tr>\n",
       "      <th>0</th>\n",
       "      <td>Columbia</td>\n",
       "      <td>Embellished Flatform Boots</td>\n",
       "      <td>Rs. 9349Rs. 10999(15% OFF)</td>\n",
       "    </tr>\n",
       "    <tr>\n",
       "      <th>1</th>\n",
       "      <td>Xtep</td>\n",
       "      <td>Felicia Stretch Wedge Pumps</td>\n",
       "      <td>Rs. 8499Rs. 9999(15% OFF)</td>\n",
       "    </tr>\n",
       "    <tr>\n",
       "      <th>2</th>\n",
       "      <td>Heel &amp; Buckle London</td>\n",
       "      <td>Men KYRIE Basketball Shoes</td>\n",
       "      <td>Rs. 8490</td>\n",
       "    </tr>\n",
       "    <tr>\n",
       "      <th>3</th>\n",
       "      <td>Heel &amp; Buckle London</td>\n",
       "      <td>Women Sports Shoes</td>\n",
       "      <td>Rs. 8099Rs. 8999(10% OFF)</td>\n",
       "    </tr>\n",
       "    <tr>\n",
       "      <th>4</th>\n",
       "      <td>ECCO</td>\n",
       "      <td>High-Top Platform Heeled Boots</td>\n",
       "      <td>Rs. 13205Rs. 13900(5% OFF)</td>\n",
       "    </tr>\n",
       "    <tr>\n",
       "      <th>...</th>\n",
       "      <td>...</td>\n",
       "      <td>...</td>\n",
       "      <td>...</td>\n",
       "    </tr>\n",
       "    <tr>\n",
       "      <th>95</th>\n",
       "      <td>Saint G</td>\n",
       "      <td>Women Rct IR FK3 Running Shoes</td>\n",
       "      <td>Rs. 8499Rs. 16999(50% OFF)</td>\n",
       "    </tr>\n",
       "    <tr>\n",
       "      <th>96</th>\n",
       "      <td>Saint G</td>\n",
       "      <td>Men Leather Formal Derbys</td>\n",
       "      <td>Rs. 8490</td>\n",
       "    </tr>\n",
       "    <tr>\n",
       "      <th>97</th>\n",
       "      <td>Saint G</td>\n",
       "      <td>Men Leather Formal Slip-Ons</td>\n",
       "      <td>Rs. 7999</td>\n",
       "    </tr>\n",
       "    <tr>\n",
       "      <th>98</th>\n",
       "      <td>ECCO</td>\n",
       "      <td>Helsinki Bike Toe Shoes</td>\n",
       "      <td>Rs. 8499Rs. 9999(15% OFF)</td>\n",
       "    </tr>\n",
       "    <tr>\n",
       "      <th>99</th>\n",
       "      <td>Columbia</td>\n",
       "      <td>Women Leather Sneakers</td>\n",
       "      <td>Rs. 8895</td>\n",
       "    </tr>\n",
       "  </tbody>\n",
       "</table>\n",
       "<p>100 rows × 3 columns</p>\n",
       "</div>"
      ],
      "text/plain": [
       "                   Brand                     Description  \\\n",
       "0               Columbia      Embellished Flatform Boots   \n",
       "1                   Xtep     Felicia Stretch Wedge Pumps   \n",
       "2   Heel & Buckle London      Men KYRIE Basketball Shoes   \n",
       "3   Heel & Buckle London              Women Sports Shoes   \n",
       "4                   ECCO  High-Top Platform Heeled Boots   \n",
       "..                   ...                             ...   \n",
       "95               Saint G  Women Rct IR FK3 Running Shoes   \n",
       "96               Saint G       Men Leather Formal Derbys   \n",
       "97               Saint G     Men Leather Formal Slip-Ons   \n",
       "98                  ECCO         Helsinki Bike Toe Shoes   \n",
       "99              Columbia          Women Leather Sneakers   \n",
       "\n",
       "                         Price  \n",
       "0   Rs. 9349Rs. 10999(15% OFF)  \n",
       "1    Rs. 8499Rs. 9999(15% OFF)  \n",
       "2                     Rs. 8490  \n",
       "3    Rs. 8099Rs. 8999(10% OFF)  \n",
       "4   Rs. 13205Rs. 13900(5% OFF)  \n",
       "..                         ...  \n",
       "95  Rs. 8499Rs. 16999(50% OFF)  \n",
       "96                    Rs. 8490  \n",
       "97                    Rs. 7999  \n",
       "98   Rs. 8499Rs. 9999(15% OFF)  \n",
       "99                    Rs. 8895  \n",
       "\n",
       "[100 rows x 3 columns]"
      ]
     },
     "execution_count": 214,
     "metadata": {},
     "output_type": "execute_result"
    }
   ],
   "source": [
    "myntra"
   ]
  },
  {
   "cell_type": "markdown",
   "id": "7d9447d6",
   "metadata": {},
   "source": [
    "# Question 8"
   ]
  },
  {
   "cell_type": "code",
   "execution_count": 124,
   "id": "8013ba1e",
   "metadata": {},
   "outputs": [],
   "source": [
    "driver=webdriver.Chrome(\"chromedriver.exe\")\n",
    "time.sleep(2)"
   ]
  },
  {
   "cell_type": "code",
   "execution_count": 125,
   "id": "be490deb",
   "metadata": {},
   "outputs": [],
   "source": [
    "driver.get('https://www.amazon.in/')"
   ]
  },
  {
   "cell_type": "code",
   "execution_count": 126,
   "id": "df632ebe",
   "metadata": {},
   "outputs": [],
   "source": [
    "search_feild=driver.find_element_by_xpath('//input[@type=\"text\"]')\n",
    "search_feild.send_keys(\"laptop\")"
   ]
  },
  {
   "cell_type": "code",
   "execution_count": 127,
   "id": "9fb35b15",
   "metadata": {},
   "outputs": [],
   "source": [
    "search_button=driver.find_element_by_xpath('//input[@id=\"nav-search-submit-button\"]')\n",
    "search_button.click()"
   ]
  },
  {
   "cell_type": "code",
   "execution_count": 128,
   "id": "77778c15",
   "metadata": {},
   "outputs": [],
   "source": [
    "filter_i7=driver.find_element_by_xpath('//*[@id=\"p_n_feature_thirteen_browse-bin/12598163031\"]/span/a')\n",
    "filter_i7.click()"
   ]
  },
  {
   "cell_type": "code",
   "execution_count": 130,
   "id": "f8e5ec02",
   "metadata": {},
   "outputs": [],
   "source": [
    "Titles_list=[]\n",
    "Rating_list=[]\n",
    "Price_list=[]"
   ]
  },
  {
   "cell_type": "code",
   "execution_count": 143,
   "id": "340077a0",
   "metadata": {},
   "outputs": [
    {
     "data": {
      "text/plain": [
       "[<selenium.webdriver.remote.webelement.WebElement (session=\"3ff7d2dad790d455fe79d644fb80b0bf\", element=\"a870dd29-c370-486f-8447-ff5313717747\")>,\n",
       " <selenium.webdriver.remote.webelement.WebElement (session=\"3ff7d2dad790d455fe79d644fb80b0bf\", element=\"a4a5e50f-44e7-4417-a11d-92078dd8c1fd\")>,\n",
       " <selenium.webdriver.remote.webelement.WebElement (session=\"3ff7d2dad790d455fe79d644fb80b0bf\", element=\"d4cc76f9-bff0-4663-905b-8560840e6d78\")>,\n",
       " <selenium.webdriver.remote.webelement.WebElement (session=\"3ff7d2dad790d455fe79d644fb80b0bf\", element=\"8d9e76ad-bb83-48b4-aac5-e656ba770be9\")>,\n",
       " <selenium.webdriver.remote.webelement.WebElement (session=\"3ff7d2dad790d455fe79d644fb80b0bf\", element=\"27ff3b7a-ba96-40db-9a62-601fd02e164d\")>,\n",
       " <selenium.webdriver.remote.webelement.WebElement (session=\"3ff7d2dad790d455fe79d644fb80b0bf\", element=\"845878c2-b869-40cc-99e5-376782b5bf01\")>,\n",
       " <selenium.webdriver.remote.webelement.WebElement (session=\"3ff7d2dad790d455fe79d644fb80b0bf\", element=\"2db0415f-ae20-40f1-86d3-0b282187077e\")>,\n",
       " <selenium.webdriver.remote.webelement.WebElement (session=\"3ff7d2dad790d455fe79d644fb80b0bf\", element=\"dd8bdc45-fd3c-4fa8-b5bf-458f611b1d2c\")>,\n",
       " <selenium.webdriver.remote.webelement.WebElement (session=\"3ff7d2dad790d455fe79d644fb80b0bf\", element=\"7325c0fe-73de-4af1-9c1e-4cc8893efff0\")>,\n",
       " <selenium.webdriver.remote.webelement.WebElement (session=\"3ff7d2dad790d455fe79d644fb80b0bf\", element=\"6fc03ecc-a487-47c5-a9f5-eb10f924ba81\")>]"
      ]
     },
     "execution_count": 143,
     "metadata": {},
     "output_type": "execute_result"
    }
   ],
   "source": [
    "titles_tags=driver.find_elements_by_xpath('//span[@class=\"a-size-medium a-color-base a-text-normal\"]')\n",
    "titles_tags[0:10]"
   ]
  },
  {
   "cell_type": "code",
   "execution_count": null,
   "id": "dc0d4ad7",
   "metadata": {},
   "outputs": [],
   "source": [
    "for i in titles_tags:\n",
    "    title=i.text\n",
    "    Titles_list.append(title)\n",
    "Titles_list[0:10]    \n",
    "    "
   ]
  },
  {
   "cell_type": "code",
   "execution_count": 150,
   "id": "41451810",
   "metadata": {},
   "outputs": [
    {
     "data": {
      "text/plain": [
       "120"
      ]
     },
     "execution_count": 150,
     "metadata": {},
     "output_type": "execute_result"
    }
   ],
   "source": [
    "len(Titles_list)"
   ]
  },
  {
   "cell_type": "code",
   "execution_count": 158,
   "id": "e4b05457",
   "metadata": {},
   "outputs": [
    {
     "data": {
      "text/plain": [
       "[<selenium.webdriver.remote.webelement.WebElement (session=\"3ff7d2dad790d455fe79d644fb80b0bf\", element=\"5c0f2c25-563a-4ae5-8095-dd604a6d6bbf\")>]"
      ]
     },
     "execution_count": 158,
     "metadata": {},
     "output_type": "execute_result"
    }
   ],
   "source": [
    "price_tag=driver.find_elements_by_xpath('//*[@id=\"search\"]/div[1]/div[1]/div/span[3]/div[2]/div[3]/div/div/div/div/div/div/div/div[2]/div/div/div[3]/div[1]/div/div[1]/div[1]/a/span[1]/span[2]/span[2]')\n",
    "price_tag[0:10]"
   ]
  },
  {
   "cell_type": "code",
   "execution_count": null,
   "id": "c27a0118",
   "metadata": {},
   "outputs": [],
   "source": [
    "for i in price_tag:\n",
    "    price=i.text\n",
    "    Price_list.append(price)\n",
    "Price_list[0:10]    \n"
   ]
  },
  {
   "cell_type": "code",
   "execution_count": 161,
   "id": "b64f9a27",
   "metadata": {},
   "outputs": [
    {
     "data": {
      "text/plain": [
       "146"
      ]
     },
     "execution_count": 161,
     "metadata": {},
     "output_type": "execute_result"
    }
   ],
   "source": [
    "len(Price_list)"
   ]
  },
  {
   "cell_type": "code",
   "execution_count": null,
   "id": "8e7d2705",
   "metadata": {},
   "outputs": [],
   "source": [
    "rating_tag=driver.find_elements_by_xpath('//div[@class=\"a-row a-size-small\"]')\n",
    "rating_tag[0:10]"
   ]
  },
  {
   "cell_type": "code",
   "execution_count": null,
   "id": "b20c6174",
   "metadata": {},
   "outputs": [],
   "source": [
    "for i in rating_tag:\n",
    "    rating=i.text\n",
    "    Rating_list.append(rating)\n",
    "Rating_list[0:30]  "
   ]
  },
  {
   "cell_type": "code",
   "execution_count": 142,
   "id": "d86d49f2",
   "metadata": {},
   "outputs": [
    {
     "name": "stdout",
     "output_type": "stream",
     "text": [
      "60 46 58\n"
     ]
    }
   ],
   "source": [
    "print(len(Titles_list),len(Rating_list),len(Price_list))\n"
   ]
  },
  {
   "cell_type": "code",
   "execution_count": null,
   "id": "101436fe",
   "metadata": {},
   "outputs": [],
   "source": []
  },
  {
   "cell_type": "markdown",
   "id": "97ee803c",
   "metadata": {},
   "source": [
    "# Question9"
   ]
  },
  {
   "cell_type": "code",
   "execution_count": 34,
   "id": "334626be",
   "metadata": {},
   "outputs": [],
   "source": [
    "driver=webdriver.Chrome(\"chromedriver.exe\")\n",
    "time.sleep(2)"
   ]
  },
  {
   "cell_type": "code",
   "execution_count": 35,
   "id": "7846c2df",
   "metadata": {},
   "outputs": [],
   "source": [
    "driver.get('https://www.ambitionbox.com/')"
   ]
  },
  {
   "cell_type": "code",
   "execution_count": 36,
   "id": "b3bd6487",
   "metadata": {},
   "outputs": [],
   "source": [
    "job_button=driver.find_element_by_xpath('//*[@id=\"headerWrapper\"]/nav/nav/a[6]')\n",
    "job_button.click()"
   ]
  },
  {
   "cell_type": "code",
   "execution_count": 37,
   "id": "81d2ed13",
   "metadata": {},
   "outputs": [],
   "source": [
    "search_feild=driver.find_element_by_xpath('//*[@id=\"jobs-typeahead\"]/span/input')\n",
    "search_feild.send_keys(\"Data Scientist\")"
   ]
  },
  {
   "cell_type": "code",
   "execution_count": 38,
   "id": "ebfd2e38",
   "metadata": {},
   "outputs": [],
   "source": [
    "search_job=driver.find_element_by_xpath('//*[@id=\"jobs\"]/div[2]/div[1]/div[1]/div/div/div/button')\n",
    "search_job.click()"
   ]
  },
  {
   "cell_type": "code",
   "execution_count": 40,
   "id": "c25531a5",
   "metadata": {},
   "outputs": [],
   "source": [
    "search_location=driver.find_element_by_xpath('//*[@id=\"filters-row\"]/div/div/div[2]/div[2]/div/div[2]/input')\n",
    "search_location.send_keys(\"Noida\")"
   ]
  },
  {
   "cell_type": "code",
   "execution_count": 41,
   "id": "4b16bdc2",
   "metadata": {},
   "outputs": [],
   "source": [
    "filter_Noida=driver.find_element_by_xpath('//*[@id=\"filters-row\"]/div/div/div[2]/div[2]/div/div[3]/div[1]/div[1]/div/label')\n",
    "filter_Noida.click()"
   ]
  },
  {
   "cell_type": "code",
   "execution_count": 47,
   "id": "7f00ce4e",
   "metadata": {},
   "outputs": [],
   "source": [
    "\n",
    "Company_list=[]\n",
    "Number_of_days=[]\n",
    "Rating_list=[]"
   ]
  },
  {
   "cell_type": "code",
   "execution_count": null,
   "id": "5d09e41a",
   "metadata": {},
   "outputs": [],
   "source": [
    "company_tag=driver.find_elements_by_xpath('//div[@class=\"company-info\"]')\n",
    "company_tag[:]"
   ]
  },
  {
   "cell_type": "code",
   "execution_count": null,
   "id": "3e67037d",
   "metadata": {},
   "outputs": [],
   "source": [
    "for i in company_tag:\n",
    "    company=i.text\n",
    "    Company_list.append(company)\n",
    "Company_list[0:10]  "
   ]
  },
  {
   "cell_type": "code",
   "execution_count": 121,
   "id": "9fd4b236",
   "metadata": {},
   "outputs": [
    {
     "data": {
      "text/plain": [
       "[<selenium.webdriver.remote.webelement.WebElement (session=\"17971f29912d8c8fe0faa3f1a75ed217\", element=\"cce4994b-060f-45ce-87ae-13061bcf3f59\")>]"
      ]
     },
     "execution_count": 121,
     "metadata": {},
     "output_type": "execute_result"
    }
   ],
   "source": [
    "days_tag=driver.find_elements_by_xpath('//*[@id=\"jobsList\"]/div[2]/div[2]/div/div[1]/div[10]/div[3]/span[1]')\n",
    "days_tag[0:]"
   ]
  },
  {
   "cell_type": "code",
   "execution_count": null,
   "id": "b25bb549",
   "metadata": {},
   "outputs": [],
   "source": [
    "for i in days_tag:\n",
    "    days=i.text\n",
    "    Number_of_days.append(days)\n",
    "Number_of_days[:100]  "
   ]
  },
  {
   "cell_type": "code",
   "execution_count": 123,
   "id": "e27b8609",
   "metadata": {},
   "outputs": [
    {
     "data": {
      "text/plain": [
       "91"
      ]
     },
     "execution_count": 123,
     "metadata": {},
     "output_type": "execute_result"
    }
   ],
   "source": [
    "len(Number_of_days)"
   ]
  },
  {
   "cell_type": "code",
   "execution_count": null,
   "id": "9435e948",
   "metadata": {},
   "outputs": [],
   "source": []
  },
  {
   "cell_type": "code",
   "execution_count": null,
   "id": "72e5766d",
   "metadata": {},
   "outputs": [],
   "source": []
  },
  {
   "cell_type": "markdown",
   "id": "4c9b4811",
   "metadata": {},
   "source": [
    "# Question 10"
   ]
  },
  {
   "cell_type": "code",
   "execution_count": 219,
   "id": "84879c5b",
   "metadata": {},
   "outputs": [],
   "source": [
    "driver=webdriver.Chrome(\"chromedriver.exe\")\n",
    "time.sleep(2)"
   ]
  },
  {
   "cell_type": "code",
   "execution_count": 220,
   "id": "7d86f00a",
   "metadata": {},
   "outputs": [],
   "source": [
    "driver.get('https://www.ambitionbox.com/')"
   ]
  },
  {
   "cell_type": "code",
   "execution_count": 221,
   "id": "53af8043",
   "metadata": {},
   "outputs": [],
   "source": [
    "salary_button=driver.find_element_by_xpath('//*[@id=\"headerWrapper\"]/nav/nav/a[4]')\n",
    "salary_button.click()"
   ]
  },
  {
   "cell_type": "code",
   "execution_count": 222,
   "id": "89fbd553",
   "metadata": {},
   "outputs": [],
   "source": [
    "search_feild=driver.find_element_by_xpath('//*[@id=\"fixed-typeahead\"]/div/div/div[1]/span/input')\n",
    "search_feild.send_keys(\"Data Scientist\")"
   ]
  },
  {
   "cell_type": "code",
   "execution_count": 223,
   "id": "e205cb9b",
   "metadata": {},
   "outputs": [],
   "source": [
    "comparision_job=driver.find_element_by_xpath('//*[@id=\"jobProfileSearchbox\"]')\n",
    "comparision_job.send_keys(\"Data Scientist\")"
   ]
  },
  {
   "cell_type": "code",
   "execution_count": null,
   "id": "acd95d7f",
   "metadata": {},
   "outputs": [],
   "source": []
  },
  {
   "cell_type": "code",
   "execution_count": 234,
   "id": "2bd90886",
   "metadata": {},
   "outputs": [],
   "source": [
    "company_list=[]\n",
    "experince_list=[]\n",
    "minimum_list=[]\n",
    "maximum_list=[]\n",
    "average_list=[]"
   ]
  },
  {
   "cell_type": "code",
   "execution_count": null,
   "id": "4e5c9441",
   "metadata": {},
   "outputs": [],
   "source": [
    "company_tags=driver.find_elements_by_xpath(\"//div[@class='company-info']\")\n",
    "company_tags[0:10]"
   ]
  },
  {
   "cell_type": "code",
   "execution_count": null,
   "id": "803171ee",
   "metadata": {},
   "outputs": [],
   "source": [
    "\n",
    "for i in company_tags:\n",
    "    company=i.text\n",
    "    company_list.append(company)\n",
    "company_list[0:10] "
   ]
  },
  {
   "cell_type": "code",
   "execution_count": null,
   "id": "9f7434b0",
   "metadata": {},
   "outputs": [],
   "source": [
    "experince_tags=driver.find_elements_by_xpath('//div[@class=\"salaries sbold-list-header\"]')\n",
    "experince_tags[0:10]"
   ]
  },
  {
   "cell_type": "code",
   "execution_count": null,
   "id": "7bb698c4",
   "metadata": {},
   "outputs": [],
   "source": [
    "\n",
    "for i in experince_tags:\n",
    "    experince=i.text\n",
    "    experince_list.append(experince)\n",
    "experince_list[:] "
   ]
  },
  {
   "cell_type": "code",
   "execution_count": null,
   "id": "8579533d",
   "metadata": {},
   "outputs": [],
   "source": []
  }
 ],
 "metadata": {
  "kernelspec": {
   "display_name": "Python 3 (ipykernel)",
   "language": "python",
   "name": "python3"
  },
  "language_info": {
   "codemirror_mode": {
    "name": "ipython",
    "version": 3
   },
   "file_extension": ".py",
   "mimetype": "text/x-python",
   "name": "python",
   "nbconvert_exporter": "python",
   "pygments_lexer": "ipython3",
   "version": "3.9.7"
  }
 },
 "nbformat": 4,
 "nbformat_minor": 5
}
