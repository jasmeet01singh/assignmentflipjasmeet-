{
 "cells": [
  {
   "cell_type": "markdown",
   "id": "7100c794",
   "metadata": {},
   "source": [
    "# Question 2 and 3 IMDB'S"
   ]
  },
  {
   "cell_type": "code",
   "execution_count": null,
   "id": "002111b3",
   "metadata": {},
   "outputs": [],
   "source": [
    "!pip install bs4\n",
    "!pip install requests"
   ]
  },
  {
   "cell_type": "code",
   "execution_count": null,
   "id": "5251933d",
   "metadata": {},
   "outputs": [],
   "source": [
    "from bs4 import BeautifulSoup\n",
    "import requests"
   ]
  },
  {
   "cell_type": "code",
   "execution_count": null,
   "id": "753ec518",
   "metadata": {},
   "outputs": [],
   "source": [
    "page = requests.get('https://www.imdb.com/india/top-rated-indian-movies')"
   ]
  },
  {
   "cell_type": "code",
   "execution_count": null,
   "id": "d798460b",
   "metadata": {},
   "outputs": [],
   "source": [
    "page"
   ]
  },
  {
   "cell_type": "code",
   "execution_count": null,
   "id": "b313979f",
   "metadata": {},
   "outputs": [],
   "source": [
    "soup = BeautifulSoup(page.content)\n",
    "soup"
   ]
  },
  {
   "cell_type": "code",
   "execution_count": null,
   "id": "9225a4fb",
   "metadata": {},
   "outputs": [],
   "source": [
    "titles=[]\n",
    "\n",
    "for i in soup.find_all('td',class_=\"titleColumn\"):\n",
    "    titles.append(i.text)\n",
    "    \n",
    "    \n",
    "titles"
   ]
  },
  {
   "cell_type": "code",
   "execution_count": null,
   "id": "5e7ce0be",
   "metadata": {},
   "outputs": [],
   "source": [
    "rating=[]\n",
    "\n",
    "for i in soup.find_all('td',class_=\"ratingColumn imdbRating\"):\n",
    "    rating.append(i.text)\n",
    "    \n",
    "rating"
   ]
  },
  {
   "cell_type": "code",
   "execution_count": null,
   "id": "351e7a66",
   "metadata": {},
   "outputs": [],
   "source": [
    "year=[]\n",
    "for i  in soup.find_all('span',class_=\"secondaryInfo\"):\n",
    "        year.append(i.text)\n",
    "year             "
   ]
  },
  {
   "cell_type": "code",
   "execution_count": null,
   "id": "ff6e1e32",
   "metadata": {},
   "outputs": [],
   "source": [
    "print(len(titles),len(rating),len(year))"
   ]
  },
  {
   "cell_type": "code",
   "execution_count": null,
   "id": "c6b4b831",
   "metadata": {},
   "outputs": [],
   "source": [
    "#data frame\n",
    "\n",
    "import pandas as pd\n",
    "df= pd.DataFrame({'Titles':titles,'Rating':rating,'Year':year})\n",
    "df"
   ]
  },
  {
   "cell_type": "code",
   "execution_count": null,
   "id": "951fea0e",
   "metadata": {},
   "outputs": [],
   "source": [
    "print(df.iloc[0:100])"
   ]
  },
  {
   "cell_type": "markdown",
   "id": "ae605ca9",
   "metadata": {},
   "source": [
    "# Question 4"
   ]
  },
  {
   "cell_type": "code",
   "execution_count": null,
   "id": "ac613a4b",
   "metadata": {},
   "outputs": [],
   "source": [
    "page = requests.get('https://meesho.com/bags-ladies/pl/p7vbp')\n",
    "page"
   ]
  },
  {
   "cell_type": "code",
   "execution_count": null,
   "id": "94875253",
   "metadata": {},
   "outputs": [],
   "source": [
    "soup = BeautifulSoup(page.content)\n",
    "soup               "
   ]
  },
  {
   "cell_type": "code",
   "execution_count": null,
   "id": "a734a3ea",
   "metadata": {},
   "outputs": [],
   "source": [
    "name=[]\n",
    "\n",
    "for i in soup.find_all('p',class_=\"Text__StyledText-sc-oo0kvp-0 bWSOET NewProductCard__ProductTitle_Desktop-sc-j0e7tu-4 cQhePS NewProductCard__ProductTitle_Desktop-sc-j0e7tu-4 cQhePS\"):\n",
    "    name.append(i.text)\n",
    "name"
   ]
  },
  {
   "cell_type": "code",
   "execution_count": null,
   "id": "eff3968b",
   "metadata": {},
   "outputs": [],
   "source": [
    "price=[]\n",
    "\n",
    "for i in soup.find_all('h5',class_='Text__StyledText-sc-oo0kvp-0 hiHdyy'):\n",
    "    price.append(i.text)\n",
    "\n",
    "price "
   ]
  },
  {
   "cell_type": "code",
   "execution_count": null,
   "id": "1d7698e8",
   "metadata": {},
   "outputs": [],
   "source": [
    "discount=[]\n",
    "for i in soup.find_all('span',class_=\"Text__StyledText-sc-oo0kvp-0 lnonyH\"):\n",
    "    discount.append(i.text)\n",
    "\n",
    "discount    \n",
    "\n",
    "    "
   ]
  },
  {
   "cell_type": "code",
   "execution_count": null,
   "id": "842bee07",
   "metadata": {},
   "outputs": [],
   "source": [
    "print(len(name),len(price),len(discount))\n"
   ]
  },
  {
   "cell_type": "code",
   "execution_count": null,
   "id": "91b22951",
   "metadata": {},
   "outputs": [],
   "source": [
    "import pandas as pd\n",
    "df=pd.DataFrame({'Name':name,'Price':price,'Discount':discount})\n",
    "df"
   ]
  },
  {
   "cell_type": "markdown",
   "id": "6e463397",
   "metadata": {},
   "source": [
    "# Question 5 https://www.icc-cricket.com/rankings/mens/team-rankings/"
   ]
  },
  {
   "cell_type": "code",
   "execution_count": null,
   "id": "aedce4e1",
   "metadata": {},
   "outputs": [],
   "source": [
    "page=requests.get('https://www.icc-cricket.com/rankings/mens/team-rankings/odi')\n",
    "page"
   ]
  },
  {
   "cell_type": "code",
   "execution_count": null,
   "id": "53c2cdb1",
   "metadata": {},
   "outputs": [],
   "source": [
    "soup = BeautifulSoup(page.content)\n",
    "soup"
   ]
  },
  {
   "cell_type": "code",
   "execution_count": null,
   "id": "4b766fde",
   "metadata": {},
   "outputs": [],
   "source": [
    "name=[]\n",
    "for i in soup.find_all('span',class_=\"u-hide-phablet\"):\n",
    "    name.append(i.text)\n",
    "name    "
   ]
  },
  {
   "cell_type": "code",
   "execution_count": null,
   "id": "e4067803",
   "metadata": {},
   "outputs": [],
   "source": [
    "matches=[]\n",
    "for i in soup.find_all('tr',class_=\"table-body\"):\n",
    "    matches.append(i.text.split()[3:4])\n",
    "matches    "
   ]
  },
  {
   "cell_type": "code",
   "execution_count": null,
   "id": "73c9abb4",
   "metadata": {},
   "outputs": [],
   "source": [
    "print(len(name),len(matches))"
   ]
  },
  {
   "cell_type": "code",
   "execution_count": null,
   "id": "bbbb4985",
   "metadata": {},
   "outputs": [],
   "source": []
  },
  {
   "cell_type": "code",
   "execution_count": null,
   "id": "7abad8de",
   "metadata": {},
   "outputs": [],
   "source": [
    "match=soup.find('td',class_=\"table-body__cell u-center-text\")\n",
    "match.text"
   ]
  },
  {
   "cell_type": "code",
   "execution_count": null,
   "id": "40becd12",
   "metadata": {},
   "outputs": [],
   "source": []
  },
  {
   "cell_type": "code",
   "execution_count": null,
   "id": "720c0ed5",
   "metadata": {},
   "outputs": [],
   "source": [
    "page=requests.get('https://www.icc-cricket.com/rankings/mens/player-rankings/odi/batting')\n",
    "page"
   ]
  },
  {
   "cell_type": "code",
   "execution_count": null,
   "id": "4e74ffe1",
   "metadata": {},
   "outputs": [],
   "source": [
    "soup=BeautifulSoup(page.content)\n",
    "soup"
   ]
  },
  {
   "cell_type": "code",
   "execution_count": null,
   "id": "4708f96c",
   "metadata": {},
   "outputs": [],
   "source": []
  },
  {
   "cell_type": "code",
   "execution_count": null,
   "id": "eb18607f",
   "metadata": {},
   "outputs": [],
   "source": []
  },
  {
   "cell_type": "code",
   "execution_count": null,
   "id": "2e05cf91",
   "metadata": {},
   "outputs": [],
   "source": []
  },
  {
   "cell_type": "code",
   "execution_count": null,
   "id": "e69fa1ee",
   "metadata": {},
   "outputs": [],
   "source": []
  },
  {
   "cell_type": "markdown",
   "id": "3752a5b2",
   "metadata": {},
   "source": [
    "# Question 7 (https://coreyms.com/)"
   ]
  },
  {
   "cell_type": "code",
   "execution_count": null,
   "id": "12a3c473",
   "metadata": {},
   "outputs": [],
   "source": [
    "page=requests.get('https://coreyms.com/')\n",
    "page"
   ]
  },
  {
   "cell_type": "code",
   "execution_count": null,
   "id": "356a7c63",
   "metadata": {},
   "outputs": [],
   "source": [
    "soup=BeautifulSoup(page.content)\n",
    "soup"
   ]
  },
  {
   "cell_type": "code",
   "execution_count": null,
   "id": "a212f557",
   "metadata": {},
   "outputs": [],
   "source": [
    "heading = []\n",
    "for i in soup.find_all('h2',class_=\"entry-title\"):\n",
    "    heading.append(i.text)\n",
    "heading    "
   ]
  },
  {
   "cell_type": "code",
   "execution_count": null,
   "id": "3e822b95",
   "metadata": {},
   "outputs": [],
   "source": [
    "date=[]\n",
    "for i in soup.find_all('time',class_=\"entry-time\"):\n",
    "    date.append(i.text)\n",
    "date"
   ]
  },
  {
   "cell_type": "code",
   "execution_count": null,
   "id": "6f7c9523",
   "metadata": {
    "scrolled": true
   },
   "outputs": [],
   "source": [
    "content=[]\n",
    "for i in soup.find_all('div',class_=\"entry-content\"):\n",
    "    content.append(i.text)\n",
    "content    "
   ]
  },
  {
   "cell_type": "code",
   "execution_count": null,
   "id": "2911c326",
   "metadata": {},
   "outputs": [],
   "source": [
    "url=[]\n",
    "for i in soup.find_all('div',class_=\"ytp-cued-thumbnail-overlay-image\"):\n",
    "    url.append(i.text)\n",
    "url    "
   ]
  },
  {
   "cell_type": "code",
   "execution_count": null,
   "id": "839ab523",
   "metadata": {},
   "outputs": [],
   "source": [
    "print(len(heading),len(date),len(content))"
   ]
  },
  {
   "cell_type": "code",
   "execution_count": null,
   "id": "f42ca285",
   "metadata": {},
   "outputs": [],
   "source": [
    "import pandas as pd\n",
    "df=pd.DataFrame({'Heading':heading,'Date':date,'Content':content})\n",
    "df"
   ]
  },
  {
   "cell_type": "markdown",
   "id": "2adc2ffb",
   "metadata": {},
   "source": [
    "# question 8 https://www.nobroker.in/property/sale/hyderabad/Indira%20Nagar?searchParam=W3sibGF0IjoxNy40NDc0NDc1LCJsb24iOjc4LjM1NjkyNzUsInBsYWNlSWQiOiJDaElKZzVwcF9KU1R5enNSaHBYNzU2M2VkX2ciLCJwbGFjZU5hbWUiOiJJbmRpcmEgTmFnYXIifV0=&radius=2.0&city=hyderabad&locality=Indira%20Nagar"
   ]
  },
  {
   "cell_type": "code",
   "execution_count": null,
   "id": "2b0fd5b2",
   "metadata": {},
   "outputs": [],
   "source": [
    "page =requests.get('https://www.nobroker.in/property/sale/bangalore/multiple?searchParam=W3sibGF0IjoxMi45NzgzNjkyLCJsb24iOjc3LjY0MDgzNTYsInBsYWNlSWQiOiJDaElKa1FOM0dLUVdyanNSTmhCUUpyaEdEN1UiLCJwbGFjZU5hbWUiOiJJbmRpcmFuYWdhciJ9LHsibGF0IjoxMi45MzA3NzM1LCJsb24iOjc3LjU4MzgzMDIsInBsYWNlSWQiOiJDaElKMmRkbFo1Z1ZyanNSaDFCT0FhZi1vcnMiLCJwbGFjZU5hbWUiOiJKYXlhbmFnYXIifSx7ImxhdCI6MTIuOTk4MTczMiwibG9uIjo3Ny41NTMwNDQ1OTk5OTk5OSwicGxhY2VJZCI6IkNoSUp4Zlc0RFBNOXJqc1JLc05URy01cF9RUSIsInBsYWNlTmFtZSI6IlJhamFqaW5hZ2FyIn1d&radius=2.0&city=bangalore&locality=Indiranagar,&locality=Jayanagar,&locality=Rajajinagar')\n",
    "page"
   ]
  },
  {
   "cell_type": "code",
   "execution_count": null,
   "id": "b47618a1",
   "metadata": {},
   "outputs": [],
   "source": [
    "soup=BeautifulSoup(page.content)\n",
    "soup"
   ]
  },
  {
   "cell_type": "code",
   "execution_count": null,
   "id": "73ab7a49",
   "metadata": {},
   "outputs": [],
   "source": [
    "title=[]\n",
    "for i in soup.find_all('span',class_=\"overflow-hidden overflow-ellipsis whitespace-nowrap max-w-80pe po:max-w-full\"):\n",
    "    title.append(i.text)\n",
    "title    "
   ]
  },
  {
   "cell_type": "code",
   "execution_count": null,
   "id": "b31c5030",
   "metadata": {},
   "outputs": [],
   "source": [
    "location=[]\n",
    "for i in soup.find_all('div',class_=\"mt-0.5p overflow-hidden overflow-ellipsis whitespace-nowrap max-w-70 text-gray-light leading-4 po:mb-0 po:max-w-95\"):\n",
    "    location.append(i.text)\n",
    "location    "
   ]
  },
  {
   "cell_type": "code",
   "execution_count": null,
   "id": "c8f9bfac",
   "metadata": {},
   "outputs": [],
   "source": [
    "price=[]\n",
    "for i in soup.find_all('div',class_=\"flex flex-col w-33pe items-center bo tp:w-half po:w-full border-r-0\"):\n",
    "    price.append(i.text)\n",
    "price"
   ]
  },
  {
   "cell_type": "code",
   "execution_count": null,
   "id": "02b968d7",
   "metadata": {},
   "outputs": [],
   "source": [
    "print(len(title),len(location),len(price))"
   ]
  },
  {
   "cell_type": "code",
   "execution_count": null,
   "id": "d31a56be",
   "metadata": {},
   "outputs": [],
   "source": [
    "import pandas as pd\n",
    "df=pd.DataFrame({'Title':title,'Location':location,'Price':price})\n",
    "df"
   ]
  },
  {
   "cell_type": "markdown",
   "id": "34232f44",
   "metadata": {},
   "source": [
    "# Quetsion 9 https://www.dineout.co.in/delhi-restaurants/welcome-back"
   ]
  },
  {
   "cell_type": "code",
   "execution_count": null,
   "id": "a294e33c",
   "metadata": {},
   "outputs": [],
   "source": [
    "page=requests.get('https://www.dineout.co.in/delhi-restaurants/welcome-back')\n",
    "page"
   ]
  },
  {
   "cell_type": "code",
   "execution_count": null,
   "id": "ece6e543",
   "metadata": {},
   "outputs": [],
   "source": [
    "soup=BeautifulSoup(page.content)\n",
    "soup"
   ]
  },
  {
   "cell_type": "code",
   "execution_count": null,
   "id": "38f19274",
   "metadata": {},
   "outputs": [],
   "source": [
    "names=[]\n",
    "for i in soup.find_all('div',class_=\"restnt-info cursor\"):\n",
    "    names.append(i.text)\n",
    "names   "
   ]
  },
  {
   "cell_type": "code",
   "execution_count": null,
   "id": "3d01ccba",
   "metadata": {},
   "outputs": [],
   "source": [
    "location=[]\n",
    "for i in soup.find_all('div',class_=\"restnt-loc ellipsis\"):\n",
    "    location.append(i.text)\n",
    "location    "
   ]
  },
  {
   "cell_type": "code",
   "execution_count": null,
   "id": "d45f22f9",
   "metadata": {},
   "outputs": [],
   "source": [
    "rating=[]\n",
    "for i in soup.find_all('div',class_=\"restnt-rating rating-4\"):\n",
    "    rating.append(i.text)\n",
    "rating    "
   ]
  },
  {
   "cell_type": "code",
   "execution_count": null,
   "id": "e89f5bbb",
   "metadata": {},
   "outputs": [],
   "source": [
    "image=[]\n",
    "for i in soup.find_all('img',class_=\"no-img\"):\n",
    "    image.append(i['data-src'])\n",
    "image    "
   ]
  },
  {
   "cell_type": "code",
   "execution_count": null,
   "id": "87f086d2",
   "metadata": {},
   "outputs": [],
   "source": [
    "cuisine=[]\n",
    "for i in soup.find_all('span',class_=\"double-line-ellipsis\"):\n",
    "    cuisine.append(i.text)\n",
    "cuisine    "
   ]
  },
  {
   "cell_type": "code",
   "execution_count": null,
   "id": "4ac80fb8",
   "metadata": {},
   "outputs": [],
   "source": [
    "print(len(names),len(location),len(rating),len(image),len(cuisine))"
   ]
  },
  {
   "cell_type": "code",
   "execution_count": null,
   "id": "f70e98d6",
   "metadata": {},
   "outputs": [],
   "source": [
    "import pandas as pd\n",
    "df=pd.DataFrame({'Names':names,'Location':location,'Rating':rating,'Image':image,'Cuisine':cuisine})\n",
    "df"
   ]
  },
  {
   "cell_type": "markdown",
   "id": "df36feab",
   "metadata": {},
   "source": [
    "# question 10 https://www.bewakoof.com/women-printed-t-shirts"
   ]
  },
  {
   "cell_type": "code",
   "execution_count": null,
   "id": "db385539",
   "metadata": {},
   "outputs": [],
   "source": [
    "page=requests.get('https://www.bewakoof.com/women-plain-t-shirts')\n",
    "page"
   ]
  },
  {
   "cell_type": "code",
   "execution_count": null,
   "id": "c929f77d",
   "metadata": {},
   "outputs": [],
   "source": [
    "soup=BeautifulSoup(page.content)\n",
    "soup"
   ]
  },
  {
   "cell_type": "code",
   "execution_count": null,
   "id": "253b12c4",
   "metadata": {},
   "outputs": [],
   "source": [
    "name=[]\n",
    "for i in soup.find_all('div',class_=\"productCardBox\"):\n",
    "    name.append(i.text.split()[0:5])\n",
    "name"
   ]
  },
  {
   "cell_type": "code",
   "execution_count": null,
   "id": "b6f042e5",
   "metadata": {},
   "outputs": [],
   "source": [
    "price=[]\n",
    "for i in soup.find_all('span',class_=\"discountedPriceText\"):    \n",
    "    price.append(i.text)\n",
    "price    "
   ]
  },
  {
   "cell_type": "code",
   "execution_count": null,
   "id": "9c8625ea",
   "metadata": {},
   "outputs": [],
   "source": [
    "image=[]\n",
    "for i in soup.find_all('div',style=\"width: 100%; padding-top: 125%; position: relative; background: rgb(248, 248, 249);\"):\n",
    "    image.append(i.text)\n",
    "image    "
   ]
  },
  {
   "cell_type": "code",
   "execution_count": null,
   "id": "890964b3",
   "metadata": {},
   "outputs": [],
   "source": [
    "print(len(name),len(price))\n",
    "      \n",
    "\n"
   ]
  },
  {
   "cell_type": "code",
   "execution_count": null,
   "id": "0dcc6b1d",
   "metadata": {},
   "outputs": [],
   "source": [
    "import pandas as pd\n",
    "df=pd.DataFrame({'Name':name,'Price':price})\n",
    "df"
   ]
  },
  {
   "cell_type": "code",
   "execution_count": null,
   "id": "79d81d80",
   "metadata": {},
   "outputs": [],
   "source": [
    "print(df.iloc[0:10])"
   ]
  },
  {
   "cell_type": "code",
   "execution_count": null,
   "id": "48331cc5",
   "metadata": {},
   "outputs": [],
   "source": []
  },
  {
   "cell_type": "code",
   "execution_count": null,
   "id": "5e8dd165",
   "metadata": {},
   "outputs": [],
   "source": []
  }
 ],
 "metadata": {
  "kernelspec": {
   "display_name": "Python 3 (ipykernel)",
   "language": "python",
   "name": "python3"
  },
  "language_info": {
   "codemirror_mode": {
    "name": "ipython",
    "version": 3
   },
   "file_extension": ".py",
   "mimetype": "text/x-python",
   "name": "python",
   "nbconvert_exporter": "python",
   "pygments_lexer": "ipython3",
   "version": "3.9.7"
  }
 },
 "nbformat": 4,
 "nbformat_minor": 5
}
